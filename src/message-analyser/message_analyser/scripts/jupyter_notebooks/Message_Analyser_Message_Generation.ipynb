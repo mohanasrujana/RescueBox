{
  "nbformat": 4,
  "nbformat_minor": 0,
  "metadata": {
    "colab": {
      "provenance": []
    },
    "kernelspec": {
      "name": "python3",
      "display_name": "Python 3"
    },
    "language_info": {
      "name": "python"
    }
  },
  "cells": [
    {
      "cell_type": "code",
      "source": [
        "from google.colab import userdata\n",
        "gemini_key = userdata.get('gemini_key')"
      ],
      "metadata": {
        "id": "CmsDBf4eiN6H"
      },
      "execution_count": 129,
      "outputs": []
    },
    {
      "cell_type": "code",
      "source": [
        "import os\n",
        "import torch\n",
        "import random\n",
        "random.seed(28)\n",
        "import json\n",
        "import csv"
      ],
      "metadata": {
        "id": "3ryCUEnFiXdR"
      },
      "execution_count": 130,
      "outputs": []
    },
    {
      "cell_type": "code",
      "execution_count": 131,
      "metadata": {
        "id": "2Ug1MNhieP54"
      },
      "outputs": [],
      "source": [
        "def gemini_setup(api_key):\n",
        "    os.system(\"pip install -q -U google-generativeai\")\n",
        "    import google.generativeai as genai\n",
        "    genai.configure(api_key=gemini_key)\n",
        "    glm_config = genai.GenerationConfig(temperature=0.99)\n",
        "    safety_settings = [\n",
        "        {\"category\": \"HARM_CATEGORY_DANGEROUS\", \"threshold\": \"BLOCK_NONE\"},\n",
        "        {\"category\": \"HARM_CATEGORY_HARASSMENT\", \"threshold\": \"BLOCK_NONE\"},\n",
        "        {\"category\": \"HARM_CATEGORY_HATE_SPEECH\", \"threshold\": \"BLOCK_NONE\"},\n",
        "        {\"category\": \"HARM_CATEGORY_SEXUALLY_EXPLICIT\", \"threshold\": \"BLOCK_NONE\"},\n",
        "        {\"category\": \"HARM_CATEGORY_DANGEROUS_CONTENT\", \"threshold\": \"BLOCK_NONE\"},\n",
        "    ]\n",
        "    gemini_model = genai.GenerativeModel('gemini-2.0-flash', generation_config=glm_config, safety_settings=safety_settings)\n",
        "    return gemini_model\n",
        "\n",
        "device = torch.device(\"cuda\" if torch.cuda.is_available() else 'cpu')"
      ]
    },
    {
      "cell_type": "code",
      "source": [],
      "metadata": {
        "id": "cLJTYyIIhXsm"
      },
      "execution_count": null,
      "outputs": []
    },
    {
      "cell_type": "code",
      "source": [
        "gemini_model = gemini_setup(gemini_key)"
      ],
      "metadata": {
        "id": "9HtMh_-UhCSl"
      },
      "execution_count": 132,
      "outputs": []
    },
    {
      "cell_type": "code",
      "source": [
        "def populate_data_for_permutations(prompt, data_content):\n",
        "  data_list = []\n",
        "  response = gemini_model.generate_content(contents= prompt)\n",
        "  for i in response.text.strip().split('\\n'):\n",
        "    data_list.append(i)\n",
        "  print(\"The data generated for {}:{}\\n The length of the list is: {}\".format(data_content,data_list,len(data_list)))\n",
        "  return data_list"
      ],
      "metadata": {
        "id": "XM6vyzwBlJJb"
      },
      "execution_count": 133,
      "outputs": []
    },
    {
      "cell_type": "code",
      "source": [
        "def convert_list_to_txt(list_,filename):\n",
        "  with open(filename,'w+') as f:\n",
        "    for item in list_:\n",
        "      f.write(\"%s\\n\" %item)\n",
        "  print(\"List converted to {}\".format(filename))\n"
      ],
      "metadata": {
        "id": "yQ_JBoO8wJk2"
      },
      "execution_count": null,
      "outputs": []
    },
    {
      "cell_type": "code",
      "source": [
        "prompt_cities = (\"List 100 different cities from the US with maximum crime rates. Make each city as a text in a seperate line. Dont include another other text.\")\n",
        "cities = populate_data_for_permutations(prompt_cities,\"cities\")"
      ],
      "metadata": {
        "colab": {
          "base_uri": "https://localhost:8080/",
          "height": 304
        },
        "id": "_v1tjnoo0Xga",
        "outputId": "1df2a9d6-2bdf-4492-e0a5-ac93cf082c1f"
      },
      "execution_count": 136,
      "outputs": [
        {
          "output_type": "error",
          "ename": "KeyboardInterrupt",
          "evalue": "",
          "traceback": [
            "\u001b[0;31m---------------------------------------------------------------------------\u001b[0m",
            "\u001b[0;31mKeyboardInterrupt\u001b[0m                         Traceback (most recent call last)",
            "\u001b[0;32m<ipython-input-136-36515c886375>\u001b[0m in \u001b[0;36m<cell line: 0>\u001b[0;34m()\u001b[0m\n\u001b[1;32m      1\u001b[0m \u001b[0mprompt_cities\u001b[0m \u001b[0;34m=\u001b[0m \u001b[0;34m(\u001b[0m\u001b[0;34m\"List 100 different cities from the US with maximum crime rates. Make each city as a text in a seperate line. Dont include another other text.\"\u001b[0m\u001b[0;34m)\u001b[0m\u001b[0;34m\u001b[0m\u001b[0;34m\u001b[0m\u001b[0m\n\u001b[0;32m----> 2\u001b[0;31m \u001b[0mcities\u001b[0m \u001b[0;34m=\u001b[0m \u001b[0mpopulate_data_for_permutations\u001b[0m\u001b[0;34m(\u001b[0m\u001b[0mprompt_cities\u001b[0m\u001b[0;34m,\u001b[0m\u001b[0;34m\"cities\"\u001b[0m\u001b[0;34m)\u001b[0m\u001b[0;34m\u001b[0m\u001b[0;34m\u001b[0m\u001b[0m\n\u001b[0m",
            "\u001b[0;32m<ipython-input-133-e1e83b932f84>\u001b[0m in \u001b[0;36mpopulate_data_for_permutations\u001b[0;34m(prompt, data_content)\u001b[0m\n\u001b[1;32m      1\u001b[0m \u001b[0;32mdef\u001b[0m \u001b[0mpopulate_data_for_permutations\u001b[0m\u001b[0;34m(\u001b[0m\u001b[0mprompt\u001b[0m\u001b[0;34m,\u001b[0m \u001b[0mdata_content\u001b[0m\u001b[0;34m)\u001b[0m\u001b[0;34m:\u001b[0m\u001b[0;34m\u001b[0m\u001b[0;34m\u001b[0m\u001b[0m\n\u001b[1;32m      2\u001b[0m   \u001b[0mdata_list\u001b[0m \u001b[0;34m=\u001b[0m \u001b[0;34m[\u001b[0m\u001b[0;34m]\u001b[0m\u001b[0;34m\u001b[0m\u001b[0;34m\u001b[0m\u001b[0m\n\u001b[0;32m----> 3\u001b[0;31m   \u001b[0mresponse\u001b[0m \u001b[0;34m=\u001b[0m \u001b[0mgemini_model\u001b[0m\u001b[0;34m.\u001b[0m\u001b[0mgenerate_content\u001b[0m\u001b[0;34m(\u001b[0m\u001b[0mcontents\u001b[0m\u001b[0;34m=\u001b[0m \u001b[0mprompt\u001b[0m\u001b[0;34m)\u001b[0m\u001b[0;34m\u001b[0m\u001b[0;34m\u001b[0m\u001b[0m\n\u001b[0m\u001b[1;32m      4\u001b[0m   \u001b[0;32mfor\u001b[0m \u001b[0mi\u001b[0m \u001b[0;32min\u001b[0m \u001b[0mresponse\u001b[0m\u001b[0;34m.\u001b[0m\u001b[0mtext\u001b[0m\u001b[0;34m.\u001b[0m\u001b[0mstrip\u001b[0m\u001b[0;34m(\u001b[0m\u001b[0;34m)\u001b[0m\u001b[0;34m.\u001b[0m\u001b[0msplit\u001b[0m\u001b[0;34m(\u001b[0m\u001b[0;34m'\\n'\u001b[0m\u001b[0;34m)\u001b[0m\u001b[0;34m:\u001b[0m\u001b[0;34m\u001b[0m\u001b[0;34m\u001b[0m\u001b[0m\n\u001b[1;32m      5\u001b[0m     \u001b[0mdata_list\u001b[0m\u001b[0;34m.\u001b[0m\u001b[0mappend\u001b[0m\u001b[0;34m(\u001b[0m\u001b[0mi\u001b[0m\u001b[0;34m)\u001b[0m\u001b[0;34m\u001b[0m\u001b[0;34m\u001b[0m\u001b[0m\n",
            "\u001b[0;32m/usr/local/lib/python3.11/dist-packages/google/generativeai/generative_models.py\u001b[0m in \u001b[0;36mgenerate_content\u001b[0;34m(self, contents, generation_config, safety_settings, stream, tools, tool_config, request_options)\u001b[0m\n\u001b[1;32m    329\u001b[0m                 \u001b[0;32mreturn\u001b[0m \u001b[0mgeneration_types\u001b[0m\u001b[0;34m.\u001b[0m\u001b[0mGenerateContentResponse\u001b[0m\u001b[0;34m.\u001b[0m\u001b[0mfrom_iterator\u001b[0m\u001b[0;34m(\u001b[0m\u001b[0miterator\u001b[0m\u001b[0;34m)\u001b[0m\u001b[0;34m\u001b[0m\u001b[0;34m\u001b[0m\u001b[0m\n\u001b[1;32m    330\u001b[0m             \u001b[0;32melse\u001b[0m\u001b[0;34m:\u001b[0m\u001b[0;34m\u001b[0m\u001b[0;34m\u001b[0m\u001b[0m\n\u001b[0;32m--> 331\u001b[0;31m                 response = self._client.generate_content(\n\u001b[0m\u001b[1;32m    332\u001b[0m                     \u001b[0mrequest\u001b[0m\u001b[0;34m,\u001b[0m\u001b[0;34m\u001b[0m\u001b[0;34m\u001b[0m\u001b[0m\n\u001b[1;32m    333\u001b[0m                     \u001b[0;34m**\u001b[0m\u001b[0mrequest_options\u001b[0m\u001b[0;34m,\u001b[0m\u001b[0;34m\u001b[0m\u001b[0;34m\u001b[0m\u001b[0m\n",
            "\u001b[0;32m/usr/local/lib/python3.11/dist-packages/google/ai/generativelanguage_v1beta/services/generative_service/client.py\u001b[0m in \u001b[0;36mgenerate_content\u001b[0;34m(self, request, model, contents, retry, timeout, metadata)\u001b[0m\n\u001b[1;32m    833\u001b[0m \u001b[0;34m\u001b[0m\u001b[0m\n\u001b[1;32m    834\u001b[0m         \u001b[0;31m# Send the request.\u001b[0m\u001b[0;34m\u001b[0m\u001b[0;34m\u001b[0m\u001b[0m\n\u001b[0;32m--> 835\u001b[0;31m         response = rpc(\n\u001b[0m\u001b[1;32m    836\u001b[0m             \u001b[0mrequest\u001b[0m\u001b[0;34m,\u001b[0m\u001b[0;34m\u001b[0m\u001b[0;34m\u001b[0m\u001b[0m\n\u001b[1;32m    837\u001b[0m             \u001b[0mretry\u001b[0m\u001b[0;34m=\u001b[0m\u001b[0mretry\u001b[0m\u001b[0;34m,\u001b[0m\u001b[0;34m\u001b[0m\u001b[0;34m\u001b[0m\u001b[0m\n",
            "\u001b[0;32m/usr/local/lib/python3.11/dist-packages/google/api_core/gapic_v1/method.py\u001b[0m in \u001b[0;36m__call__\u001b[0;34m(self, timeout, retry, compression, *args, **kwargs)\u001b[0m\n\u001b[1;32m    129\u001b[0m             \u001b[0mkwargs\u001b[0m\u001b[0;34m[\u001b[0m\u001b[0;34m\"compression\"\u001b[0m\u001b[0;34m]\u001b[0m \u001b[0;34m=\u001b[0m \u001b[0mcompression\u001b[0m\u001b[0;34m\u001b[0m\u001b[0;34m\u001b[0m\u001b[0m\n\u001b[1;32m    130\u001b[0m \u001b[0;34m\u001b[0m\u001b[0m\n\u001b[0;32m--> 131\u001b[0;31m         \u001b[0;32mreturn\u001b[0m \u001b[0mwrapped_func\u001b[0m\u001b[0;34m(\u001b[0m\u001b[0;34m*\u001b[0m\u001b[0margs\u001b[0m\u001b[0;34m,\u001b[0m \u001b[0;34m**\u001b[0m\u001b[0mkwargs\u001b[0m\u001b[0;34m)\u001b[0m\u001b[0;34m\u001b[0m\u001b[0;34m\u001b[0m\u001b[0m\n\u001b[0m\u001b[1;32m    132\u001b[0m \u001b[0;34m\u001b[0m\u001b[0m\n\u001b[1;32m    133\u001b[0m \u001b[0;34m\u001b[0m\u001b[0m\n",
            "\u001b[0;32m/usr/local/lib/python3.11/dist-packages/google/api_core/retry/retry_unary.py\u001b[0m in \u001b[0;36mretry_wrapped_func\u001b[0;34m(*args, **kwargs)\u001b[0m\n\u001b[1;32m    291\u001b[0m                 \u001b[0mself\u001b[0m\u001b[0;34m.\u001b[0m\u001b[0m_initial\u001b[0m\u001b[0;34m,\u001b[0m \u001b[0mself\u001b[0m\u001b[0;34m.\u001b[0m\u001b[0m_maximum\u001b[0m\u001b[0;34m,\u001b[0m \u001b[0mmultiplier\u001b[0m\u001b[0;34m=\u001b[0m\u001b[0mself\u001b[0m\u001b[0;34m.\u001b[0m\u001b[0m_multiplier\u001b[0m\u001b[0;34m\u001b[0m\u001b[0;34m\u001b[0m\u001b[0m\n\u001b[1;32m    292\u001b[0m             )\n\u001b[0;32m--> 293\u001b[0;31m             return retry_target(\n\u001b[0m\u001b[1;32m    294\u001b[0m                 \u001b[0mtarget\u001b[0m\u001b[0;34m,\u001b[0m\u001b[0;34m\u001b[0m\u001b[0;34m\u001b[0m\u001b[0m\n\u001b[1;32m    295\u001b[0m                 \u001b[0mself\u001b[0m\u001b[0;34m.\u001b[0m\u001b[0m_predicate\u001b[0m\u001b[0;34m,\u001b[0m\u001b[0;34m\u001b[0m\u001b[0;34m\u001b[0m\u001b[0m\n",
            "\u001b[0;32m/usr/local/lib/python3.11/dist-packages/google/api_core/retry/retry_unary.py\u001b[0m in \u001b[0;36mretry_target\u001b[0;34m(target, predicate, sleep_generator, timeout, on_error, exception_factory, **kwargs)\u001b[0m\n\u001b[1;32m    142\u001b[0m     \u001b[0;32mfor\u001b[0m \u001b[0msleep\u001b[0m \u001b[0;32min\u001b[0m \u001b[0msleep_generator\u001b[0m\u001b[0;34m:\u001b[0m\u001b[0;34m\u001b[0m\u001b[0;34m\u001b[0m\u001b[0m\n\u001b[1;32m    143\u001b[0m         \u001b[0;32mtry\u001b[0m\u001b[0;34m:\u001b[0m\u001b[0;34m\u001b[0m\u001b[0;34m\u001b[0m\u001b[0m\n\u001b[0;32m--> 144\u001b[0;31m             \u001b[0mresult\u001b[0m \u001b[0;34m=\u001b[0m \u001b[0mtarget\u001b[0m\u001b[0;34m(\u001b[0m\u001b[0;34m)\u001b[0m\u001b[0;34m\u001b[0m\u001b[0;34m\u001b[0m\u001b[0m\n\u001b[0m\u001b[1;32m    145\u001b[0m             \u001b[0;32mif\u001b[0m \u001b[0minspect\u001b[0m\u001b[0;34m.\u001b[0m\u001b[0misawaitable\u001b[0m\u001b[0;34m(\u001b[0m\u001b[0mresult\u001b[0m\u001b[0;34m)\u001b[0m\u001b[0;34m:\u001b[0m\u001b[0;34m\u001b[0m\u001b[0;34m\u001b[0m\u001b[0m\n\u001b[1;32m    146\u001b[0m                 \u001b[0mwarnings\u001b[0m\u001b[0;34m.\u001b[0m\u001b[0mwarn\u001b[0m\u001b[0;34m(\u001b[0m\u001b[0m_ASYNC_RETRY_WARNING\u001b[0m\u001b[0;34m)\u001b[0m\u001b[0;34m\u001b[0m\u001b[0;34m\u001b[0m\u001b[0m\n",
            "\u001b[0;32m/usr/local/lib/python3.11/dist-packages/google/api_core/timeout.py\u001b[0m in \u001b[0;36mfunc_with_timeout\u001b[0;34m(*args, **kwargs)\u001b[0m\n\u001b[1;32m    128\u001b[0m                 \u001b[0mkwargs\u001b[0m\u001b[0;34m[\u001b[0m\u001b[0;34m\"timeout\"\u001b[0m\u001b[0;34m]\u001b[0m \u001b[0;34m=\u001b[0m \u001b[0mremaining_timeout\u001b[0m\u001b[0;34m\u001b[0m\u001b[0;34m\u001b[0m\u001b[0m\n\u001b[1;32m    129\u001b[0m \u001b[0;34m\u001b[0m\u001b[0m\n\u001b[0;32m--> 130\u001b[0;31m             \u001b[0;32mreturn\u001b[0m \u001b[0mfunc\u001b[0m\u001b[0;34m(\u001b[0m\u001b[0;34m*\u001b[0m\u001b[0margs\u001b[0m\u001b[0;34m,\u001b[0m \u001b[0;34m**\u001b[0m\u001b[0mkwargs\u001b[0m\u001b[0;34m)\u001b[0m\u001b[0;34m\u001b[0m\u001b[0;34m\u001b[0m\u001b[0m\n\u001b[0m\u001b[1;32m    131\u001b[0m \u001b[0;34m\u001b[0m\u001b[0m\n\u001b[1;32m    132\u001b[0m         \u001b[0;32mreturn\u001b[0m \u001b[0mfunc_with_timeout\u001b[0m\u001b[0;34m\u001b[0m\u001b[0;34m\u001b[0m\u001b[0m\n",
            "\u001b[0;32m/usr/local/lib/python3.11/dist-packages/google/api_core/grpc_helpers.py\u001b[0m in \u001b[0;36merror_remapped_callable\u001b[0;34m(*args, **kwargs)\u001b[0m\n\u001b[1;32m     74\u001b[0m     \u001b[0;32mdef\u001b[0m \u001b[0merror_remapped_callable\u001b[0m\u001b[0;34m(\u001b[0m\u001b[0;34m*\u001b[0m\u001b[0margs\u001b[0m\u001b[0;34m,\u001b[0m \u001b[0;34m**\u001b[0m\u001b[0mkwargs\u001b[0m\u001b[0;34m)\u001b[0m\u001b[0;34m:\u001b[0m\u001b[0;34m\u001b[0m\u001b[0;34m\u001b[0m\u001b[0m\n\u001b[1;32m     75\u001b[0m         \u001b[0;32mtry\u001b[0m\u001b[0;34m:\u001b[0m\u001b[0;34m\u001b[0m\u001b[0;34m\u001b[0m\u001b[0m\n\u001b[0;32m---> 76\u001b[0;31m             \u001b[0;32mreturn\u001b[0m \u001b[0mcallable_\u001b[0m\u001b[0;34m(\u001b[0m\u001b[0;34m*\u001b[0m\u001b[0margs\u001b[0m\u001b[0;34m,\u001b[0m \u001b[0;34m**\u001b[0m\u001b[0mkwargs\u001b[0m\u001b[0;34m)\u001b[0m\u001b[0;34m\u001b[0m\u001b[0;34m\u001b[0m\u001b[0m\n\u001b[0m\u001b[1;32m     77\u001b[0m         \u001b[0;32mexcept\u001b[0m \u001b[0mgrpc\u001b[0m\u001b[0;34m.\u001b[0m\u001b[0mRpcError\u001b[0m \u001b[0;32mas\u001b[0m \u001b[0mexc\u001b[0m\u001b[0;34m:\u001b[0m\u001b[0;34m\u001b[0m\u001b[0;34m\u001b[0m\u001b[0m\n\u001b[1;32m     78\u001b[0m             \u001b[0;32mraise\u001b[0m \u001b[0mexceptions\u001b[0m\u001b[0;34m.\u001b[0m\u001b[0mfrom_grpc_error\u001b[0m\u001b[0;34m(\u001b[0m\u001b[0mexc\u001b[0m\u001b[0;34m)\u001b[0m \u001b[0;32mfrom\u001b[0m \u001b[0mexc\u001b[0m\u001b[0;34m\u001b[0m\u001b[0;34m\u001b[0m\u001b[0m\n",
            "\u001b[0;32m/usr/local/lib/python3.11/dist-packages/google/ai/generativelanguage_v1beta/services/generative_service/transports/rest.py\u001b[0m in \u001b[0;36m__call__\u001b[0;34m(self, request, retry, timeout, metadata)\u001b[0m\n\u001b[1;32m   1146\u001b[0m \u001b[0;34m\u001b[0m\u001b[0m\n\u001b[1;32m   1147\u001b[0m             \u001b[0;31m# Send the request\u001b[0m\u001b[0;34m\u001b[0m\u001b[0;34m\u001b[0m\u001b[0m\n\u001b[0;32m-> 1148\u001b[0;31m             response = GenerativeServiceRestTransport._GenerateContent._get_response(\n\u001b[0m\u001b[1;32m   1149\u001b[0m                 \u001b[0mself\u001b[0m\u001b[0;34m.\u001b[0m\u001b[0m_host\u001b[0m\u001b[0;34m,\u001b[0m\u001b[0;34m\u001b[0m\u001b[0;34m\u001b[0m\u001b[0m\n\u001b[1;32m   1150\u001b[0m                 \u001b[0mmetadata\u001b[0m\u001b[0;34m,\u001b[0m\u001b[0;34m\u001b[0m\u001b[0;34m\u001b[0m\u001b[0m\n",
            "\u001b[0;32m/usr/local/lib/python3.11/dist-packages/google/ai/generativelanguage_v1beta/services/generative_service/transports/rest.py\u001b[0m in \u001b[0;36m_get_response\u001b[0;34m(host, metadata, query_params, session, timeout, transcoded_request, body)\u001b[0m\n\u001b[1;32m   1046\u001b[0m             \u001b[0mheaders\u001b[0m \u001b[0;34m=\u001b[0m \u001b[0mdict\u001b[0m\u001b[0;34m(\u001b[0m\u001b[0mmetadata\u001b[0m\u001b[0;34m)\u001b[0m\u001b[0;34m\u001b[0m\u001b[0;34m\u001b[0m\u001b[0m\n\u001b[1;32m   1047\u001b[0m             \u001b[0mheaders\u001b[0m\u001b[0;34m[\u001b[0m\u001b[0;34m\"Content-Type\"\u001b[0m\u001b[0;34m]\u001b[0m \u001b[0;34m=\u001b[0m \u001b[0;34m\"application/json\"\u001b[0m\u001b[0;34m\u001b[0m\u001b[0;34m\u001b[0m\u001b[0m\n\u001b[0;32m-> 1048\u001b[0;31m             response = getattr(session, method)(\n\u001b[0m\u001b[1;32m   1049\u001b[0m                 \u001b[0;34m\"{host}{uri}\"\u001b[0m\u001b[0;34m.\u001b[0m\u001b[0mformat\u001b[0m\u001b[0;34m(\u001b[0m\u001b[0mhost\u001b[0m\u001b[0;34m=\u001b[0m\u001b[0mhost\u001b[0m\u001b[0;34m,\u001b[0m \u001b[0muri\u001b[0m\u001b[0;34m=\u001b[0m\u001b[0muri\u001b[0m\u001b[0;34m)\u001b[0m\u001b[0;34m,\u001b[0m\u001b[0;34m\u001b[0m\u001b[0;34m\u001b[0m\u001b[0m\n\u001b[1;32m   1050\u001b[0m                 \u001b[0mtimeout\u001b[0m\u001b[0;34m=\u001b[0m\u001b[0mtimeout\u001b[0m\u001b[0;34m,\u001b[0m\u001b[0;34m\u001b[0m\u001b[0;34m\u001b[0m\u001b[0m\n",
            "\u001b[0;32m/usr/local/lib/python3.11/dist-packages/requests/sessions.py\u001b[0m in \u001b[0;36mpost\u001b[0;34m(self, url, data, json, **kwargs)\u001b[0m\n\u001b[1;32m    635\u001b[0m         \"\"\"\n\u001b[1;32m    636\u001b[0m \u001b[0;34m\u001b[0m\u001b[0m\n\u001b[0;32m--> 637\u001b[0;31m         \u001b[0;32mreturn\u001b[0m \u001b[0mself\u001b[0m\u001b[0;34m.\u001b[0m\u001b[0mrequest\u001b[0m\u001b[0;34m(\u001b[0m\u001b[0;34m\"POST\"\u001b[0m\u001b[0;34m,\u001b[0m \u001b[0murl\u001b[0m\u001b[0;34m,\u001b[0m \u001b[0mdata\u001b[0m\u001b[0;34m=\u001b[0m\u001b[0mdata\u001b[0m\u001b[0;34m,\u001b[0m \u001b[0mjson\u001b[0m\u001b[0;34m=\u001b[0m\u001b[0mjson\u001b[0m\u001b[0;34m,\u001b[0m \u001b[0;34m**\u001b[0m\u001b[0mkwargs\u001b[0m\u001b[0;34m)\u001b[0m\u001b[0;34m\u001b[0m\u001b[0;34m\u001b[0m\u001b[0m\n\u001b[0m\u001b[1;32m    638\u001b[0m \u001b[0;34m\u001b[0m\u001b[0m\n\u001b[1;32m    639\u001b[0m     \u001b[0;32mdef\u001b[0m \u001b[0mput\u001b[0m\u001b[0;34m(\u001b[0m\u001b[0mself\u001b[0m\u001b[0;34m,\u001b[0m \u001b[0murl\u001b[0m\u001b[0;34m,\u001b[0m \u001b[0mdata\u001b[0m\u001b[0;34m=\u001b[0m\u001b[0;32mNone\u001b[0m\u001b[0;34m,\u001b[0m \u001b[0;34m**\u001b[0m\u001b[0mkwargs\u001b[0m\u001b[0;34m)\u001b[0m\u001b[0;34m:\u001b[0m\u001b[0;34m\u001b[0m\u001b[0;34m\u001b[0m\u001b[0m\n",
            "\u001b[0;32m/usr/local/lib/python3.11/dist-packages/google/auth/transport/requests.py\u001b[0m in \u001b[0;36mrequest\u001b[0;34m(self, method, url, data, headers, max_allowed_time, timeout, **kwargs)\u001b[0m\n\u001b[1;32m    539\u001b[0m \u001b[0;34m\u001b[0m\u001b[0m\n\u001b[1;32m    540\u001b[0m         \u001b[0;32mwith\u001b[0m \u001b[0mTimeoutGuard\u001b[0m\u001b[0;34m(\u001b[0m\u001b[0mremaining_time\u001b[0m\u001b[0;34m)\u001b[0m \u001b[0;32mas\u001b[0m \u001b[0mguard\u001b[0m\u001b[0;34m:\u001b[0m\u001b[0;34m\u001b[0m\u001b[0;34m\u001b[0m\u001b[0m\n\u001b[0;32m--> 541\u001b[0;31m             response = super(AuthorizedSession, self).request(\n\u001b[0m\u001b[1;32m    542\u001b[0m                 \u001b[0mmethod\u001b[0m\u001b[0;34m,\u001b[0m\u001b[0;34m\u001b[0m\u001b[0;34m\u001b[0m\u001b[0m\n\u001b[1;32m    543\u001b[0m                 \u001b[0murl\u001b[0m\u001b[0;34m,\u001b[0m\u001b[0;34m\u001b[0m\u001b[0;34m\u001b[0m\u001b[0m\n",
            "\u001b[0;32m/usr/local/lib/python3.11/dist-packages/requests/sessions.py\u001b[0m in \u001b[0;36mrequest\u001b[0;34m(self, method, url, params, data, headers, cookies, files, auth, timeout, allow_redirects, proxies, hooks, stream, verify, cert, json)\u001b[0m\n\u001b[1;32m    587\u001b[0m         }\n\u001b[1;32m    588\u001b[0m         \u001b[0msend_kwargs\u001b[0m\u001b[0;34m.\u001b[0m\u001b[0mupdate\u001b[0m\u001b[0;34m(\u001b[0m\u001b[0msettings\u001b[0m\u001b[0;34m)\u001b[0m\u001b[0;34m\u001b[0m\u001b[0;34m\u001b[0m\u001b[0m\n\u001b[0;32m--> 589\u001b[0;31m         \u001b[0mresp\u001b[0m \u001b[0;34m=\u001b[0m \u001b[0mself\u001b[0m\u001b[0;34m.\u001b[0m\u001b[0msend\u001b[0m\u001b[0;34m(\u001b[0m\u001b[0mprep\u001b[0m\u001b[0;34m,\u001b[0m \u001b[0;34m**\u001b[0m\u001b[0msend_kwargs\u001b[0m\u001b[0;34m)\u001b[0m\u001b[0;34m\u001b[0m\u001b[0;34m\u001b[0m\u001b[0m\n\u001b[0m\u001b[1;32m    590\u001b[0m \u001b[0;34m\u001b[0m\u001b[0m\n\u001b[1;32m    591\u001b[0m         \u001b[0;32mreturn\u001b[0m \u001b[0mresp\u001b[0m\u001b[0;34m\u001b[0m\u001b[0;34m\u001b[0m\u001b[0m\n",
            "\u001b[0;32m/usr/local/lib/python3.11/dist-packages/requests/sessions.py\u001b[0m in \u001b[0;36msend\u001b[0;34m(self, request, **kwargs)\u001b[0m\n\u001b[1;32m    701\u001b[0m \u001b[0;34m\u001b[0m\u001b[0m\n\u001b[1;32m    702\u001b[0m         \u001b[0;31m# Send the request\u001b[0m\u001b[0;34m\u001b[0m\u001b[0;34m\u001b[0m\u001b[0m\n\u001b[0;32m--> 703\u001b[0;31m         \u001b[0mr\u001b[0m \u001b[0;34m=\u001b[0m \u001b[0madapter\u001b[0m\u001b[0;34m.\u001b[0m\u001b[0msend\u001b[0m\u001b[0;34m(\u001b[0m\u001b[0mrequest\u001b[0m\u001b[0;34m,\u001b[0m \u001b[0;34m**\u001b[0m\u001b[0mkwargs\u001b[0m\u001b[0;34m)\u001b[0m\u001b[0;34m\u001b[0m\u001b[0;34m\u001b[0m\u001b[0m\n\u001b[0m\u001b[1;32m    704\u001b[0m \u001b[0;34m\u001b[0m\u001b[0m\n\u001b[1;32m    705\u001b[0m         \u001b[0;31m# Total elapsed time of the request (approximately)\u001b[0m\u001b[0;34m\u001b[0m\u001b[0;34m\u001b[0m\u001b[0m\n",
            "\u001b[0;32m/usr/local/lib/python3.11/dist-packages/requests/adapters.py\u001b[0m in \u001b[0;36msend\u001b[0;34m(self, request, stream, timeout, verify, cert, proxies)\u001b[0m\n\u001b[1;32m    665\u001b[0m \u001b[0;34m\u001b[0m\u001b[0m\n\u001b[1;32m    666\u001b[0m         \u001b[0;32mtry\u001b[0m\u001b[0;34m:\u001b[0m\u001b[0;34m\u001b[0m\u001b[0;34m\u001b[0m\u001b[0m\n\u001b[0;32m--> 667\u001b[0;31m             resp = conn.urlopen(\n\u001b[0m\u001b[1;32m    668\u001b[0m                 \u001b[0mmethod\u001b[0m\u001b[0;34m=\u001b[0m\u001b[0mrequest\u001b[0m\u001b[0;34m.\u001b[0m\u001b[0mmethod\u001b[0m\u001b[0;34m,\u001b[0m\u001b[0;34m\u001b[0m\u001b[0;34m\u001b[0m\u001b[0m\n\u001b[1;32m    669\u001b[0m                 \u001b[0murl\u001b[0m\u001b[0;34m=\u001b[0m\u001b[0murl\u001b[0m\u001b[0;34m,\u001b[0m\u001b[0;34m\u001b[0m\u001b[0;34m\u001b[0m\u001b[0m\n",
            "\u001b[0;32m/usr/local/lib/python3.11/dist-packages/urllib3/connectionpool.py\u001b[0m in \u001b[0;36murlopen\u001b[0;34m(self, method, url, body, headers, retries, redirect, assert_same_host, timeout, pool_timeout, release_conn, chunked, body_pos, preload_content, decode_content, **response_kw)\u001b[0m\n\u001b[1;32m    785\u001b[0m \u001b[0;34m\u001b[0m\u001b[0m\n\u001b[1;32m    786\u001b[0m             \u001b[0;31m# Make the request on the HTTPConnection object\u001b[0m\u001b[0;34m\u001b[0m\u001b[0;34m\u001b[0m\u001b[0m\n\u001b[0;32m--> 787\u001b[0;31m             response = self._make_request(\n\u001b[0m\u001b[1;32m    788\u001b[0m                 \u001b[0mconn\u001b[0m\u001b[0;34m,\u001b[0m\u001b[0;34m\u001b[0m\u001b[0;34m\u001b[0m\u001b[0m\n\u001b[1;32m    789\u001b[0m                 \u001b[0mmethod\u001b[0m\u001b[0;34m,\u001b[0m\u001b[0;34m\u001b[0m\u001b[0;34m\u001b[0m\u001b[0m\n",
            "\u001b[0;32m/usr/local/lib/python3.11/dist-packages/urllib3/connectionpool.py\u001b[0m in \u001b[0;36m_make_request\u001b[0;34m(self, conn, method, url, body, headers, retries, timeout, chunked, response_conn, preload_content, decode_content, enforce_content_length)\u001b[0m\n\u001b[1;32m    532\u001b[0m         \u001b[0;31m# Receive the response from the server\u001b[0m\u001b[0;34m\u001b[0m\u001b[0;34m\u001b[0m\u001b[0m\n\u001b[1;32m    533\u001b[0m         \u001b[0;32mtry\u001b[0m\u001b[0;34m:\u001b[0m\u001b[0;34m\u001b[0m\u001b[0;34m\u001b[0m\u001b[0m\n\u001b[0;32m--> 534\u001b[0;31m             \u001b[0mresponse\u001b[0m \u001b[0;34m=\u001b[0m \u001b[0mconn\u001b[0m\u001b[0;34m.\u001b[0m\u001b[0mgetresponse\u001b[0m\u001b[0;34m(\u001b[0m\u001b[0;34m)\u001b[0m\u001b[0;34m\u001b[0m\u001b[0;34m\u001b[0m\u001b[0m\n\u001b[0m\u001b[1;32m    535\u001b[0m         \u001b[0;32mexcept\u001b[0m \u001b[0;34m(\u001b[0m\u001b[0mBaseSSLError\u001b[0m\u001b[0;34m,\u001b[0m \u001b[0mOSError\u001b[0m\u001b[0;34m)\u001b[0m \u001b[0;32mas\u001b[0m \u001b[0me\u001b[0m\u001b[0;34m:\u001b[0m\u001b[0;34m\u001b[0m\u001b[0;34m\u001b[0m\u001b[0m\n\u001b[1;32m    536\u001b[0m             \u001b[0mself\u001b[0m\u001b[0;34m.\u001b[0m\u001b[0m_raise_timeout\u001b[0m\u001b[0;34m(\u001b[0m\u001b[0merr\u001b[0m\u001b[0;34m=\u001b[0m\u001b[0me\u001b[0m\u001b[0;34m,\u001b[0m \u001b[0murl\u001b[0m\u001b[0;34m=\u001b[0m\u001b[0murl\u001b[0m\u001b[0;34m,\u001b[0m \u001b[0mtimeout_value\u001b[0m\u001b[0;34m=\u001b[0m\u001b[0mread_timeout\u001b[0m\u001b[0;34m)\u001b[0m\u001b[0;34m\u001b[0m\u001b[0;34m\u001b[0m\u001b[0m\n",
            "\u001b[0;32m/usr/local/lib/python3.11/dist-packages/urllib3/connection.py\u001b[0m in \u001b[0;36mgetresponse\u001b[0;34m(self)\u001b[0m\n\u001b[1;32m    514\u001b[0m \u001b[0;34m\u001b[0m\u001b[0m\n\u001b[1;32m    515\u001b[0m         \u001b[0;31m# Get the response from http.client.HTTPConnection\u001b[0m\u001b[0;34m\u001b[0m\u001b[0;34m\u001b[0m\u001b[0m\n\u001b[0;32m--> 516\u001b[0;31m         \u001b[0mhttplib_response\u001b[0m \u001b[0;34m=\u001b[0m \u001b[0msuper\u001b[0m\u001b[0;34m(\u001b[0m\u001b[0;34m)\u001b[0m\u001b[0;34m.\u001b[0m\u001b[0mgetresponse\u001b[0m\u001b[0;34m(\u001b[0m\u001b[0;34m)\u001b[0m\u001b[0;34m\u001b[0m\u001b[0;34m\u001b[0m\u001b[0m\n\u001b[0m\u001b[1;32m    517\u001b[0m \u001b[0;34m\u001b[0m\u001b[0m\n\u001b[1;32m    518\u001b[0m         \u001b[0;32mtry\u001b[0m\u001b[0;34m:\u001b[0m\u001b[0;34m\u001b[0m\u001b[0;34m\u001b[0m\u001b[0m\n",
            "\u001b[0;32m/usr/lib/python3.11/http/client.py\u001b[0m in \u001b[0;36mgetresponse\u001b[0;34m(self)\u001b[0m\n\u001b[1;32m   1393\u001b[0m         \u001b[0;32mtry\u001b[0m\u001b[0;34m:\u001b[0m\u001b[0;34m\u001b[0m\u001b[0;34m\u001b[0m\u001b[0m\n\u001b[1;32m   1394\u001b[0m             \u001b[0;32mtry\u001b[0m\u001b[0;34m:\u001b[0m\u001b[0;34m\u001b[0m\u001b[0;34m\u001b[0m\u001b[0m\n\u001b[0;32m-> 1395\u001b[0;31m                 \u001b[0mresponse\u001b[0m\u001b[0;34m.\u001b[0m\u001b[0mbegin\u001b[0m\u001b[0;34m(\u001b[0m\u001b[0;34m)\u001b[0m\u001b[0;34m\u001b[0m\u001b[0;34m\u001b[0m\u001b[0m\n\u001b[0m\u001b[1;32m   1396\u001b[0m             \u001b[0;32mexcept\u001b[0m \u001b[0mConnectionError\u001b[0m\u001b[0;34m:\u001b[0m\u001b[0;34m\u001b[0m\u001b[0;34m\u001b[0m\u001b[0m\n\u001b[1;32m   1397\u001b[0m                 \u001b[0mself\u001b[0m\u001b[0;34m.\u001b[0m\u001b[0mclose\u001b[0m\u001b[0;34m(\u001b[0m\u001b[0;34m)\u001b[0m\u001b[0;34m\u001b[0m\u001b[0;34m\u001b[0m\u001b[0m\n",
            "\u001b[0;32m/usr/lib/python3.11/http/client.py\u001b[0m in \u001b[0;36mbegin\u001b[0;34m(self)\u001b[0m\n\u001b[1;32m    323\u001b[0m         \u001b[0;31m# read until we get a non-100 response\u001b[0m\u001b[0;34m\u001b[0m\u001b[0;34m\u001b[0m\u001b[0m\n\u001b[1;32m    324\u001b[0m         \u001b[0;32mwhile\u001b[0m \u001b[0;32mTrue\u001b[0m\u001b[0;34m:\u001b[0m\u001b[0;34m\u001b[0m\u001b[0;34m\u001b[0m\u001b[0m\n\u001b[0;32m--> 325\u001b[0;31m             \u001b[0mversion\u001b[0m\u001b[0;34m,\u001b[0m \u001b[0mstatus\u001b[0m\u001b[0;34m,\u001b[0m \u001b[0mreason\u001b[0m \u001b[0;34m=\u001b[0m \u001b[0mself\u001b[0m\u001b[0;34m.\u001b[0m\u001b[0m_read_status\u001b[0m\u001b[0;34m(\u001b[0m\u001b[0;34m)\u001b[0m\u001b[0;34m\u001b[0m\u001b[0;34m\u001b[0m\u001b[0m\n\u001b[0m\u001b[1;32m    326\u001b[0m             \u001b[0;32mif\u001b[0m \u001b[0mstatus\u001b[0m \u001b[0;34m!=\u001b[0m \u001b[0mCONTINUE\u001b[0m\u001b[0;34m:\u001b[0m\u001b[0;34m\u001b[0m\u001b[0;34m\u001b[0m\u001b[0m\n\u001b[1;32m    327\u001b[0m                 \u001b[0;32mbreak\u001b[0m\u001b[0;34m\u001b[0m\u001b[0;34m\u001b[0m\u001b[0m\n",
            "\u001b[0;32m/usr/lib/python3.11/http/client.py\u001b[0m in \u001b[0;36m_read_status\u001b[0;34m(self)\u001b[0m\n\u001b[1;32m    284\u001b[0m \u001b[0;34m\u001b[0m\u001b[0m\n\u001b[1;32m    285\u001b[0m     \u001b[0;32mdef\u001b[0m \u001b[0m_read_status\u001b[0m\u001b[0;34m(\u001b[0m\u001b[0mself\u001b[0m\u001b[0;34m)\u001b[0m\u001b[0;34m:\u001b[0m\u001b[0;34m\u001b[0m\u001b[0;34m\u001b[0m\u001b[0m\n\u001b[0;32m--> 286\u001b[0;31m         \u001b[0mline\u001b[0m \u001b[0;34m=\u001b[0m \u001b[0mstr\u001b[0m\u001b[0;34m(\u001b[0m\u001b[0mself\u001b[0m\u001b[0;34m.\u001b[0m\u001b[0mfp\u001b[0m\u001b[0;34m.\u001b[0m\u001b[0mreadline\u001b[0m\u001b[0;34m(\u001b[0m\u001b[0m_MAXLINE\u001b[0m \u001b[0;34m+\u001b[0m \u001b[0;36m1\u001b[0m\u001b[0;34m)\u001b[0m\u001b[0;34m,\u001b[0m \u001b[0;34m\"iso-8859-1\"\u001b[0m\u001b[0;34m)\u001b[0m\u001b[0;34m\u001b[0m\u001b[0;34m\u001b[0m\u001b[0m\n\u001b[0m\u001b[1;32m    287\u001b[0m         \u001b[0;32mif\u001b[0m \u001b[0mlen\u001b[0m\u001b[0;34m(\u001b[0m\u001b[0mline\u001b[0m\u001b[0;34m)\u001b[0m \u001b[0;34m>\u001b[0m \u001b[0m_MAXLINE\u001b[0m\u001b[0;34m:\u001b[0m\u001b[0;34m\u001b[0m\u001b[0;34m\u001b[0m\u001b[0m\n\u001b[1;32m    288\u001b[0m             \u001b[0;32mraise\u001b[0m \u001b[0mLineTooLong\u001b[0m\u001b[0;34m(\u001b[0m\u001b[0;34m\"status line\"\u001b[0m\u001b[0;34m)\u001b[0m\u001b[0;34m\u001b[0m\u001b[0;34m\u001b[0m\u001b[0m\n",
            "\u001b[0;32m/usr/lib/python3.11/socket.py\u001b[0m in \u001b[0;36mreadinto\u001b[0;34m(self, b)\u001b[0m\n\u001b[1;32m    716\u001b[0m         \u001b[0;32mwhile\u001b[0m \u001b[0;32mTrue\u001b[0m\u001b[0;34m:\u001b[0m\u001b[0;34m\u001b[0m\u001b[0;34m\u001b[0m\u001b[0m\n\u001b[1;32m    717\u001b[0m             \u001b[0;32mtry\u001b[0m\u001b[0;34m:\u001b[0m\u001b[0;34m\u001b[0m\u001b[0;34m\u001b[0m\u001b[0m\n\u001b[0;32m--> 718\u001b[0;31m                 \u001b[0;32mreturn\u001b[0m \u001b[0mself\u001b[0m\u001b[0;34m.\u001b[0m\u001b[0m_sock\u001b[0m\u001b[0;34m.\u001b[0m\u001b[0mrecv_into\u001b[0m\u001b[0;34m(\u001b[0m\u001b[0mb\u001b[0m\u001b[0;34m)\u001b[0m\u001b[0;34m\u001b[0m\u001b[0;34m\u001b[0m\u001b[0m\n\u001b[0m\u001b[1;32m    719\u001b[0m             \u001b[0;32mexcept\u001b[0m \u001b[0mtimeout\u001b[0m\u001b[0;34m:\u001b[0m\u001b[0;34m\u001b[0m\u001b[0;34m\u001b[0m\u001b[0m\n\u001b[1;32m    720\u001b[0m                 \u001b[0mself\u001b[0m\u001b[0;34m.\u001b[0m\u001b[0m_timeout_occurred\u001b[0m \u001b[0;34m=\u001b[0m \u001b[0;32mTrue\u001b[0m\u001b[0;34m\u001b[0m\u001b[0;34m\u001b[0m\u001b[0m\n",
            "\u001b[0;31mKeyboardInterrupt\u001b[0m: "
          ]
        }
      ]
    },
    {
      "cell_type": "code",
      "source": [
        "cities = cities[2:102]"
      ],
      "metadata": {
        "id": "8MLALU4v3ML9"
      },
      "execution_count": null,
      "outputs": []
    },
    {
      "cell_type": "code",
      "source": [
        "convert_list_to_txt(cities,\"cities.txt\")"
      ],
      "metadata": {
        "colab": {
          "base_uri": "https://localhost:8080/"
        },
        "id": "w3ZvasCiw1qw",
        "outputId": "b81846f5-a7af-438f-cb91-fd1db85157cb"
      },
      "execution_count": null,
      "outputs": [
        {
          "output_type": "stream",
          "name": "stdout",
          "text": [
            "List converted to cities.txt\n"
          ]
        }
      ]
    },
    {
      "cell_type": "code",
      "source": [
        "prompt_locations= (\"List 100 different locations like bar, park, etc where there is public movement and a crime can be reported. Make each location as a text in a separate line. Do not include any other text.\")\n",
        "locations = populate_data_for_permutations( prompt_locations,\"locations\")"
      ],
      "metadata": {
        "colab": {
          "base_uri": "https://localhost:8080/",
          "height": 72
        },
        "id": "DiPXdhZW2flB",
        "outputId": "629631e8-2a05-40ab-e657-76280f065b68"
      },
      "execution_count": null,
      "outputs": [
        {
          "output_type": "stream",
          "name": "stdout",
          "text": [
            "The data generated for locations:['Bar', 'Park', 'Restaurant', 'Shopping Mall', 'Grocery Store', 'Gas Station', 'Bus Stop', 'Train Station', 'Airport', 'Hospital', 'School', 'University', 'Library', 'Movie Theater', 'Concert Venue', 'Sports Stadium', 'Museum', 'Art Gallery', 'Hotel Lobby', 'Public Beach', 'Swimming Pool', 'Gym', 'Community Center', 'Post Office', 'Bank', 'ATM', 'Parking Garage', 'Parking Lot', 'Street Corner', 'Sidewalk', 'Crosswalk', 'Public Square', 'Town Hall', 'Courthouse', 'Police Station', 'Fire Station', 'Amusement Park', 'Zoo', 'Botanical Garden', 'Campground', 'Hiking Trail', 'Bike Path', 'Skate Park', 'Dog Park', 'Playground', 'Construction Site', 'Factory', 'Warehouse', 'Office Building', 'Retail Store', 'Hair Salon', 'Spa', \"Doctor's Office\", \"Dentist's Office\", 'Pharmacy', 'Veterinary Clinic', 'Car Dealership', 'Bus Terminal', 'Taxi Stand', 'Ferry Terminal', 'Marina', 'Port', 'Truck Stop', 'Rest Area', 'Homeless Shelter', 'Soup Kitchen', 'Food Bank', 'Thrift Store', 'Pawn Shop', 'Laundry Mat', 'Dry Cleaner', 'Car Wash', 'Funeral Home', 'Cemetery', 'Church', 'Mosque', 'Synagogue', 'Temple', 'Casino', 'Nightclub', 'Arcade', 'Bowling Alley', 'Mini Golf Course', 'Go-Kart Track', 'Event Center', 'Convention Center', 'Fairground', 'Farmers Market', 'Flea Market', 'Book Store', 'Coffee Shop', 'Bakery', 'Ice Cream Shop', 'Subway Station', 'Bridge', 'Overpass', 'Tunnel', 'Public Restroom', 'Government Building', 'Embassy', 'Consulate', 'Courtyard', 'Apartment Building Lobby', 'Mobile Home Park', 'Retirement Home', 'Nursing Home', 'Outdoor Market', 'Tourist Attraction', 'Historical Site', 'State Park', 'National Park', 'Wildlife Refuge', 'Aquarium', 'Planetarium', 'Observatory', 'YMCA', 'YWCA', 'Boys and Girls Club', 'Senior Center', 'Community Garden', 'Recycling Center', 'Landfill', 'Water Treatment Plant', 'Power Plant', 'Sewage Treatment Plant', 'Storage Facility', 'Moving Company', 'Truck Rental Facility', 'Bus Charter Service', 'Limousine Service', 'Bike Rental Shop', 'Scooter Rental Shop', 'Boat Rental Service', 'Airplane Rental Service', 'Helicopter Rental Service', 'Hot Air Balloon Ride Launch Site', 'Ambulance Dispatch', 'Towing Company', 'Auto Repair Shop', 'Body Shop', 'Tire Shop', 'Windshield Repair Shop', 'Junk Yard', 'Recycling Center', 'Landfill', 'Water Treatment Plant', 'Power Plant', 'Sewage Treatment Plant', 'Storage Facility', 'Moving Company', 'Truck Rental Facility', 'Bus Charter Service', 'Limousine Service', 'Bike Rental Shop', 'Scooter Rental Shop', 'Boat Rental Service', 'Airplane Rental Service', 'Helicopter Rental Service', 'Hot Air Balloon Ride Launch Site', 'Ambulance Dispatch', 'Towing Company', 'Auto Repair Shop', 'Body Shop', 'Tire Shop', 'Windshield Repair Shop', 'Junk Yard']\n",
            " The length of the list is: 166\n"
          ]
        }
      ]
    },
    {
      "cell_type": "code",
      "source": [
        "locations = locations[:100]\n"
      ],
      "metadata": {
        "id": "NzBBz6ws4I1Z"
      },
      "execution_count": null,
      "outputs": []
    },
    {
      "cell_type": "code",
      "source": [
        "convert_list_to_txt(locations,\"locations.txt\")"
      ],
      "metadata": {
        "id": "i6-NxUSQ469m",
        "colab": {
          "base_uri": "https://localhost:8080/"
        },
        "outputId": "7a1be422-9a1d-49af-974a-aa6c00be41b1"
      },
      "execution_count": null,
      "outputs": [
        {
          "output_type": "stream",
          "name": "stdout",
          "text": [
            "List converted to locations.txt\n"
          ]
        }
      ]
    },
    {
      "cell_type": "code",
      "source": [
        "time_prompt = (\"List 20 time settings around a day, like morning, evening, afternoon, etc where an event like a crime can happen. You can repeat the same in different wordings. Make each time setting as a text in a separate line. Do not include any other text\")\n",
        "times = populate_data_for_permutations(time_prompt,\"time settings\")"
      ],
      "metadata": {
        "colab": {
          "base_uri": "https://localhost:8080/",
          "height": 72
        },
        "id": "dI5PHvjXxSPP",
        "outputId": "f2e97209-53ae-4cbf-9af3-29157a2e54a3"
      },
      "execution_count": null,
      "outputs": [
        {
          "output_type": "stream",
          "name": "stdout",
          "text": [
            "The data generated for time settings:['Dawn', 'Sunrise', 'Early Morning', 'Mid-Morning', 'Late Morning', 'Noon', 'Midday', 'Early Afternoon', 'Afternoon', 'Late Afternoon', 'Dusk', 'Sunset', 'Early Evening', 'Evening', 'Late Evening', 'Night', 'Midnight', 'Early Hours', 'Dead of Night', 'Predawn']\n",
            " The length of the list is: 20\n"
          ]
        }
      ]
    },
    {
      "cell_type": "code",
      "source": [
        "convert_list_to_txt(times,\"time_settings.txt\")"
      ],
      "metadata": {
        "colab": {
          "base_uri": "https://localhost:8080/"
        },
        "id": "Glx2PnYtx__p",
        "outputId": "573736f4-69ff-4da7-e882-d7feefce3018"
      },
      "execution_count": null,
      "outputs": [
        {
          "output_type": "stream",
          "name": "stdout",
          "text": [
            "List converted to time_settings.txt\n"
          ]
        }
      ]
    },
    {
      "cell_type": "code",
      "source": [
        "victim_age_prompt = \"List 10 different ages that are common for victims of murder. Make each age in a seperate line. Do no repeat ages. Do not include any other text\"\n",
        "victim_characteristics_age=populate_data_for_permutations(victim_age_prompt,\"victim ages\")\n"
      ],
      "metadata": {
        "colab": {
          "base_uri": "https://localhost:8080/",
          "height": 52
        },
        "id": "ZdptdFnuyfIY",
        "outputId": "2e1ef428-0213-47e4-9c0e-cecd1f2d7a7d"
      },
      "execution_count": null,
      "outputs": [
        {
          "output_type": "stream",
          "name": "stdout",
          "text": [
            "The data generated for victim ages:['16', '18', '22', '28', '31', '35', '40', '47', '52', '68']\n",
            " The length of the list is: 10\n"
          ]
        }
      ]
    },
    {
      "cell_type": "code",
      "source": [
        "convert_list_to_txt(victim_characteristics_age,\"victim_ages.txt\")"
      ],
      "metadata": {
        "colab": {
          "base_uri": "https://localhost:8080/"
        },
        "id": "94KCtFIW0oN9",
        "outputId": "1f2185a3-f486-4c7a-cbe5-a1e171009515"
      },
      "execution_count": null,
      "outputs": [
        {
          "output_type": "stream",
          "name": "stdout",
          "text": [
            "List converted to victim_ages.txt\n"
          ]
        }
      ]
    },
    {
      "cell_type": "code",
      "source": [
        "victim_gender_prompt = \"List 5 different genders that are common among victims of murder. Make each gender in a seperate line. Do not repeat genders, Do not include any other text\"\n",
        "victim_genders = populate_data_for_permutations(victim_gender_prompt, \"victim gender\")"
      ],
      "metadata": {
        "colab": {
          "base_uri": "https://localhost:8080/",
          "height": 72
        },
        "id": "XN_hUJWr0uEG",
        "outputId": "7fd051c8-716e-4310-f3d9-b2a48bcdf7c0"
      },
      "execution_count": null,
      "outputs": [
        {
          "output_type": "stream",
          "name": "stdout",
          "text": [
            "The data generated for victim gender:['Man', 'Woman', 'Transgender man', 'Transgender woman', 'Non-binary person']\n",
            " The length of the list is: 5\n"
          ]
        }
      ]
    },
    {
      "cell_type": "code",
      "source": [
        "convert_list_to_txt(victim_genders,\"victim_genders.txt\")"
      ],
      "metadata": {
        "colab": {
          "base_uri": "https://localhost:8080/"
        },
        "id": "XV_pxsRQ1R5K",
        "outputId": "80406796-22b2-4140-bb2c-b139a961d01c"
      },
      "execution_count": null,
      "outputs": [
        {
          "output_type": "stream",
          "name": "stdout",
          "text": [
            "List converted to victim_genders.txt\n"
          ]
        }
      ]
    },
    {
      "cell_type": "code",
      "source": [
        "victim_occupation_prompt = \" List 10 occupations that are most probably prone to being a victim of murder. Make each occupation in a separate line. Do not repeat. Do not include any other text\"\n",
        "victim_occcupation = populate_data_for_permutations(victim_occupation_prompt, \"victim occupation\")"
      ],
      "metadata": {
        "colab": {
          "base_uri": "https://localhost:8080/",
          "height": 72
        },
        "id": "gq_9ngdl1Zu5",
        "outputId": "be391fc3-d25d-4181-99a6-2dc1288f5ae8"
      },
      "execution_count": null,
      "outputs": [
        {
          "output_type": "stream",
          "name": "stdout",
          "text": [
            "The data generated for victim occupation:['1.  Law Enforcement Officer', '2.  Security Guard', '3.  Taxi Driver', '4.  Journalist', '5.  Corrections Officer', '6.  Drug Dealer', '7.  Activist', '8.  Judge', '9.  Bartender', '10. Social Worker']\n",
            " The length of the list is: 10\n"
          ]
        }
      ]
    },
    {
      "cell_type": "code",
      "source": [
        "convert_list_to_txt(victim_occcupation,\"victim_occupation.txt\")"
      ],
      "metadata": {
        "colab": {
          "base_uri": "https://localhost:8080/"
        },
        "id": "RRPmTqBM2ksK",
        "outputId": "4566683f-e875-4931-ba51-b149caa8bba1"
      },
      "execution_count": null,
      "outputs": [
        {
          "output_type": "stream",
          "name": "stdout",
          "text": [
            "List converted to victim_occupation.txt\n"
          ]
        }
      ]
    },
    {
      "cell_type": "code",
      "source": [
        "victim_personality_prompt = \"List 10 persoanlities of a victim of a murder. Make each personality in a seperate line. Do not repeat. Do not include any other text.\"\n",
        "victim_personality = populate_data_for_permutations(victim_personality_prompt,\"victim personality\")"
      ],
      "metadata": {
        "colab": {
          "base_uri": "https://localhost:8080/",
          "height": 72
        },
        "id": "T6eOOBXF2JV7",
        "outputId": "7882a009-c894-4dd3-c879-bd1d763836ef"
      },
      "execution_count": null,
      "outputs": [
        {
          "output_type": "stream",
          "name": "stdout",
          "text": [
            "The data generated for victim personality:['Kind', 'Ambitious', 'Withdrawn', 'Anxious', 'Optimistic', 'Resilient', 'Carefree', 'Cynical', 'Creative', 'Stubborn']\n",
            " The length of the list is: 10\n"
          ]
        }
      ]
    },
    {
      "cell_type": "code",
      "source": [
        "convert_list_to_txt(victim_personality,\"victim_personality.txt\")"
      ],
      "metadata": {
        "colab": {
          "base_uri": "https://localhost:8080/"
        },
        "id": "J3to9Ud22f6h",
        "outputId": "224d3cbb-c074-4954-f191-43e5041a5ebc"
      },
      "execution_count": null,
      "outputs": [
        {
          "output_type": "stream",
          "name": "stdout",
          "text": [
            "List converted to victim_personality.txt\n"
          ]
        }
      ]
    },
    {
      "cell_type": "code",
      "source": [
        "suspect_age_prompt= \"List 10 dfferent ages that are common among murder suspects. Make each age in a seperate line. Do not repeat. Do not include any other text.\"\n",
        "suspect_age = populate_data_for_permutations(suspect_age_prompt,\"suspect_age\")"
      ],
      "metadata": {
        "colab": {
          "base_uri": "https://localhost:8080/",
          "height": 52
        },
        "id": "zKfttc8r20OY",
        "outputId": "b1b19de1-0bec-4eda-c457-0ef51fda8785"
      },
      "execution_count": null,
      "outputs": [
        {
          "output_type": "stream",
          "name": "stdout",
          "text": [
            "The data generated for suspect_age:['17', '19', '22', '25', '28', '31', '34', '37', '40', '43']\n",
            " The length of the list is: 10\n"
          ]
        }
      ]
    },
    {
      "cell_type": "code",
      "source": [
        "convert_list_to_txt(suspect_age,\"suspect_age.txt\")"
      ],
      "metadata": {
        "colab": {
          "base_uri": "https://localhost:8080/"
        },
        "id": "OVEBcp0_3fcT",
        "outputId": "5b705880-eb0f-487e-b5c3-2b0c7f296c9e"
      },
      "execution_count": null,
      "outputs": [
        {
          "output_type": "stream",
          "name": "stdout",
          "text": [
            "List converted to suspect_age.txt\n"
          ]
        }
      ]
    },
    {
      "cell_type": "code",
      "source": [
        "suspect_gender_prompt=\"List 5 different genders that are common among suspects of murder. Make each gender in a seperate line. Do not repeat genders, Do not include any other text\"\n",
        "suspect_gender = populate_data_for_permutations(suspect_gender_prompt,\"suspect_gender\")"
      ],
      "metadata": {
        "colab": {
          "base_uri": "https://localhost:8080/",
          "height": 52
        },
        "id": "rgvU6bWs3s9D",
        "outputId": "28aed394-1852-4205-c8f3-e5c78a4bc77a"
      },
      "execution_count": null,
      "outputs": [
        {
          "output_type": "stream",
          "name": "stdout",
          "text": [
            "The data generated for suspect_gender:['Male', 'Female', 'Transgender Male', 'Transgender Female', 'Non-binary']\n",
            " The length of the list is: 5\n"
          ]
        }
      ]
    },
    {
      "cell_type": "code",
      "source": [
        "convert_list_to_txt(suspect_gender,\"suspect_gender.txt\")"
      ],
      "metadata": {
        "colab": {
          "base_uri": "https://localhost:8080/"
        },
        "id": "IbPycxAf5BvK",
        "outputId": "c0ed3e37-cf99-45a0-bcc3-a73964fac59e"
      },
      "execution_count": null,
      "outputs": [
        {
          "output_type": "stream",
          "name": "stdout",
          "text": [
            "List converted to suspect_gender.txt\n"
          ]
        }
      ]
    },
    {
      "cell_type": "code",
      "source": [
        "suspect_physique_prompt = \" List 100 different instances of physical characteristics of a murder suspect. Make each output in a seperate line. Do not repeat the outputs. Do not include any other text\"\n",
        "suspect_physique = populate_data_for_permutations(suspect_physique_prompt,\"suspect_physique\")"
      ],
      "metadata": {
        "colab": {
          "base_uri": "https://localhost:8080/",
          "height": 72
        },
        "id": "1hZDeI744EOg",
        "outputId": "f33b9542-416e-4784-dd59-19fbdbbe7d37"
      },
      "execution_count": null,
      "outputs": [
        {
          "output_type": "stream",
          "name": "stdout",
          "text": [
            "The data generated for suspect_physique:['Visible tattoos', 'Scar above left eyebrow', 'Missing left pinky finger', \"Protruding Adam's apple\", 'Crossed eyes', 'Burn scars on hands', 'Thick, bushy eyebrows', 'Receding hairline', 'Large, prominent nose', 'Small, beady eyes', \"Widow's peak\", 'Unusually long fingers', 'Short, stubby fingers', 'Birthmark on neck', 'Cleft chin', 'Dimples', 'Attached earlobes', 'Unattached earlobes', 'High cheekbones', 'Low cheekbones', 'Thin lips', 'Full lips', 'Overbite', 'Underbite', 'Gap between front teeth', 'Crooked teeth', 'Double chin', 'Sunken eyes', 'Pale complexion', 'Ruddy complexion', 'Freckles on face', 'Mole on cheek', 'Acne scars', 'Rosacea', 'Wears glasses', 'Lazy eye', 'Drooping eyelid', 'Bushy sideburns', 'Pointed ears', 'Square jaw', 'Round face', 'Oval face', 'Long face', 'Wrinkled forehead', 'Deep laugh lines', 'Thin eyebrows', 'Bushy eyebrows', 'Long eyelashes', 'Short eyelashes', 'Thick neck', 'Thin neck', 'Sloping shoulders', 'Broad shoulders', 'Narrow shoulders', 'Hunchback posture', 'Bowlegged', 'Knock-kneed', 'Clubfoot', 'Missing teeth', 'Gold tooth', 'Silver tooth', 'Tongue piercing', 'Nose piercing', 'Eyebrow piercing', 'Lip piercing', 'Large hands', 'Small hands', 'Bony hands', 'Calloused hands', 'Soft hands', 'Tremor in hands', 'Visible veins in hands', 'Long fingernails', 'Short fingernails', 'Dirty fingernails', 'Manicured fingernails', 'Wears a ring', 'Missing a limb', 'Artificial limb', 'Limp when walking', 'Distinctive gait', 'Speech impediment', 'Stutter', 'Lisp', 'Deep voice', 'High-pitched voice', 'Raspy voice', 'Soft spoken', 'Loud voice', 'Foreign accent', 'Regional accent', 'Unibrow', 'Crows feet around eyes', 'Age spots on hands', 'Varicose veins', 'Swollen ankles', 'Pigeon toed', 'Flat feet', 'Wide set eyes', 'Close set eyes', 'Protruding ears', 'Cauliflower ear', 'Pockmarked skin', 'Keloid scars', 'Vitiligo patches', 'Port wine stain birthmark', 'Webbed toes', 'Hammer toe', 'Bunions', 'Corns on feet', 'Scar on the lip', 'Scar on the arm', 'Abnormally large feet', 'Abnormally small feet', 'Cigarette burns on skin', 'Track marks on arms', 'Asymmetrical face', 'Deformed ear', 'Missing an ear', 'Scar on the scalp', 'Unusually hairy back', 'Unusually hairy chest', 'Prominent veins in forehead', 'Uneven shoulders', 'One leg shorter than the other', 'Fused toes', 'Fused fingers', 'Excessive sweating', 'Blistered hands', 'Skin discoloration', 'Ganglion cyst', 'Gout', 'Rashes on skin', 'Eczema', 'Psoriasis', 'Ingrown nails', 'Dry cracked skin', 'Oily skin', 'Warts', 'Moles on back', 'Skin tags', 'Brittle fingernails', 'Concave chest', 'Barrel chest', 'Narrow hips', 'Wide hips', 'Protruding stomach', 'Sunburned skin', 'Tanned skin', 'Windburned skin', 'Frostbite scars', 'Keloid scars', 'Spider veins', 'Cellulite', 'Stretch marks', 'Dark circles under eyes', 'Puffy eyes', 'Baggy eyes', 'Skin discoloration under eyes', 'Sagging jowls', 'Double chin', 'Turtleneck deformity', 'Rib deformity', 'Deformed breast', 'Gynecomastia', 'Nipple piercing', 'Areola deformity', 'Chest hair', 'Back hair', 'Abdomen hair', 'Visible rib cage', 'Swollen abdomen', 'Hernia', 'Umbilical scar', 'Caesarean section scar', 'Inguinal scar', 'Appendectomy scar', 'Knee replacement scar', 'Hip replacement scar', 'Shoulder replacement scar', 'Spinal fusion scar', 'Tension lines in face', 'Uncontrollable blinking', 'Eye twitching', 'Lip twitching', 'Facial tics', 'Head twitching', 'Hand tremors', 'Nervous ticks', 'Unusual body odor', 'Bad breath', 'Missing eyebrow', 'Shaved eyebrow', 'Dyed hair', 'Missing hair patches', 'Bald spot', 'Thinning hair', 'Oily hair', 'Dry hair', 'Brittle hair', 'Split ends', 'Dandruff', 'Psoriasis on scalp', 'Scabies', 'Ringworm', \"Athlete's foot\", 'Jaundice', 'Cyanosis', 'Clubbed fingers', 'Spooned nails', \"Beau's lines\", 'Splinter hemorrhages', 'Koilonchyia', 'Pitting of nails', 'Onycholysis', 'Subungual hematoma', 'Paronychia', 'Talon cusp', 'Dens invaginatus', 'Amelogenesis imperfecta', 'Dentinogenesis imperfecta', 'Enamel hypoplasia', 'Taurodontism', 'Fusion', 'Gemination', 'Concrescence', 'Attrition', 'Abrasion', 'Erosion', 'Resorption', 'Hypercementosis', 'Ankylosis', 'Internal resorption', 'External resorption', 'Dilaceration', \"Turner's tooth\", 'Mottled enamel', 'Tetracycline staining', 'Fluorosis', 'Stafne bone cyst', 'Torus mandibularis', 'Torus palatinus', 'Exostosis', 'Fibroma', 'Papilloma', 'Leukoplakia', 'Erythroplakia', 'Lichen planus', 'Pemphigus vulgaris', 'Pemphigoid', 'Aphthous ulcer', 'Herpes simplex virus', 'Varicella zoster virus', 'Epstein-Barr virus', 'Cytomegalovirus', 'Human papillomavirus', 'Hand foot and mouth disease', 'Scarlet fever', 'Measles', 'Rubella', 'Mumps', 'Chickenpox', 'Shingles', 'Warts', 'Moles', 'Freckles', 'Birthmarks', 'Port-wine stains', 'Strawberry hemangiomas', 'Café-au-lait spots', 'Mongolian spots', 'Nevus flammeus', 'Spider angiomas', 'Cherry angiomas', 'Seborrheic keratoses', 'Actinic keratoses', 'Skin tags', 'Lipomas', 'Cysts', 'Abscesses', 'Boils', 'Carbuncles', 'Cellulitis', 'Erysipelas', 'Impetigo', 'Folliculitis', 'Furuncles', 'Hidradenitis suppurativa', 'Pilonidal cyst', 'Eczema', 'Psoriasis', 'Rosacea', 'Acne', 'Contact dermatitis', 'Atopic dermatitis', 'Seborrheic dermatitis', 'Stasis dermatitis', 'Nummular dermatitis', 'Lichen simplex chronicus', 'Prurigo nodularis', 'Scabies', 'Pediculosis', 'Tinea infections', 'Candidiasis', 'Urticaria', 'Angioedema', 'Erythema multiforme', 'Stevens-Johnson syndrome', 'Toxic epidermal necrolysis', 'Pemphigus vulgaris', 'Bullous pemphigoid', 'Dermatitis herpetiformis', 'Linear IgA bullous dermatosis', 'Epidermolysis bullosa acquisita', 'Porphyria cutanea tarda', 'Cutaneous lupus erythematosus', 'Dermatomyositis', 'Systemic sclerosis', 'Morphea', 'Lichen sclerosus', 'Granuloma annulare', 'Sarcoidosis', 'Amyloidosis', 'Necrobiosis lipoidica diabeticorum', 'Vitiligo', 'Melasma', 'Post-inflammatory hyperpigmentation', 'Albinism', 'Ochronosis', 'Argyria', 'Carotenemia', 'Jaundice', 'Cyanosis', 'Erythema', 'Flushing', 'Petechiae', 'Purpura', 'Ecchymosis', 'Hematoma', 'Telangiectasia', 'Venous lakes', 'Pyogenic granuloma', \"Kaposi's sarcoma\", 'Basal cell carcinoma', 'Squamous cell carcinoma', 'Melanoma', 'Merkel cell carcinoma', 'Lymphoma', 'Mycosis fungoides', 'Sézary syndrome', 'Skin cancer', 'Skin lesions', 'Cutaneous manifestations of systemic diseases', 'Skin infections', 'Skin infestations', 'Skin reactions', 'Skin growths', 'Benign skin conditions', 'Malignant skin conditions', 'Dermatological conditions', 'Skin disorders', 'Skin problems', 'Skin diseases', 'Skin ailments', 'Skin afflictions', 'Skin abnormalities', 'Skin irregularities', 'Skin impairments', 'Skin dysfunctions', 'Skin syndromes', 'Skin deformities', 'Skin disfigurements', 'Skin blemishes', 'Skin imperfections', 'Skin flaws', 'Skin imperfections', 'Skin marks', 'Skin signs', 'Skin features', 'Skin aspects', 'Skin attributes', 'Skin characteristics', 'Skin qualities', 'Skin properties', 'Skin elements', 'Skin components', 'Skin constituents', 'Skin ingredients', 'Skin parts', 'Skin units', 'Skin segments', 'Skin sections', 'Skin fragments', 'Skin details', 'Skin specifications', 'Skin indicators', 'Skin symptoms', 'Skin signs', 'Skin markers', 'Skin signals', 'Skin clues', 'Skin hints', 'Skin suggestions', 'Skin intimations', 'Skin allusions', 'Skin references', 'Skin annotations', 'Skin comments', 'Skin remarks', 'Skin observations', 'Skin findings', 'Skin discoveries', 'Skin revelations', 'Skin disclosures', 'Skin expositions', 'Skin explications', 'Skin elucidations', 'Skin clarifications', 'Skin illuminations', 'Skin enlightenments', 'Skin informings', 'Skin advisings', 'Skin guidances', 'Skin counselings', 'Skin recommendations', 'Skin endorsements', 'Skin approvals', 'Skin sanctions', 'Skin validations', 'Skin ratifications', 'Skin confirmations', 'Skin attestations', 'Skin certifications', 'Skin warranties', 'Skin assurances', 'Skin guarantees', 'Skin promises', 'Skin vows', 'Skin oaths', 'Skin pledges', 'Skin engagements', 'Skin commitments', 'Skin undertakings', 'Skin obligations', 'Skin responsibilities', 'Skin liabilities', 'Skin burdens', 'Skin encumbrances', 'Skin disadvantages', 'Skin drawbacks', 'Skin limitations', 'Skin restrictions', 'Skin constraints', 'Skin impediments', 'Skin hindrances', 'Skin obstacles', 'Skin barriers', 'Skin walls', 'Skin fences', 'Skin hedges', 'Skin defenses', 'Skin protections', 'Skin safeguards', 'Skin shields', 'Skin armors', 'Skin fortifications', 'Skin strongholds', 'Skin bulwarks', 'Skin ramparts', 'Skin barricades', 'Skin obstructions', 'Skin blockades', 'Skin interferences', 'Skin intrusions', 'Skin invasions', 'Skin assaults', 'Skin attacks', 'Skin aggressions', 'Skin violations', 'Skin transgressions', 'Skin infringements', 'Skin breaches', 'Skin ruptures', 'Skin fractures', 'Skin fissures', 'Skin cracks', 'Skin splits', 'Skin tears', 'Skin rents', 'Skin cleavages', 'Skin divisions', 'Skin separations', 'Skin detachments', 'Skin disconnections', 'Skin disjunctions', 'Skin discontinuities', 'Skin discrepancies', 'Skin disparities', 'Skin dissimilarities', 'Skin distinctions', 'Skin differences', 'Skin contrasts', 'Skin oppositions', 'Skin contradictions', 'Skin inconsistencies', 'Skin incongruities', 'Skin anomalies', 'Skin aberrations', 'Skin deviations', 'Skin divergences', 'Skin digressions', 'Skin excursions', 'Skin wanderings', 'Skin strayings', 'Skin errancies', 'Skin mistakes', 'Skin errors', 'Skin faults', 'Skin flaws', 'Skin defects', 'Skin shortcomings', 'Skin inadequacies', 'Skin deficiencies', 'Skin lacks', 'Skin wants', 'Skin needs', 'Skin requirements', 'Skin demands', 'Skin requisites', 'Skin essentials', 'Skin indispensables', 'Skin necessities', 'Skin vitalities', 'Skin integrities', 'Skin wholeness', 'Skin soundness', 'Skin healthiness', 'Skin robustness', 'Skin vigor', 'Skin strength', 'Skin power', 'Skin force', 'Skin might', 'Skin authority', 'Skin influence', 'Skin control', 'Skin command', 'Skin dominance', 'Skin supremacy', 'Skin sovereignty', 'Skin hegemony', 'Skin empire', 'Skin realm', 'Skin domain', 'Skin territory', 'Skin province', 'Skin region', 'Skin zone', 'Skin area', 'Skin space', 'Skin place', 'Skin location', 'Skin site', 'Skin spot', 'Skin point', 'Skin mark', 'Skin sign', 'Skin symbol', 'Skin emblem', 'Skin badge', 'Skin token', 'Skin representation', 'Skin image', 'Skin figure', 'Skin form', 'Skin shape', 'Skin outline', 'Skin silhouette', 'Skin contour', 'Skin profile', 'Skin aspect', 'Skin view', 'Skin perspective', 'Skin angle', 'Skin position', 'Skin orientation', 'Skin arrangement', 'Skin configuration', 'Skin structure', 'Skin composition', 'Skin constitution', 'Skin fabric', 'Skin texture', 'Skin grain', 'Skin nap', 'Skin pile', 'Skin weave', 'Skin knit', 'Skin felt', 'Skin hide', 'Skin pelt', 'Skin fleece', 'Skin wool', 'Skin hair', 'Skin fur', 'Skin down', 'Skin plumage', 'Skin scales', 'Skin feathers', 'Skin quills', 'Skin bristles', 'Skin whiskers', 'Skin spines', 'Skin needles', 'Skin thorns', 'Skin prickles', 'Skin burrs', 'Skin hooks', 'Skin barbs', 'Skin cilia', 'Skin flagella', 'Skin pseudopodia', 'Skin tentacles', 'Skin antennae', 'Skin palps', 'Skin mandibles', 'Skin maxillae', 'Skin labium', 'Skin labrum', 'Skin elytra', 'Skin wings', 'Skin legs', 'Skin arms', 'Skin fins', 'Skin flippers', 'Skin paddles', 'Skin sails', 'Skin rudders', 'Skin anchors', 'Skin claspers', 'Skin suckers', 'Skin hooks', 'Skin barbs', 'Skin spines', 'Skin needles', 'Skin thorns', 'Skin prickles', 'Skin burrs', 'Skin hooks', 'Skin barbs', 'Skin cilia', 'Skin flagella', 'Skin pseudopodia', 'Skin tentacles', 'Skin antennae', 'Skin palps', 'Skin mandibles', 'Skin maxillae', 'Skin labium', 'Skin labrum', 'Skin elytra', 'Skin wings', 'Skin legs', 'Skin arms', 'Skin fins', 'Skin flippers', 'Skin paddles', 'Skin sails', 'Skin rudders', 'Skin anchors', 'Skin claspers', 'Skin suckers', 'Skin hooks', 'Skin barbs', 'Skin spines', 'Skin needles', 'Skin thorns', 'Skin prickles', 'Skin burrs', 'Skin hooks', 'Skin barbs', 'Skin cilia', 'Skin flagella', 'Skin pseudopodia', 'Skin tentacles', 'Skin antennae', 'Skin palps', 'Skin mandibles', 'Skin maxillae', 'Skin labium', 'Skin labrum', 'Skin elytra', 'Skin wings', 'Skin legs', 'Skin arms', 'Skin fins', 'Skin flippers', 'Skin paddles', 'Skin sails', 'Skin rudders', 'Skin anchors', 'Skin claspers', 'Skin suckers']\n",
            " The length of the list is: 703\n"
          ]
        }
      ]
    },
    {
      "cell_type": "code",
      "source": [
        "suspect_physique = suspect_physique[:100]"
      ],
      "metadata": {
        "id": "JE23mkcH5dBC"
      },
      "execution_count": null,
      "outputs": []
    },
    {
      "cell_type": "code",
      "source": [
        "convert_list_to_txt(suspect_physique,\"suspect_physique.txt\")"
      ],
      "metadata": {
        "colab": {
          "base_uri": "https://localhost:8080/"
        },
        "id": "eAZQn8lf5RBN",
        "outputId": "00407b45-1b08-4036-b9eb-864d3493cc22"
      },
      "execution_count": null,
      "outputs": [
        {
          "output_type": "stream",
          "name": "stdout",
          "text": [
            "List converted to suspect_physique.txt\n"
          ]
        }
      ]
    },
    {
      "cell_type": "code",
      "source": [
        "suspect_occupation_prompt = \"List 10 different occupations that is common among murder suspects. Output the occupation in a singular form. Make each output in a seperate line. Do not repeat the outputs. Do not include any other text.\"\n",
        "suspect_occupation = populate_data_for_permutations(suspect_occupation_prompt,\"suspect_occupation\")"
      ],
      "metadata": {
        "colab": {
          "base_uri": "https://localhost:8080/",
          "height": 72
        },
        "id": "fgRTgb3A5q8o",
        "outputId": "02744b9e-c569-4728-e58e-dc93db249735"
      },
      "execution_count": null,
      "outputs": [
        {
          "output_type": "stream",
          "name": "stdout",
          "text": [
            "The data generated for suspect_occupation:['Laborer', 'Driver', 'Security guard', 'Business owner', 'Healthcare worker', 'Teacher', 'Clergy member', 'Military personnel', 'Farmer', 'Unemployed']\n",
            " The length of the list is: 10\n"
          ]
        }
      ]
    },
    {
      "cell_type": "code",
      "source": [
        "convert_list_to_txt(suspect_occupation,\"suspect_occupation.txt\")"
      ],
      "metadata": {
        "colab": {
          "base_uri": "https://localhost:8080/"
        },
        "id": "NnADQHSn9X-N",
        "outputId": "535f9f29-3d7f-4f2a-b357-37c38f8e39c3"
      },
      "execution_count": null,
      "outputs": [
        {
          "output_type": "stream",
          "name": "stdout",
          "text": [
            "List converted to suspect_occupation.txt\n"
          ]
        }
      ]
    },
    {
      "cell_type": "code",
      "source": [
        "suspect_motivation_prompt  = \"List 20 different motivations a murder suspect would have to commit the murder.Make each output in a seperate line. Do not repeat the outputs. Do not include any other text \"\n",
        "suspect_motivation = populate_data_for_permutations(suspect_motivation_prompt,\"suspect_motivation\")\n"
      ],
      "metadata": {
        "colab": {
          "base_uri": "https://localhost:8080/",
          "height": 72
        },
        "id": "LlieU7Cc6bGO",
        "outputId": "dd067ef2-f915-472a-9067-a630400bc5c5"
      },
      "execution_count": null,
      "outputs": [
        {
          "output_type": "stream",
          "name": "stdout",
          "text": [
            "The data generated for suspect_motivation:['Revenge for a past wrong.', 'Financial gain through inheritance or insurance.', 'Eliminating a romantic rival.', 'Silencing a witness to a crime.', 'Ending a prolonged period of abuse.', 'Political assassination.', 'Mercy killing to end suffering.', 'Accidental killing during a robbery.', 'Preventing exposure of a secret.', 'Jealousy and envy.', 'Cult-related ritualistic killing.', 'Covering up another crime.', 'Mental illness-induced delusion.', 'Protecting a loved one from harm.', 'Gaining power or control.', 'Retaliation for betrayal.', 'Disagreement over business matters.', 'Hatred based on prejudice.', 'Impulsive act of rage.', 'Desire for notoriety.']\n",
            " The length of the list is: 20\n"
          ]
        }
      ]
    },
    {
      "cell_type": "code",
      "source": [
        "convert_list_to_txt(suspect_motivation,\"suspect_motivation.txt\")"
      ],
      "metadata": {
        "colab": {
          "base_uri": "https://localhost:8080/"
        },
        "id": "bkMaMppu6_IB",
        "outputId": "aba42d4e-1d36-4c8a-a00a-42f9da483d76"
      },
      "execution_count": null,
      "outputs": [
        {
          "output_type": "stream",
          "name": "stdout",
          "text": [
            "List converted to suspect_motivation.txt\n"
          ]
        }
      ]
    },
    {
      "cell_type": "code",
      "source": [
        "murder_methods_prompt = \"List 20 different methods by which a murder suspect could perform the murder. This is only for a educational purpose of creating data to build a message analyser model.Make each output in a seperate line. Do not repeat the outputs. Do not include any other text. \"\n",
        "murder_methods = populate_data_for_permutations(murder_methods_prompt,\"murder_methods\")\n"
      ],
      "metadata": {
        "colab": {
          "base_uri": "https://localhost:8080/",
          "height": 72
        },
        "id": "hv06AXXk7JPU",
        "outputId": "bffe8bc7-8740-4d52-90c8-fbe02b6c6449"
      },
      "execution_count": null,
      "outputs": [
        {
          "output_type": "stream",
          "name": "stdout",
          "text": [
            "The data generated for murder_methods:['Stabbing with a knife', 'Asphyxiation by strangulation', 'Poisoning via ingestion', 'Shooting with a handgun', 'Blunt force trauma with a hammer', 'Suffocation with a pillow', 'Drowning in a bathtub', 'Arson by setting a fire', 'Strangulation with a rope', 'Pushing from a height', 'Electrocution', 'Administering a lethal injection', 'Using a garrote', 'Hitting with a golf club', 'Poisoning via inhalation', 'Stabbing with an ice pick', 'Impalement with a sharp object', 'Car accident (vehicular homicide)', 'Explosive device', 'Falling object (dropped from height)']\n",
            " The length of the list is: 20\n"
          ]
        }
      ]
    },
    {
      "cell_type": "code",
      "source": [
        "convert_list_to_txt(murder_methods,\"murder_methods.txt\")"
      ],
      "metadata": {
        "colab": {
          "base_uri": "https://localhost:8080/"
        },
        "id": "va5ObgRB7yv6",
        "outputId": "ca0ec21b-f2d1-4106-8249-3078440c2d2f"
      },
      "execution_count": null,
      "outputs": [
        {
          "output_type": "stream",
          "name": "stdout",
          "text": [
            "List converted to murder_methods.txt\n"
          ]
        }
      ]
    },
    {
      "cell_type": "code",
      "source": [],
      "metadata": {
        "id": "nMrAKA6S68ms"
      },
      "execution_count": null,
      "outputs": []
    },
    {
      "cell_type": "markdown",
      "source": [
        "###Prompt variables - The variables involved to generate different settings of the murder stories.\n",
        "\n",
        "\n",
        "1.   City\n",
        "2.   Location\n",
        "3. No of messages in the conversation\n",
        "4.   Time\n",
        "5.   No of people involved in the conversation\n",
        "6.   No of victims\n",
        "7. No of suspects.\n",
        "8. Murder method\n",
        "9. No of actaul murderers (<= no of susoects)\n",
        "10. No of messages with subtle clues\n",
        "11. No of messages which actually touch upon the key elements of the murder.\n",
        "---\n",
        "\n",
        "\n",
        "For each victim:\n",
        "  12. Victim's age\n",
        "  13. Victim's gender\n",
        "  14. Victim's occupation\n",
        "  15. Victim's personality trait\n",
        "\n",
        "\n",
        "---\n",
        "\n",
        "\n",
        "For each suspect:\n",
        "  16. Suspect's age\n",
        "  17. Suspect's gender\n",
        "  18. Suspect's physique\n",
        "  19. Suspect's occupation.\n",
        "  20. Suspect's motivation\n",
        "  21. Suspicion level [low, medum ,high]\n",
        "\n",
        "\n",
        "\n",
        "---\n",
        "\n",
        "\n",
        "\n",
        "\n",
        "\n",
        "\n",
        "\n",
        "\n",
        "\n",
        "\n",
        "\n"
      ],
      "metadata": {
        "id": "0MUgQJFH_1Hh"
      }
    },
    {
      "cell_type": "code",
      "source": [
        "def permutations():\n",
        "  def read_txt_to_list(filename):\n",
        "    list_=[]\n",
        "    with open(filename, \"r\") as f:\n",
        "      for line in f:\n",
        "        list_.append(line.strip())\n",
        "    return list_\n",
        "  def listofdict_to_json(list_of_dict, filename):\n",
        "    with open(filename, \"w+\") as f:\n",
        "      json.dump(list_of_dict,f)\n",
        "    print(\"Converted the list of dictionaries into {}\".format(filename))\n",
        "  permutation_dictionary = read_txt_to_list(\"/content/cities.txt\")\n",
        "  locations = read_txt_to_list(\"/content/locations.txt\")\n",
        "  times = read_txt_to_list(\"/content/time_settings.txt\")\n",
        "  no_of_people_in_conversation = [2,3,4,5]\n",
        "  no_of_victims = [1,2]\n",
        "  no_of_suspects = [1,2,3,4]\n",
        "  no_of_messages = [ i for i in range(20,200,5)]\n",
        "  victim_age = read_txt_to_list(\"/content/victim_ages.txt\")\n",
        "  victim_gender = read_txt_to_list(\"/content/victim_genders.txt\")\n",
        "  victim_occupation = read_txt_to_list(\"/content/victim_occupation.txt\")\n",
        "  victim_personality = read_txt_to_list(\"/content/victim_personality.txt\")\n",
        "  suspect_age = read_txt_to_list(\"/content/suspect_age.txt\")\n",
        "  suspect_gender = read_txt_to_list(\"/content/suspect_gender.txt\")\n",
        "  suspect_physique = read_txt_to_list(\"/content/suspect_physique.txt\")\n",
        "  suspect_occupation = read_txt_to_list(\"/content/suspect_occupation.txt\")\n",
        "  suspect_motivation= read_txt_to_list(\"/content/suspect_motivation.txt\")\n",
        "  murder_nethods = read_txt_to_list(\"/content/murder_methods.txt\")\n",
        "  permutations = []\n",
        "  for i in range(200):\n",
        "    permutation_dictionary = {}\n",
        "    permutation_dictionary[\"city\"] = random.choice(cities)\n",
        "    permutation_dictionary[\"location\"] = random.choice(locations)\n",
        "    permutation_dictionary[\"time\"] = random.choice(times)\n",
        "    permutation_dictionary[\"no_of_people_in_conversation\"] = random.choice(no_of_people_in_conversation)\n",
        "    permutation_dictionary[\"murder_method\"] = random.choice(murder_methods)\n",
        "    permutation_dictionary[\"no_of_victims\"] = random.choice(no_of_victims)\n",
        "    permutation_dictionary[\"no_of_suspects\"] = random.choice(no_of_suspects)\n",
        "    permutation_dictionary[\"no_of_messages\"] = random.choice(no_of_messages)\n",
        "    for j in range(1,permutation_dictionary[\"no_of_victims\"]+1):\n",
        "      victim_dictionary={}\n",
        "      victim_dictionary[\"age\"] = random.choice(victim_age)\n",
        "      victim_dictionary[\"gender\"] = random.choice(victim_gender)\n",
        "      victim_dictionary[\"occupation\"] = random.choice(victim_occupation)\n",
        "      victim_dictionary[\"personality\"] = random.choice(victim_personality)\n",
        "      permutation_dictionary[\"victim_{}\".format(j)] = victim_dictionary\n",
        "    for k in range(1,permutation_dictionary[\"no_of_suspects\"]+1):\n",
        "      suspect_dictionary = {}\n",
        "      suspect_dictionary[\"age\"] = random.choice(suspect_age)\n",
        "      suspect_dictionary[\"gender\"] = random.choice(suspect_gender)\n",
        "      suspect_dictionary[\"physqiue\"] = random.choice(suspect_physique)\n",
        "      suspect_dictionary[\"occupation\"] = random.choice(suspect_occupation)\n",
        "      suspect_dictionary[\"motivation\"] = random.choice(suspect_motivation)\n",
        "      permutation_dictionary[\"suspect_{}\".format(k)] = suspect_dictionary\n",
        "    permutations.append(permutation_dictionary)\n",
        "  listofdict_to_json(permutations,\"permutations.json\")\n",
        "\n"
      ],
      "metadata": {
        "id": "hQKaNyvBirQv"
      },
      "execution_count": null,
      "outputs": []
    },
    {
      "cell_type": "code",
      "source": [
        "permutations()"
      ],
      "metadata": {
        "colab": {
          "base_uri": "https://localhost:8080/"
        },
        "id": "-q_4wP5JMOvS",
        "outputId": "dd3b1eaa-6439-4d47-9fb3-2fb3a6341461"
      },
      "execution_count": null,
      "outputs": [
        {
          "output_type": "stream",
          "name": "stdout",
          "text": [
            "Converted the list of dictionaries into permutations.json\n"
          ]
        }
      ]
    },
    {
      "cell_type": "code",
      "source": [
        "def json_to_list_of_dicts(jsonfile):\n",
        "  l=[]\n",
        "  with open(jsonfile,\"r\") as f:\n",
        "    data = json.load(f)\n",
        "    for di in data:\n",
        "      l.append(di)\n",
        "    return l\n",
        "\n"
      ],
      "metadata": {
        "id": "5UCS6XJBa3Xp"
      },
      "execution_count": 103,
      "outputs": []
    },
    {
      "cell_type": "code",
      "source": [
        "permutations = json_to_list_of_dicts(\"/content/permutations.json\")"
      ],
      "metadata": {
        "id": "jRNFjdhrddOR"
      },
      "execution_count": 104,
      "outputs": []
    },
    {
      "cell_type": "code",
      "source": [
        "len(permutations)"
      ],
      "metadata": {
        "colab": {
          "base_uri": "https://localhost:8080/"
        },
        "id": "x_gKS7d8docu",
        "outputId": "3382fe87-a483-4e0f-82e4-fb0d9d151368"
      },
      "execution_count": 105,
      "outputs": [
        {
          "output_type": "execute_result",
          "data": {
            "text/plain": [
              "200"
            ]
          },
          "metadata": {},
          "execution_count": 105
        }
      ]
    },
    {
      "cell_type": "code",
      "source": [
        "permutations[0]"
      ],
      "metadata": {
        "colab": {
          "base_uri": "https://localhost:8080/"
        },
        "id": "K3BkQUIxd6tt",
        "outputId": "f165461a-f327-4b7a-f5f4-ac1264754834"
      },
      "execution_count": 106,
      "outputs": [
        {
          "output_type": "execute_result",
          "data": {
            "text/plain": [
              "{'city': 'Indianapolis, IN',\n",
              " 'location': 'Spa',\n",
              " 'time': 'Midday',\n",
              " 'no_of_people_in_conversation': 5,\n",
              " 'murder_method': 'Falling object (dropped from height)',\n",
              " 'no_of_victims': 1,\n",
              " 'no_of_suspects': 4,\n",
              " 'no_of_messages': 130,\n",
              " 'victim_1': {'age': '40',\n",
              "  'gender': 'Transgender woman',\n",
              "  'occupation': '4.  Journalist',\n",
              "  'personality': 'Kind'},\n",
              " 'suspect_1': {'age': '19',\n",
              "  'gender': 'Transgender Female',\n",
              "  'physqiue': 'Unusually long fingers',\n",
              "  'occupation': 'Settling a personal vendetta.',\n",
              "  'motivation': 'Cult-related ritualistic killing.'},\n",
              " 'suspect_2': {'age': '37',\n",
              "  'gender': 'Transgender Female',\n",
              "  'physqiue': 'Age spots on hands',\n",
              "  'occupation': 'Financial gain through inheritance.',\n",
              "  'motivation': 'Eliminating a romantic rival.'},\n",
              " 'suspect_3': {'age': '43',\n",
              "  'gender': 'Transgender Female',\n",
              "  'physqiue': 'Tremor in hands',\n",
              "  'occupation': 'Mercy killing due to severe suffering.',\n",
              "  'motivation': 'Cult-related ritualistic killing.'},\n",
              " 'suspect_4': {'age': '22',\n",
              "  'gender': 'Non-binary',\n",
              "  'physqiue': 'Visible tattoos',\n",
              "  'occupation': 'Financial gain through inheritance.',\n",
              "  'motivation': 'Political assassination.'}}"
            ]
          },
          "metadata": {},
          "execution_count": 106
        }
      ]
    },
    {
      "cell_type": "code",
      "source": [
        "def prompt_string_formation(type_,data):\n",
        "  if type_==\"victim\":\n",
        "    filename = \"/content/true_positives_victims.txt\"\n",
        "    dictionary_variable_1 = \"no_of_victims\"\n",
        "    dictionary_variable_2=\"victim_{}\"\n",
        "  else:\n",
        "    filename = \"/content/true_positives_suspects.txt\"\n",
        "    dictionary_variable_1 = \"no_of_suspects\"\n",
        "    dictionary_variable_2=\"suspect_{}\"\n",
        "  with open(filename, \"r\") as f:\n",
        "    prompt_part = f.read()\n",
        "  str_=\"\"\n",
        "  for i in range(1,data[dictionary_variable_1]+1):\n",
        "    if type_==\"victim\":\n",
        "      str_+= prompt_part.format(i,data[dictionary_variable_2.format(i)][\"age\"],data[dictionary_variable_2.format(i)][\"gender\"],data[dictionary_variable_2.format(i)][\"occupation\"],data[dictionary_variable_2.format(i)][\"personality\"])\n",
        "    else:\n",
        "      str_+=prompt_part.format(i,data[dictionary_variable_2.format(i)][\"age\"],data[dictionary_variable_2.format(i)][\"gender\"],data[dictionary_variable_2.format(i)][\"physqiue\"],data[dictionary_variable_2.format(i)][\"occupation\"],data[dictionary_variable_2.format(i)][\"motivation\"],random.choice([\"low\",\"medium\",\"high\"]))\n",
        "  return str_\n",
        "\n"
      ],
      "metadata": {
        "id": "AhLvyQXFe4Gd"
      },
      "execution_count": 107,
      "outputs": []
    },
    {
      "cell_type": "code",
      "source": [
        "str_=prompt_string_formation(\"suspect\",permutations[0])"
      ],
      "metadata": {
        "id": "3c5y3GW0uPc5"
      },
      "execution_count": 108,
      "outputs": []
    },
    {
      "cell_type": "code",
      "source": [
        "print(str_)"
      ],
      "metadata": {
        "colab": {
          "base_uri": "https://localhost:8080/"
        },
        "id": "FX7FqOLpvtVq",
        "outputId": "e5e6d0a8-1d14-4601-fc27-3d54291ce0b3"
      },
      "execution_count": 109,
      "outputs": [
        {
          "output_type": "stream",
          "name": "stdout",
          "text": [
            "Suspect 1 Profile:\n",
            "   • Age: 19\n",
            "   • Gender: Transgender Female\n",
            "   • Physique: Unusually long fingers\n",
            "   • Occupation: Settling a personal vendetta.\n",
            "   • Stated Motivation: Cult-related ritualistic killing.\n",
            "   • Suspicion Level: low\n",
            "Suspect 2 Profile:\n",
            "   • Age: 37\n",
            "   • Gender: Transgender Female\n",
            "   • Physique: Age spots on hands\n",
            "   • Occupation: Financial gain through inheritance.\n",
            "   • Stated Motivation: Eliminating a romantic rival.\n",
            "   • Suspicion Level: high\n",
            "Suspect 3 Profile:\n",
            "   • Age: 43\n",
            "   • Gender: Transgender Female\n",
            "   • Physique: Tremor in hands\n",
            "   • Occupation: Mercy killing due to severe suffering.\n",
            "   • Stated Motivation: Cult-related ritualistic killing.\n",
            "   • Suspicion Level: low\n",
            "Suspect 4 Profile:\n",
            "   • Age: 22\n",
            "   • Gender: Non-binary\n",
            "   • Physique: Visible tattoos\n",
            "   • Occupation: Financial gain through inheritance.\n",
            "   • Stated Motivation: Political assassination.\n",
            "   • Suspicion Level: high\n",
            "\n"
          ]
        }
      ]
    },
    {
      "cell_type": "markdown",
      "source": [],
      "metadata": {
        "id": "dbtgOmoo38c3"
      }
    },
    {
      "cell_type": "code",
      "source": [
        "def prompt(permutation):\n",
        "  with open(\"/content/true_postive_first_part.txt\", \"r\") as f:\n",
        "    true_positives_first_part = f.read()\n",
        "  with open(\"/content/true_psoitives_last_part.txt\", \"r\") as f:\n",
        "    true_positives_last_part = f.read()\n",
        "  true_positives_first_part = true_positives_first_part.format(random.randint(1,permutation[\"no_of_suspects\"]),permutation[\"city\"],permutation[\"location\"],permutation[\"time\"],permutation[\"no_of_messages\"],permutation[\"no_of_people_in_conversation\"],permutation[\"no_of_victims\"],permutation[\"no_of_suspects\"],permutation[\"murder_method\"])\n",
        "  true_positives_victims = prompt_string_formation(type_=\"victim\",data = permutation)\n",
        "  true_positives_suspects = prompt_string_formation(type_=\"suspect\",data = permutation)\n",
        "  true_positives_last_part = true_positives_last_part.format(random.randint(1,permutation[\"no_of_suspects\"]),permutation[\"no_of_suspects\"]-1,random.randint(3,7),random.randint(3,7),permutation[\"time\"],permutation[\"murder_method\"], permutation[\"victim_1\"][\"occupation\"],permutation[\"murder_method\"],permutation[\"no_of_messages\"],random.randint(1,4))\n",
        "  return true_positives_first_part+true_positives_victims+ true_positives_suspects+true_positives_last_part"
      ],
      "metadata": {
        "id": "-PjLzXjfjYOz"
      },
      "execution_count": 110,
      "outputs": []
    },
    {
      "cell_type": "code",
      "source": [
        "prompt(permutations[0])"
      ],
      "metadata": {
        "colab": {
          "base_uri": "https://localhost:8080/",
          "height": 105
        },
        "id": "t4OeTGr7f1Iy",
        "outputId": "b13a2131-cdff-4a9e-9b65-37ce87933c95"
      },
      "execution_count": 111,
      "outputs": [
        {
          "output_type": "execute_result",
          "data": {
            "text/plain": [
              "'Context: The conversation should contain text messages where:\\n   - Only 2 suspects are actually involved in the crime\\n   - Some suspects show genuine innocence\\n   - Some might have hidden motives that aren\\'t obvious\\n   - Include red herrings and false leads\\n\\nSetting:\\nA brutal murder has shaken the city of Indianapolis, IN, specifically at Spa. \\nThe crime occurred at Midday.\\nAuthorities retrieved 130 messages between 5 people.\\n\\nCrime Profile:\\n• Victims: 1\\n• Suspects: 4\\n• Murder method: Falling object (dropped from height)Victim 1 Details:\\n   • Age: 40\\n   • Gender: Transgender woman\\n   • Occupation: 4.  Journalist\\n   • Personality Trait: Kind\\nSuspect 1 Profile:\\n   • Age: 19\\n   • Gender: Transgender Female\\n   • Physique: Unusually long fingers\\n   • Occupation: Settling a personal vendetta.\\n   • Stated Motivation: Cult-related ritualistic killing.\\n   • Suspicion Level: low\\nSuspect 2 Profile:\\n   • Age: 37\\n   • Gender: Transgender Female\\n   • Physique: Age spots on hands\\n   • Occupation: Financial gain through inheritance.\\n   • Stated Motivation: Eliminating a romantic rival.\\n   • Suspicion Level: low\\nSuspect 3 Profile:\\n   • Age: 43\\n   • Gender: Transgender Female\\n   • Physique: Tremor in hands\\n   • Occupation: Mercy killing due to severe suffering.\\n   • Stated Motivation: Cult-related ritualistic killing.\\n   • Suspicion Level: high\\nSuspect 4 Profile:\\n   • Age: 22\\n   • Gender: Non-binary\\n   • Physique: Visible tattoos\\n   • Occupation: Financial gain through inheritance.\\n   • Stated Motivation: Political assassination.\\n   • Suspicion Level: medium\\nNarrative Guidance:\\n1. Only 4  suspect(s) actually committed the crime\\n2. Include 3 red herrings\\n3. Show different levels of:\\n   • Defensiveness\\n   • Cooperation with others\\n   • Knowledge of crime details\\n4. Make 30% of messages appear unrelated\\n5. Include subtle clues in 4 messages\\n6. Ensure all victims are mentioned by name or role (e.g., \"the manager\") at least once in the conversation.\\n7. **Incorporate at least 4 instances where the messages touch upon key elements of the crime, such as:**\\n        *   **Actus Reus:** Mentions of actions taken by suspects around the time of the crime (e.g., \"I saw him leave the building at Midday\", \"She was buying Falling object (dropped from height) at the store\").\\n        *   **Mens Rea:** Hints at the suspects\\' state of mind, intent, or knowledge (e.g., \"He always hated 4.  Journalist\", \"She said she wanted to get rid of him\"). Use words like \"intended,\" \"knew,\" \"aware,\" \"purposefully\".\\n        *   **Concurrence:** Implied connections between actions and intent (e.g., \"He was talking about hurting her right before he went over there\").\\n        *   **Causation:** Statements that link a suspect\\'s actions to the victim\\'s harm (e.g., \"If he hadn\\'t fired her, none of this would have happened\", \"Her shouting probably provoked him\"). Try to have an intervening cause, like failure to call 911 after the victim was hurt, making the harm worse.\\n        *   **Attempt:** Allusions to preparatory acts or failed attempts (e.g., \"He was looking up how to make Falling object (dropped from height) online\", \"She tried to talk him out of it\").\\n        *   **Attendant/Extenuating Circumstances:** References to factors that could influence culpability (e.g., victim\\'s age in a statutory rape hypothetical, potential self-defense claims, evidence of duress, victim\\'s own aggression leading to the crime.)\\n8.  **Consider Punishment:** In at least one message, directly or indirectly reference the potential consequences or severity of the crime (e.g., \"They\\'re going away for a long time for this\", \"Hope they don\\'t get the death penalty\").\\n\\nConstruct a 130-message conversation with:\\n- Natural dialogue pacing\\n- Hidden tension between some participants\\n- Mixed levels of involvement\\n- Make up random names for suspects and victims. \\n- Plausible deniability for most suspects\\n- At least 2 misleading statements\\n- Dont use too much legal jargon as it might sound unnatural.\\n- Dont mention victim and suspect beside names. It sounds unnnatural in a conversation. \\n- Give only the text messages and dont give any additional comments\\n\\nFormat STRICTLY as:\\n[Message 1] <Speaker Name>: \"...\" \\n[Message 2] <Speaker Name>: \"...\" \\n...'"
            ],
            "application/vnd.google.colaboratory.intrinsic+json": {
              "type": "string"
            }
          },
          "metadata": {},
          "execution_count": 111
        }
      ]
    },
    {
      "cell_type": "code",
      "source": [
        "def generate(prompt, gemini_model):\n",
        "  response = gemini_model.generate_content(contents= prompt)\n",
        "  return response\n"
      ],
      "metadata": {
        "id": "5X5fS-Dcjbto"
      },
      "execution_count": 112,
      "outputs": []
    },
    {
      "cell_type": "code",
      "source": [
        "def ground_truth(generation_file):\n",
        ""
      ],
      "metadata": {
        "id": "TlJjh-0OjiBr"
      },
      "execution_count": null,
      "outputs": []
    },
    {
      "cell_type": "code",
      "source": [
        "def save_messages_as_csv():\n",
        "  conversations = []\n",
        "  for num,i in enumerate(permutations[0:2]):\n",
        "    prompt_ = prompt(i)\n",
        "    conversation = generate(prompt_,gemini_model)\n",
        "    conversations.append(conversation.text)\n",
        "    print(\"Conversation {} done\".format(num))\n",
        "  with open(\"conversations.csv\", \"w+\") as f:\n",
        "    writer = csv.writer(f)\n",
        "    for conversation in conversations:\n",
        "      writer.writerow([conversation])\n",
        "  print(\"conversations.csv is saved!\")\n"
      ],
      "metadata": {
        "id": "ZB5SJi84joPW"
      },
      "execution_count": 117,
      "outputs": []
    },
    {
      "cell_type": "code",
      "source": [
        "save_messages_as_csv()"
      ],
      "metadata": {
        "colab": {
          "base_uri": "https://localhost:8080/",
          "height": 287
        },
        "id": "_jSN1WH14sQ3",
        "outputId": "42437c58-1c66-4901-98f3-e8938857283f"
      },
      "execution_count": 118,
      "outputs": [
        {
          "output_type": "error",
          "ename": "KeyboardInterrupt",
          "evalue": "",
          "traceback": [
            "\u001b[0;31m---------------------------------------------------------------------------\u001b[0m",
            "\u001b[0;31mKeyboardInterrupt\u001b[0m                         Traceback (most recent call last)",
            "\u001b[0;32m<ipython-input-118-9ceaad685d3d>\u001b[0m in \u001b[0;36m<cell line: 0>\u001b[0;34m()\u001b[0m\n\u001b[0;32m----> 1\u001b[0;31m \u001b[0msave_messages_as_csv\u001b[0m\u001b[0;34m(\u001b[0m\u001b[0;34m)\u001b[0m\u001b[0;34m\u001b[0m\u001b[0;34m\u001b[0m\u001b[0m\n\u001b[0m",
            "\u001b[0;32m<ipython-input-117-9f7d47dcfc23>\u001b[0m in \u001b[0;36msave_messages_as_csv\u001b[0;34m()\u001b[0m\n\u001b[1;32m      3\u001b[0m   \u001b[0;32mfor\u001b[0m \u001b[0mnum\u001b[0m\u001b[0;34m,\u001b[0m\u001b[0mi\u001b[0m \u001b[0;32min\u001b[0m \u001b[0menumerate\u001b[0m\u001b[0;34m(\u001b[0m\u001b[0mpermutations\u001b[0m\u001b[0;34m[\u001b[0m\u001b[0;36m0\u001b[0m\u001b[0;34m:\u001b[0m\u001b[0;36m2\u001b[0m\u001b[0;34m]\u001b[0m\u001b[0;34m)\u001b[0m\u001b[0;34m:\u001b[0m\u001b[0;34m\u001b[0m\u001b[0;34m\u001b[0m\u001b[0m\n\u001b[1;32m      4\u001b[0m     \u001b[0mprompt_\u001b[0m \u001b[0;34m=\u001b[0m \u001b[0mprompt\u001b[0m\u001b[0;34m(\u001b[0m\u001b[0mi\u001b[0m\u001b[0;34m)\u001b[0m\u001b[0;34m\u001b[0m\u001b[0;34m\u001b[0m\u001b[0m\n\u001b[0;32m----> 5\u001b[0;31m     \u001b[0mconversation\u001b[0m \u001b[0;34m=\u001b[0m \u001b[0mgenerate\u001b[0m\u001b[0;34m(\u001b[0m\u001b[0mprompt_\u001b[0m\u001b[0;34m,\u001b[0m\u001b[0mgemini_model\u001b[0m\u001b[0;34m)\u001b[0m\u001b[0;34m\u001b[0m\u001b[0;34m\u001b[0m\u001b[0m\n\u001b[0m\u001b[1;32m      6\u001b[0m     \u001b[0mconversations\u001b[0m\u001b[0;34m.\u001b[0m\u001b[0mappend\u001b[0m\u001b[0;34m(\u001b[0m\u001b[0mconversation\u001b[0m\u001b[0;34m.\u001b[0m\u001b[0mtext\u001b[0m\u001b[0;34m)\u001b[0m\u001b[0;34m\u001b[0m\u001b[0;34m\u001b[0m\u001b[0m\n\u001b[1;32m      7\u001b[0m     \u001b[0mprint\u001b[0m\u001b[0;34m(\u001b[0m\u001b[0;34m\"Conversation {} done\"\u001b[0m\u001b[0;34m.\u001b[0m\u001b[0mformat\u001b[0m\u001b[0;34m(\u001b[0m\u001b[0mnum\u001b[0m\u001b[0;34m)\u001b[0m\u001b[0;34m)\u001b[0m\u001b[0;34m\u001b[0m\u001b[0;34m\u001b[0m\u001b[0m\n",
            "\u001b[0;32m<ipython-input-112-cfddcd975071>\u001b[0m in \u001b[0;36mgenerate\u001b[0;34m(prompt, gemini_model)\u001b[0m\n\u001b[1;32m      1\u001b[0m \u001b[0;32mdef\u001b[0m \u001b[0mgenerate\u001b[0m\u001b[0;34m(\u001b[0m\u001b[0mprompt\u001b[0m\u001b[0;34m,\u001b[0m \u001b[0mgemini_model\u001b[0m\u001b[0;34m)\u001b[0m\u001b[0;34m:\u001b[0m\u001b[0;34m\u001b[0m\u001b[0;34m\u001b[0m\u001b[0m\n\u001b[0;32m----> 2\u001b[0;31m   \u001b[0mresponse\u001b[0m \u001b[0;34m=\u001b[0m \u001b[0mgemini_model\u001b[0m\u001b[0;34m.\u001b[0m\u001b[0mgenerate_content\u001b[0m\u001b[0;34m(\u001b[0m\u001b[0mcontents\u001b[0m\u001b[0;34m=\u001b[0m \u001b[0mprompt\u001b[0m\u001b[0;34m)\u001b[0m\u001b[0;34m\u001b[0m\u001b[0;34m\u001b[0m\u001b[0m\n\u001b[0m\u001b[1;32m      3\u001b[0m   \u001b[0;32mreturn\u001b[0m \u001b[0mresponse\u001b[0m\u001b[0;34m\u001b[0m\u001b[0;34m\u001b[0m\u001b[0m\n",
            "\u001b[0;32m/usr/local/lib/python3.11/dist-packages/google/generativeai/generative_models.py\u001b[0m in \u001b[0;36mgenerate_content\u001b[0;34m(self, contents, generation_config, safety_settings, stream, tools, tool_config, request_options)\u001b[0m\n\u001b[1;32m    329\u001b[0m                 \u001b[0;32mreturn\u001b[0m \u001b[0mgeneration_types\u001b[0m\u001b[0;34m.\u001b[0m\u001b[0mGenerateContentResponse\u001b[0m\u001b[0;34m.\u001b[0m\u001b[0mfrom_iterator\u001b[0m\u001b[0;34m(\u001b[0m\u001b[0miterator\u001b[0m\u001b[0;34m)\u001b[0m\u001b[0;34m\u001b[0m\u001b[0;34m\u001b[0m\u001b[0m\n\u001b[1;32m    330\u001b[0m             \u001b[0;32melse\u001b[0m\u001b[0;34m:\u001b[0m\u001b[0;34m\u001b[0m\u001b[0;34m\u001b[0m\u001b[0m\n\u001b[0;32m--> 331\u001b[0;31m                 response = self._client.generate_content(\n\u001b[0m\u001b[1;32m    332\u001b[0m                     \u001b[0mrequest\u001b[0m\u001b[0;34m,\u001b[0m\u001b[0;34m\u001b[0m\u001b[0;34m\u001b[0m\u001b[0m\n\u001b[1;32m    333\u001b[0m                     \u001b[0;34m**\u001b[0m\u001b[0mrequest_options\u001b[0m\u001b[0;34m,\u001b[0m\u001b[0;34m\u001b[0m\u001b[0;34m\u001b[0m\u001b[0m\n",
            "\u001b[0;32m/usr/local/lib/python3.11/dist-packages/google/ai/generativelanguage_v1beta/services/generative_service/client.py\u001b[0m in \u001b[0;36mgenerate_content\u001b[0;34m(self, request, model, contents, retry, timeout, metadata)\u001b[0m\n\u001b[1;32m    833\u001b[0m \u001b[0;34m\u001b[0m\u001b[0m\n\u001b[1;32m    834\u001b[0m         \u001b[0;31m# Send the request.\u001b[0m\u001b[0;34m\u001b[0m\u001b[0;34m\u001b[0m\u001b[0m\n\u001b[0;32m--> 835\u001b[0;31m         response = rpc(\n\u001b[0m\u001b[1;32m    836\u001b[0m             \u001b[0mrequest\u001b[0m\u001b[0;34m,\u001b[0m\u001b[0;34m\u001b[0m\u001b[0;34m\u001b[0m\u001b[0m\n\u001b[1;32m    837\u001b[0m             \u001b[0mretry\u001b[0m\u001b[0;34m=\u001b[0m\u001b[0mretry\u001b[0m\u001b[0;34m,\u001b[0m\u001b[0;34m\u001b[0m\u001b[0;34m\u001b[0m\u001b[0m\n",
            "\u001b[0;32m/usr/local/lib/python3.11/dist-packages/google/api_core/gapic_v1/method.py\u001b[0m in \u001b[0;36m__call__\u001b[0;34m(self, timeout, retry, compression, *args, **kwargs)\u001b[0m\n\u001b[1;32m    129\u001b[0m             \u001b[0mkwargs\u001b[0m\u001b[0;34m[\u001b[0m\u001b[0;34m\"compression\"\u001b[0m\u001b[0;34m]\u001b[0m \u001b[0;34m=\u001b[0m \u001b[0mcompression\u001b[0m\u001b[0;34m\u001b[0m\u001b[0;34m\u001b[0m\u001b[0m\n\u001b[1;32m    130\u001b[0m \u001b[0;34m\u001b[0m\u001b[0m\n\u001b[0;32m--> 131\u001b[0;31m         \u001b[0;32mreturn\u001b[0m \u001b[0mwrapped_func\u001b[0m\u001b[0;34m(\u001b[0m\u001b[0;34m*\u001b[0m\u001b[0margs\u001b[0m\u001b[0;34m,\u001b[0m \u001b[0;34m**\u001b[0m\u001b[0mkwargs\u001b[0m\u001b[0;34m)\u001b[0m\u001b[0;34m\u001b[0m\u001b[0;34m\u001b[0m\u001b[0m\n\u001b[0m\u001b[1;32m    132\u001b[0m \u001b[0;34m\u001b[0m\u001b[0m\n\u001b[1;32m    133\u001b[0m \u001b[0;34m\u001b[0m\u001b[0m\n",
            "\u001b[0;32m/usr/local/lib/python3.11/dist-packages/google/api_core/retry/retry_unary.py\u001b[0m in \u001b[0;36mretry_wrapped_func\u001b[0;34m(*args, **kwargs)\u001b[0m\n\u001b[1;32m    291\u001b[0m                 \u001b[0mself\u001b[0m\u001b[0;34m.\u001b[0m\u001b[0m_initial\u001b[0m\u001b[0;34m,\u001b[0m \u001b[0mself\u001b[0m\u001b[0;34m.\u001b[0m\u001b[0m_maximum\u001b[0m\u001b[0;34m,\u001b[0m \u001b[0mmultiplier\u001b[0m\u001b[0;34m=\u001b[0m\u001b[0mself\u001b[0m\u001b[0;34m.\u001b[0m\u001b[0m_multiplier\u001b[0m\u001b[0;34m\u001b[0m\u001b[0;34m\u001b[0m\u001b[0m\n\u001b[1;32m    292\u001b[0m             )\n\u001b[0;32m--> 293\u001b[0;31m             return retry_target(\n\u001b[0m\u001b[1;32m    294\u001b[0m                 \u001b[0mtarget\u001b[0m\u001b[0;34m,\u001b[0m\u001b[0;34m\u001b[0m\u001b[0;34m\u001b[0m\u001b[0m\n\u001b[1;32m    295\u001b[0m                 \u001b[0mself\u001b[0m\u001b[0;34m.\u001b[0m\u001b[0m_predicate\u001b[0m\u001b[0;34m,\u001b[0m\u001b[0;34m\u001b[0m\u001b[0;34m\u001b[0m\u001b[0m\n",
            "\u001b[0;32m/usr/local/lib/python3.11/dist-packages/google/api_core/retry/retry_unary.py\u001b[0m in \u001b[0;36mretry_target\u001b[0;34m(target, predicate, sleep_generator, timeout, on_error, exception_factory, **kwargs)\u001b[0m\n\u001b[1;32m    142\u001b[0m     \u001b[0;32mfor\u001b[0m \u001b[0msleep\u001b[0m \u001b[0;32min\u001b[0m \u001b[0msleep_generator\u001b[0m\u001b[0;34m:\u001b[0m\u001b[0;34m\u001b[0m\u001b[0;34m\u001b[0m\u001b[0m\n\u001b[1;32m    143\u001b[0m         \u001b[0;32mtry\u001b[0m\u001b[0;34m:\u001b[0m\u001b[0;34m\u001b[0m\u001b[0;34m\u001b[0m\u001b[0m\n\u001b[0;32m--> 144\u001b[0;31m             \u001b[0mresult\u001b[0m \u001b[0;34m=\u001b[0m \u001b[0mtarget\u001b[0m\u001b[0;34m(\u001b[0m\u001b[0;34m)\u001b[0m\u001b[0;34m\u001b[0m\u001b[0;34m\u001b[0m\u001b[0m\n\u001b[0m\u001b[1;32m    145\u001b[0m             \u001b[0;32mif\u001b[0m \u001b[0minspect\u001b[0m\u001b[0;34m.\u001b[0m\u001b[0misawaitable\u001b[0m\u001b[0;34m(\u001b[0m\u001b[0mresult\u001b[0m\u001b[0;34m)\u001b[0m\u001b[0;34m:\u001b[0m\u001b[0;34m\u001b[0m\u001b[0;34m\u001b[0m\u001b[0m\n\u001b[1;32m    146\u001b[0m                 \u001b[0mwarnings\u001b[0m\u001b[0;34m.\u001b[0m\u001b[0mwarn\u001b[0m\u001b[0;34m(\u001b[0m\u001b[0m_ASYNC_RETRY_WARNING\u001b[0m\u001b[0;34m)\u001b[0m\u001b[0;34m\u001b[0m\u001b[0;34m\u001b[0m\u001b[0m\n",
            "\u001b[0;32m/usr/local/lib/python3.11/dist-packages/google/api_core/timeout.py\u001b[0m in \u001b[0;36mfunc_with_timeout\u001b[0;34m(*args, **kwargs)\u001b[0m\n\u001b[1;32m    128\u001b[0m                 \u001b[0mkwargs\u001b[0m\u001b[0;34m[\u001b[0m\u001b[0;34m\"timeout\"\u001b[0m\u001b[0;34m]\u001b[0m \u001b[0;34m=\u001b[0m \u001b[0mremaining_timeout\u001b[0m\u001b[0;34m\u001b[0m\u001b[0;34m\u001b[0m\u001b[0m\n\u001b[1;32m    129\u001b[0m \u001b[0;34m\u001b[0m\u001b[0m\n\u001b[0;32m--> 130\u001b[0;31m             \u001b[0;32mreturn\u001b[0m \u001b[0mfunc\u001b[0m\u001b[0;34m(\u001b[0m\u001b[0;34m*\u001b[0m\u001b[0margs\u001b[0m\u001b[0;34m,\u001b[0m \u001b[0;34m**\u001b[0m\u001b[0mkwargs\u001b[0m\u001b[0;34m)\u001b[0m\u001b[0;34m\u001b[0m\u001b[0;34m\u001b[0m\u001b[0m\n\u001b[0m\u001b[1;32m    131\u001b[0m \u001b[0;34m\u001b[0m\u001b[0m\n\u001b[1;32m    132\u001b[0m         \u001b[0;32mreturn\u001b[0m \u001b[0mfunc_with_timeout\u001b[0m\u001b[0;34m\u001b[0m\u001b[0;34m\u001b[0m\u001b[0m\n",
            "\u001b[0;32m/usr/local/lib/python3.11/dist-packages/google/api_core/grpc_helpers.py\u001b[0m in \u001b[0;36merror_remapped_callable\u001b[0;34m(*args, **kwargs)\u001b[0m\n\u001b[1;32m     74\u001b[0m     \u001b[0;32mdef\u001b[0m \u001b[0merror_remapped_callable\u001b[0m\u001b[0;34m(\u001b[0m\u001b[0;34m*\u001b[0m\u001b[0margs\u001b[0m\u001b[0;34m,\u001b[0m \u001b[0;34m**\u001b[0m\u001b[0mkwargs\u001b[0m\u001b[0;34m)\u001b[0m\u001b[0;34m:\u001b[0m\u001b[0;34m\u001b[0m\u001b[0;34m\u001b[0m\u001b[0m\n\u001b[1;32m     75\u001b[0m         \u001b[0;32mtry\u001b[0m\u001b[0;34m:\u001b[0m\u001b[0;34m\u001b[0m\u001b[0;34m\u001b[0m\u001b[0m\n\u001b[0;32m---> 76\u001b[0;31m             \u001b[0;32mreturn\u001b[0m \u001b[0mcallable_\u001b[0m\u001b[0;34m(\u001b[0m\u001b[0;34m*\u001b[0m\u001b[0margs\u001b[0m\u001b[0;34m,\u001b[0m \u001b[0;34m**\u001b[0m\u001b[0mkwargs\u001b[0m\u001b[0;34m)\u001b[0m\u001b[0;34m\u001b[0m\u001b[0;34m\u001b[0m\u001b[0m\n\u001b[0m\u001b[1;32m     77\u001b[0m         \u001b[0;32mexcept\u001b[0m \u001b[0mgrpc\u001b[0m\u001b[0;34m.\u001b[0m\u001b[0mRpcError\u001b[0m \u001b[0;32mas\u001b[0m \u001b[0mexc\u001b[0m\u001b[0;34m:\u001b[0m\u001b[0;34m\u001b[0m\u001b[0;34m\u001b[0m\u001b[0m\n\u001b[1;32m     78\u001b[0m             \u001b[0;32mraise\u001b[0m \u001b[0mexceptions\u001b[0m\u001b[0;34m.\u001b[0m\u001b[0mfrom_grpc_error\u001b[0m\u001b[0;34m(\u001b[0m\u001b[0mexc\u001b[0m\u001b[0;34m)\u001b[0m \u001b[0;32mfrom\u001b[0m \u001b[0mexc\u001b[0m\u001b[0;34m\u001b[0m\u001b[0;34m\u001b[0m\u001b[0m\n",
            "\u001b[0;32m/usr/local/lib/python3.11/dist-packages/google/ai/generativelanguage_v1beta/services/generative_service/transports/rest.py\u001b[0m in \u001b[0;36m__call__\u001b[0;34m(self, request, retry, timeout, metadata)\u001b[0m\n\u001b[1;32m   1146\u001b[0m \u001b[0;34m\u001b[0m\u001b[0m\n\u001b[1;32m   1147\u001b[0m             \u001b[0;31m# Send the request\u001b[0m\u001b[0;34m\u001b[0m\u001b[0;34m\u001b[0m\u001b[0m\n\u001b[0;32m-> 1148\u001b[0;31m             response = GenerativeServiceRestTransport._GenerateContent._get_response(\n\u001b[0m\u001b[1;32m   1149\u001b[0m                 \u001b[0mself\u001b[0m\u001b[0;34m.\u001b[0m\u001b[0m_host\u001b[0m\u001b[0;34m,\u001b[0m\u001b[0;34m\u001b[0m\u001b[0;34m\u001b[0m\u001b[0m\n\u001b[1;32m   1150\u001b[0m                 \u001b[0mmetadata\u001b[0m\u001b[0;34m,\u001b[0m\u001b[0;34m\u001b[0m\u001b[0;34m\u001b[0m\u001b[0m\n",
            "\u001b[0;32m/usr/local/lib/python3.11/dist-packages/google/ai/generativelanguage_v1beta/services/generative_service/transports/rest.py\u001b[0m in \u001b[0;36m_get_response\u001b[0;34m(host, metadata, query_params, session, timeout, transcoded_request, body)\u001b[0m\n\u001b[1;32m   1046\u001b[0m             \u001b[0mheaders\u001b[0m \u001b[0;34m=\u001b[0m \u001b[0mdict\u001b[0m\u001b[0;34m(\u001b[0m\u001b[0mmetadata\u001b[0m\u001b[0;34m)\u001b[0m\u001b[0;34m\u001b[0m\u001b[0;34m\u001b[0m\u001b[0m\n\u001b[1;32m   1047\u001b[0m             \u001b[0mheaders\u001b[0m\u001b[0;34m[\u001b[0m\u001b[0;34m\"Content-Type\"\u001b[0m\u001b[0;34m]\u001b[0m \u001b[0;34m=\u001b[0m \u001b[0;34m\"application/json\"\u001b[0m\u001b[0;34m\u001b[0m\u001b[0;34m\u001b[0m\u001b[0m\n\u001b[0;32m-> 1048\u001b[0;31m             response = getattr(session, method)(\n\u001b[0m\u001b[1;32m   1049\u001b[0m                 \u001b[0;34m\"{host}{uri}\"\u001b[0m\u001b[0;34m.\u001b[0m\u001b[0mformat\u001b[0m\u001b[0;34m(\u001b[0m\u001b[0mhost\u001b[0m\u001b[0;34m=\u001b[0m\u001b[0mhost\u001b[0m\u001b[0;34m,\u001b[0m \u001b[0muri\u001b[0m\u001b[0;34m=\u001b[0m\u001b[0muri\u001b[0m\u001b[0;34m)\u001b[0m\u001b[0;34m,\u001b[0m\u001b[0;34m\u001b[0m\u001b[0;34m\u001b[0m\u001b[0m\n\u001b[1;32m   1050\u001b[0m                 \u001b[0mtimeout\u001b[0m\u001b[0;34m=\u001b[0m\u001b[0mtimeout\u001b[0m\u001b[0;34m,\u001b[0m\u001b[0;34m\u001b[0m\u001b[0;34m\u001b[0m\u001b[0m\n",
            "\u001b[0;32m/usr/local/lib/python3.11/dist-packages/requests/sessions.py\u001b[0m in \u001b[0;36mpost\u001b[0;34m(self, url, data, json, **kwargs)\u001b[0m\n\u001b[1;32m    635\u001b[0m         \"\"\"\n\u001b[1;32m    636\u001b[0m \u001b[0;34m\u001b[0m\u001b[0m\n\u001b[0;32m--> 637\u001b[0;31m         \u001b[0;32mreturn\u001b[0m \u001b[0mself\u001b[0m\u001b[0;34m.\u001b[0m\u001b[0mrequest\u001b[0m\u001b[0;34m(\u001b[0m\u001b[0;34m\"POST\"\u001b[0m\u001b[0;34m,\u001b[0m \u001b[0murl\u001b[0m\u001b[0;34m,\u001b[0m \u001b[0mdata\u001b[0m\u001b[0;34m=\u001b[0m\u001b[0mdata\u001b[0m\u001b[0;34m,\u001b[0m \u001b[0mjson\u001b[0m\u001b[0;34m=\u001b[0m\u001b[0mjson\u001b[0m\u001b[0;34m,\u001b[0m \u001b[0;34m**\u001b[0m\u001b[0mkwargs\u001b[0m\u001b[0;34m)\u001b[0m\u001b[0;34m\u001b[0m\u001b[0;34m\u001b[0m\u001b[0m\n\u001b[0m\u001b[1;32m    638\u001b[0m \u001b[0;34m\u001b[0m\u001b[0m\n\u001b[1;32m    639\u001b[0m     \u001b[0;32mdef\u001b[0m \u001b[0mput\u001b[0m\u001b[0;34m(\u001b[0m\u001b[0mself\u001b[0m\u001b[0;34m,\u001b[0m \u001b[0murl\u001b[0m\u001b[0;34m,\u001b[0m \u001b[0mdata\u001b[0m\u001b[0;34m=\u001b[0m\u001b[0;32mNone\u001b[0m\u001b[0;34m,\u001b[0m \u001b[0;34m**\u001b[0m\u001b[0mkwargs\u001b[0m\u001b[0;34m)\u001b[0m\u001b[0;34m:\u001b[0m\u001b[0;34m\u001b[0m\u001b[0;34m\u001b[0m\u001b[0m\n",
            "\u001b[0;32m/usr/local/lib/python3.11/dist-packages/google/auth/transport/requests.py\u001b[0m in \u001b[0;36mrequest\u001b[0;34m(self, method, url, data, headers, max_allowed_time, timeout, **kwargs)\u001b[0m\n\u001b[1;32m    539\u001b[0m \u001b[0;34m\u001b[0m\u001b[0m\n\u001b[1;32m    540\u001b[0m         \u001b[0;32mwith\u001b[0m \u001b[0mTimeoutGuard\u001b[0m\u001b[0;34m(\u001b[0m\u001b[0mremaining_time\u001b[0m\u001b[0;34m)\u001b[0m \u001b[0;32mas\u001b[0m \u001b[0mguard\u001b[0m\u001b[0;34m:\u001b[0m\u001b[0;34m\u001b[0m\u001b[0;34m\u001b[0m\u001b[0m\n\u001b[0;32m--> 541\u001b[0;31m             response = super(AuthorizedSession, self).request(\n\u001b[0m\u001b[1;32m    542\u001b[0m                 \u001b[0mmethod\u001b[0m\u001b[0;34m,\u001b[0m\u001b[0;34m\u001b[0m\u001b[0;34m\u001b[0m\u001b[0m\n\u001b[1;32m    543\u001b[0m                 \u001b[0murl\u001b[0m\u001b[0;34m,\u001b[0m\u001b[0;34m\u001b[0m\u001b[0;34m\u001b[0m\u001b[0m\n",
            "\u001b[0;32m/usr/local/lib/python3.11/dist-packages/requests/sessions.py\u001b[0m in \u001b[0;36mrequest\u001b[0;34m(self, method, url, params, data, headers, cookies, files, auth, timeout, allow_redirects, proxies, hooks, stream, verify, cert, json)\u001b[0m\n\u001b[1;32m    587\u001b[0m         }\n\u001b[1;32m    588\u001b[0m         \u001b[0msend_kwargs\u001b[0m\u001b[0;34m.\u001b[0m\u001b[0mupdate\u001b[0m\u001b[0;34m(\u001b[0m\u001b[0msettings\u001b[0m\u001b[0;34m)\u001b[0m\u001b[0;34m\u001b[0m\u001b[0;34m\u001b[0m\u001b[0m\n\u001b[0;32m--> 589\u001b[0;31m         \u001b[0mresp\u001b[0m \u001b[0;34m=\u001b[0m \u001b[0mself\u001b[0m\u001b[0;34m.\u001b[0m\u001b[0msend\u001b[0m\u001b[0;34m(\u001b[0m\u001b[0mprep\u001b[0m\u001b[0;34m,\u001b[0m \u001b[0;34m**\u001b[0m\u001b[0msend_kwargs\u001b[0m\u001b[0;34m)\u001b[0m\u001b[0;34m\u001b[0m\u001b[0;34m\u001b[0m\u001b[0m\n\u001b[0m\u001b[1;32m    590\u001b[0m \u001b[0;34m\u001b[0m\u001b[0m\n\u001b[1;32m    591\u001b[0m         \u001b[0;32mreturn\u001b[0m \u001b[0mresp\u001b[0m\u001b[0;34m\u001b[0m\u001b[0;34m\u001b[0m\u001b[0m\n",
            "\u001b[0;32m/usr/local/lib/python3.11/dist-packages/requests/sessions.py\u001b[0m in \u001b[0;36msend\u001b[0;34m(self, request, **kwargs)\u001b[0m\n\u001b[1;32m    701\u001b[0m \u001b[0;34m\u001b[0m\u001b[0m\n\u001b[1;32m    702\u001b[0m         \u001b[0;31m# Send the request\u001b[0m\u001b[0;34m\u001b[0m\u001b[0;34m\u001b[0m\u001b[0m\n\u001b[0;32m--> 703\u001b[0;31m         \u001b[0mr\u001b[0m \u001b[0;34m=\u001b[0m \u001b[0madapter\u001b[0m\u001b[0;34m.\u001b[0m\u001b[0msend\u001b[0m\u001b[0;34m(\u001b[0m\u001b[0mrequest\u001b[0m\u001b[0;34m,\u001b[0m \u001b[0;34m**\u001b[0m\u001b[0mkwargs\u001b[0m\u001b[0;34m)\u001b[0m\u001b[0;34m\u001b[0m\u001b[0;34m\u001b[0m\u001b[0m\n\u001b[0m\u001b[1;32m    704\u001b[0m \u001b[0;34m\u001b[0m\u001b[0m\n\u001b[1;32m    705\u001b[0m         \u001b[0;31m# Total elapsed time of the request (approximately)\u001b[0m\u001b[0;34m\u001b[0m\u001b[0;34m\u001b[0m\u001b[0m\n",
            "\u001b[0;32m/usr/local/lib/python3.11/dist-packages/requests/adapters.py\u001b[0m in \u001b[0;36msend\u001b[0;34m(self, request, stream, timeout, verify, cert, proxies)\u001b[0m\n\u001b[1;32m    665\u001b[0m \u001b[0;34m\u001b[0m\u001b[0m\n\u001b[1;32m    666\u001b[0m         \u001b[0;32mtry\u001b[0m\u001b[0;34m:\u001b[0m\u001b[0;34m\u001b[0m\u001b[0;34m\u001b[0m\u001b[0m\n\u001b[0;32m--> 667\u001b[0;31m             resp = conn.urlopen(\n\u001b[0m\u001b[1;32m    668\u001b[0m                 \u001b[0mmethod\u001b[0m\u001b[0;34m=\u001b[0m\u001b[0mrequest\u001b[0m\u001b[0;34m.\u001b[0m\u001b[0mmethod\u001b[0m\u001b[0;34m,\u001b[0m\u001b[0;34m\u001b[0m\u001b[0;34m\u001b[0m\u001b[0m\n\u001b[1;32m    669\u001b[0m                 \u001b[0murl\u001b[0m\u001b[0;34m=\u001b[0m\u001b[0murl\u001b[0m\u001b[0;34m,\u001b[0m\u001b[0;34m\u001b[0m\u001b[0;34m\u001b[0m\u001b[0m\n",
            "\u001b[0;32m/usr/local/lib/python3.11/dist-packages/urllib3/connectionpool.py\u001b[0m in \u001b[0;36murlopen\u001b[0;34m(self, method, url, body, headers, retries, redirect, assert_same_host, timeout, pool_timeout, release_conn, chunked, body_pos, preload_content, decode_content, **response_kw)\u001b[0m\n\u001b[1;32m    785\u001b[0m \u001b[0;34m\u001b[0m\u001b[0m\n\u001b[1;32m    786\u001b[0m             \u001b[0;31m# Make the request on the HTTPConnection object\u001b[0m\u001b[0;34m\u001b[0m\u001b[0;34m\u001b[0m\u001b[0m\n\u001b[0;32m--> 787\u001b[0;31m             response = self._make_request(\n\u001b[0m\u001b[1;32m    788\u001b[0m                 \u001b[0mconn\u001b[0m\u001b[0;34m,\u001b[0m\u001b[0;34m\u001b[0m\u001b[0;34m\u001b[0m\u001b[0m\n\u001b[1;32m    789\u001b[0m                 \u001b[0mmethod\u001b[0m\u001b[0;34m,\u001b[0m\u001b[0;34m\u001b[0m\u001b[0;34m\u001b[0m\u001b[0m\n",
            "\u001b[0;32m/usr/local/lib/python3.11/dist-packages/urllib3/connectionpool.py\u001b[0m in \u001b[0;36m_make_request\u001b[0;34m(self, conn, method, url, body, headers, retries, timeout, chunked, response_conn, preload_content, decode_content, enforce_content_length)\u001b[0m\n\u001b[1;32m    532\u001b[0m         \u001b[0;31m# Receive the response from the server\u001b[0m\u001b[0;34m\u001b[0m\u001b[0;34m\u001b[0m\u001b[0m\n\u001b[1;32m    533\u001b[0m         \u001b[0;32mtry\u001b[0m\u001b[0;34m:\u001b[0m\u001b[0;34m\u001b[0m\u001b[0;34m\u001b[0m\u001b[0m\n\u001b[0;32m--> 534\u001b[0;31m             \u001b[0mresponse\u001b[0m \u001b[0;34m=\u001b[0m \u001b[0mconn\u001b[0m\u001b[0;34m.\u001b[0m\u001b[0mgetresponse\u001b[0m\u001b[0;34m(\u001b[0m\u001b[0;34m)\u001b[0m\u001b[0;34m\u001b[0m\u001b[0;34m\u001b[0m\u001b[0m\n\u001b[0m\u001b[1;32m    535\u001b[0m         \u001b[0;32mexcept\u001b[0m \u001b[0;34m(\u001b[0m\u001b[0mBaseSSLError\u001b[0m\u001b[0;34m,\u001b[0m \u001b[0mOSError\u001b[0m\u001b[0;34m)\u001b[0m \u001b[0;32mas\u001b[0m \u001b[0me\u001b[0m\u001b[0;34m:\u001b[0m\u001b[0;34m\u001b[0m\u001b[0;34m\u001b[0m\u001b[0m\n\u001b[1;32m    536\u001b[0m             \u001b[0mself\u001b[0m\u001b[0;34m.\u001b[0m\u001b[0m_raise_timeout\u001b[0m\u001b[0;34m(\u001b[0m\u001b[0merr\u001b[0m\u001b[0;34m=\u001b[0m\u001b[0me\u001b[0m\u001b[0;34m,\u001b[0m \u001b[0murl\u001b[0m\u001b[0;34m=\u001b[0m\u001b[0murl\u001b[0m\u001b[0;34m,\u001b[0m \u001b[0mtimeout_value\u001b[0m\u001b[0;34m=\u001b[0m\u001b[0mread_timeout\u001b[0m\u001b[0;34m)\u001b[0m\u001b[0;34m\u001b[0m\u001b[0;34m\u001b[0m\u001b[0m\n",
            "\u001b[0;32m/usr/local/lib/python3.11/dist-packages/urllib3/connection.py\u001b[0m in \u001b[0;36mgetresponse\u001b[0;34m(self)\u001b[0m\n\u001b[1;32m    514\u001b[0m \u001b[0;34m\u001b[0m\u001b[0m\n\u001b[1;32m    515\u001b[0m         \u001b[0;31m# Get the response from http.client.HTTPConnection\u001b[0m\u001b[0;34m\u001b[0m\u001b[0;34m\u001b[0m\u001b[0m\n\u001b[0;32m--> 516\u001b[0;31m         \u001b[0mhttplib_response\u001b[0m \u001b[0;34m=\u001b[0m \u001b[0msuper\u001b[0m\u001b[0;34m(\u001b[0m\u001b[0;34m)\u001b[0m\u001b[0;34m.\u001b[0m\u001b[0mgetresponse\u001b[0m\u001b[0;34m(\u001b[0m\u001b[0;34m)\u001b[0m\u001b[0;34m\u001b[0m\u001b[0;34m\u001b[0m\u001b[0m\n\u001b[0m\u001b[1;32m    517\u001b[0m \u001b[0;34m\u001b[0m\u001b[0m\n\u001b[1;32m    518\u001b[0m         \u001b[0;32mtry\u001b[0m\u001b[0;34m:\u001b[0m\u001b[0;34m\u001b[0m\u001b[0;34m\u001b[0m\u001b[0m\n",
            "\u001b[0;32m/usr/lib/python3.11/http/client.py\u001b[0m in \u001b[0;36mgetresponse\u001b[0;34m(self)\u001b[0m\n\u001b[1;32m   1393\u001b[0m         \u001b[0;32mtry\u001b[0m\u001b[0;34m:\u001b[0m\u001b[0;34m\u001b[0m\u001b[0;34m\u001b[0m\u001b[0m\n\u001b[1;32m   1394\u001b[0m             \u001b[0;32mtry\u001b[0m\u001b[0;34m:\u001b[0m\u001b[0;34m\u001b[0m\u001b[0;34m\u001b[0m\u001b[0m\n\u001b[0;32m-> 1395\u001b[0;31m                 \u001b[0mresponse\u001b[0m\u001b[0;34m.\u001b[0m\u001b[0mbegin\u001b[0m\u001b[0;34m(\u001b[0m\u001b[0;34m)\u001b[0m\u001b[0;34m\u001b[0m\u001b[0;34m\u001b[0m\u001b[0m\n\u001b[0m\u001b[1;32m   1396\u001b[0m             \u001b[0;32mexcept\u001b[0m \u001b[0mConnectionError\u001b[0m\u001b[0;34m:\u001b[0m\u001b[0;34m\u001b[0m\u001b[0;34m\u001b[0m\u001b[0m\n\u001b[1;32m   1397\u001b[0m                 \u001b[0mself\u001b[0m\u001b[0;34m.\u001b[0m\u001b[0mclose\u001b[0m\u001b[0;34m(\u001b[0m\u001b[0;34m)\u001b[0m\u001b[0;34m\u001b[0m\u001b[0;34m\u001b[0m\u001b[0m\n",
            "\u001b[0;32m/usr/lib/python3.11/http/client.py\u001b[0m in \u001b[0;36mbegin\u001b[0;34m(self)\u001b[0m\n\u001b[1;32m    323\u001b[0m         \u001b[0;31m# read until we get a non-100 response\u001b[0m\u001b[0;34m\u001b[0m\u001b[0;34m\u001b[0m\u001b[0m\n\u001b[1;32m    324\u001b[0m         \u001b[0;32mwhile\u001b[0m \u001b[0;32mTrue\u001b[0m\u001b[0;34m:\u001b[0m\u001b[0;34m\u001b[0m\u001b[0;34m\u001b[0m\u001b[0m\n\u001b[0;32m--> 325\u001b[0;31m             \u001b[0mversion\u001b[0m\u001b[0;34m,\u001b[0m \u001b[0mstatus\u001b[0m\u001b[0;34m,\u001b[0m \u001b[0mreason\u001b[0m \u001b[0;34m=\u001b[0m \u001b[0mself\u001b[0m\u001b[0;34m.\u001b[0m\u001b[0m_read_status\u001b[0m\u001b[0;34m(\u001b[0m\u001b[0;34m)\u001b[0m\u001b[0;34m\u001b[0m\u001b[0;34m\u001b[0m\u001b[0m\n\u001b[0m\u001b[1;32m    326\u001b[0m             \u001b[0;32mif\u001b[0m \u001b[0mstatus\u001b[0m \u001b[0;34m!=\u001b[0m \u001b[0mCONTINUE\u001b[0m\u001b[0;34m:\u001b[0m\u001b[0;34m\u001b[0m\u001b[0;34m\u001b[0m\u001b[0m\n\u001b[1;32m    327\u001b[0m                 \u001b[0;32mbreak\u001b[0m\u001b[0;34m\u001b[0m\u001b[0;34m\u001b[0m\u001b[0m\n",
            "\u001b[0;32m/usr/lib/python3.11/http/client.py\u001b[0m in \u001b[0;36m_read_status\u001b[0;34m(self)\u001b[0m\n\u001b[1;32m    284\u001b[0m \u001b[0;34m\u001b[0m\u001b[0m\n\u001b[1;32m    285\u001b[0m     \u001b[0;32mdef\u001b[0m \u001b[0m_read_status\u001b[0m\u001b[0;34m(\u001b[0m\u001b[0mself\u001b[0m\u001b[0;34m)\u001b[0m\u001b[0;34m:\u001b[0m\u001b[0;34m\u001b[0m\u001b[0;34m\u001b[0m\u001b[0m\n\u001b[0;32m--> 286\u001b[0;31m         \u001b[0mline\u001b[0m \u001b[0;34m=\u001b[0m \u001b[0mstr\u001b[0m\u001b[0;34m(\u001b[0m\u001b[0mself\u001b[0m\u001b[0;34m.\u001b[0m\u001b[0mfp\u001b[0m\u001b[0;34m.\u001b[0m\u001b[0mreadline\u001b[0m\u001b[0;34m(\u001b[0m\u001b[0m_MAXLINE\u001b[0m \u001b[0;34m+\u001b[0m \u001b[0;36m1\u001b[0m\u001b[0;34m)\u001b[0m\u001b[0;34m,\u001b[0m \u001b[0;34m\"iso-8859-1\"\u001b[0m\u001b[0;34m)\u001b[0m\u001b[0;34m\u001b[0m\u001b[0;34m\u001b[0m\u001b[0m\n\u001b[0m\u001b[1;32m    287\u001b[0m         \u001b[0;32mif\u001b[0m \u001b[0mlen\u001b[0m\u001b[0;34m(\u001b[0m\u001b[0mline\u001b[0m\u001b[0;34m)\u001b[0m \u001b[0;34m>\u001b[0m \u001b[0m_MAXLINE\u001b[0m\u001b[0;34m:\u001b[0m\u001b[0;34m\u001b[0m\u001b[0;34m\u001b[0m\u001b[0m\n\u001b[1;32m    288\u001b[0m             \u001b[0;32mraise\u001b[0m \u001b[0mLineTooLong\u001b[0m\u001b[0;34m(\u001b[0m\u001b[0;34m\"status line\"\u001b[0m\u001b[0;34m)\u001b[0m\u001b[0;34m\u001b[0m\u001b[0;34m\u001b[0m\u001b[0m\n",
            "\u001b[0;32m/usr/lib/python3.11/socket.py\u001b[0m in \u001b[0;36mreadinto\u001b[0;34m(self, b)\u001b[0m\n\u001b[1;32m    716\u001b[0m         \u001b[0;32mwhile\u001b[0m \u001b[0;32mTrue\u001b[0m\u001b[0;34m:\u001b[0m\u001b[0;34m\u001b[0m\u001b[0;34m\u001b[0m\u001b[0m\n\u001b[1;32m    717\u001b[0m             \u001b[0;32mtry\u001b[0m\u001b[0;34m:\u001b[0m\u001b[0;34m\u001b[0m\u001b[0;34m\u001b[0m\u001b[0m\n\u001b[0;32m--> 718\u001b[0;31m                 \u001b[0;32mreturn\u001b[0m \u001b[0mself\u001b[0m\u001b[0;34m.\u001b[0m\u001b[0m_sock\u001b[0m\u001b[0;34m.\u001b[0m\u001b[0mrecv_into\u001b[0m\u001b[0;34m(\u001b[0m\u001b[0mb\u001b[0m\u001b[0;34m)\u001b[0m\u001b[0;34m\u001b[0m\u001b[0;34m\u001b[0m\u001b[0m\n\u001b[0m\u001b[1;32m    719\u001b[0m             \u001b[0;32mexcept\u001b[0m \u001b[0mtimeout\u001b[0m\u001b[0;34m:\u001b[0m\u001b[0;34m\u001b[0m\u001b[0;34m\u001b[0m\u001b[0m\n\u001b[1;32m    720\u001b[0m                 \u001b[0mself\u001b[0m\u001b[0;34m.\u001b[0m\u001b[0m_timeout_occurred\u001b[0m \u001b[0;34m=\u001b[0m \u001b[0;32mTrue\u001b[0m\u001b[0;34m\u001b[0m\u001b[0;34m\u001b[0m\u001b[0m\n",
            "\u001b[0;31mKeyboardInterrupt\u001b[0m: "
          ]
        }
      ]
    }
  ]
}