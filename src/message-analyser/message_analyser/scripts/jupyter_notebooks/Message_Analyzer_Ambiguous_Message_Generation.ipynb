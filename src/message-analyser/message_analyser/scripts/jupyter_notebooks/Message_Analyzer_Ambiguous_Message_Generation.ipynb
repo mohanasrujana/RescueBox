{
  "cells": [
    {
      "cell_type": "code",
      "execution_count": null,
      "metadata": {
        "id": "CmsDBf4eiN6H"
      },
      "outputs": [],
      "source": [
        "from google.colab import userdata\n",
        "gemini_key = userdata.get('gemini_key')\n",
        "mistral_key = userdata.get('mistral_key2')"
      ]
    },
    {
      "cell_type": "code",
      "execution_count": null,
      "metadata": {
        "id": "3ryCUEnFiXdR"
      },
      "outputs": [],
      "source": [
        "import os\n",
        "import torch\n",
        "import random\n",
        "random.seed(28)\n",
        "import json\n",
        "import csv"
      ]
    },
    {
      "cell_type": "code",
      "execution_count": null,
      "metadata": {
        "id": "2Ug1MNhieP54"
      },
      "outputs": [],
      "source": [
        "def gemini_setup(api_key):\n",
        "    os.system(\"pip install -q -U google-generativeai\")\n",
        "    import google.generativeai as genai\n",
        "    genai.configure(api_key=gemini_key)\n",
        "    glm_config = genai.GenerationConfig(temperature=0.99)\n",
        "    safety_settings = [\n",
        "        {\"category\": \"HARM_CATEGORY_DANGEROUS\", \"threshold\": \"BLOCK_NONE\"},\n",
        "        {\"category\": \"HARM_CATEGORY_HARASSMENT\", \"threshold\": \"BLOCK_NONE\"},\n",
        "        {\"category\": \"HARM_CATEGORY_HATE_SPEECH\", \"threshold\": \"BLOCK_NONE\"},\n",
        "        {\"category\": \"HARM_CATEGORY_SEXUALLY_EXPLICIT\", \"threshold\": \"BLOCK_NONE\"},\n",
        "        {\"category\": \"HARM_CATEGORY_DANGEROUS_CONTENT\", \"threshold\": \"BLOCK_NONE\"},\n",
        "    ]\n",
        "    gemini_model = genai.GenerativeModel('gemini-2.0-flash', generation_config=glm_config, safety_settings=safety_settings)\n",
        "    return gemini_model\n",
        "\n",
        "device = torch.device(\"cuda\" if torch.cuda.is_available() else 'cpu')"
      ]
    },
    {
      "cell_type": "code",
      "execution_count": null,
      "metadata": {
        "id": "9HtMh_-UhCSl"
      },
      "outputs": [],
      "source": [
        "gemini_model = gemini_setup(gemini_key)"
      ]
    },
    {
      "cell_type": "code",
      "execution_count": null,
      "metadata": {
        "id": "XM6vyzwBlJJb"
      },
      "outputs": [],
      "source": [
        "def populate_data_for_permutations(prompt, data_content):\n",
        "  data_list = []\n",
        "  response = gemini_model.generate_content(contents= prompt)\n",
        "  for i in response.text.strip().split('\\n'):\n",
        "    data_list.append(i)\n",
        "  print(\"The data generated for {}:{}\\n The length of the list is: {}\".format(data_content,data_list,len(data_list)))\n",
        "  return data_list"
      ]
    },
    {
      "cell_type": "code",
      "execution_count": null,
      "metadata": {
        "id": "yQ_JBoO8wJk2"
      },
      "outputs": [],
      "source": [
        "def convert_list_to_txt(list_,filename):\n",
        "  with open(filename,'w+') as f:\n",
        "    for item in list_:\n",
        "      f.write(\"%s\\n\" %item)\n",
        "  print(\"List converted to {}\".format(filename))\n"
      ]
    },
    {
      "cell_type": "code",
      "execution_count": null,
      "metadata": {
        "id": "_v1tjnoo0Xga"
      },
      "outputs": [],
      "source": [
        "# prompt_cities = (\"List 100 different cities from the US where events or incidents could happen. Make each city a separate line. Do not include any extra text.\")\n",
        "# cities = populate_data_for_permutations(prompt_cities,\"cities\")"
      ]
    },
    {
      "cell_type": "code",
      "execution_count": null,
      "metadata": {
        "id": "8MLALU4v3ML9"
      },
      "outputs": [],
      "source": [
        "# cities = cities[2:102]"
      ]
    },
    {
      "cell_type": "code",
      "execution_count": null,
      "metadata": {
        "id": "w3ZvasCiw1qw"
      },
      "outputs": [],
      "source": [
        "# convert_list_to_txt(cities,\"cities.txt\")"
      ]
    },
    {
      "cell_type": "code",
      "execution_count": null,
      "metadata": {
        "colab": {
          "base_uri": "https://localhost:8080/",
          "height": 72
        },
        "id": "DiPXdhZW2flB",
        "outputId": "c2a882da-57b9-4700-db8c-161d9e74581c"
      },
      "outputs": [
        {
          "output_type": "stream",
          "name": "stdout",
          "text": [
            "The data generated for locations:['Café', 'Office', 'Park', 'Bus stop', 'Train station', 'Airport', 'Library', 'Gym', 'Restaurant', 'Bar', 'Movie theater lobby', 'Concert venue', 'Shopping mall', 'Grocery store', 'Hair salon', \"Doctor's office waiting room\", \"Dentist's office waiting room\", 'Auto repair shop waiting area', 'University campus', 'School hallway', 'Elevator', 'Stairwell', 'Hospital hallway', 'Art gallery', 'Museum', 'Hotel lobby', 'Convention center', 'Board meeting room', 'Construction site', 'Factory floor', 'Warehouse', 'Farm', 'Dockyard', 'Laundromat', 'Dry cleaner', 'Post office', 'Bank', 'Courthouse hallway', 'Prison visiting room', 'Zoo', 'Aquarium', 'Botanical garden', 'Amusement park', 'Water park', 'Bowling alley', 'Arcade', 'Skating rink', 'Swimming pool', 'Beach', 'Campground', 'Hiking trail', 'Ski resort', 'Golf course', 'Tennis court', 'Basketball court', 'Soccer field', 'Baseball field', 'Football stadium', 'Parking garage', 'Parking lot', 'Gas station', 'Car wash', 'Bus', 'Train', 'Airplane', 'Ferry', 'Subway', 'Subway platform', 'Waiting room', 'Conference room', 'Classroom', 'Study hall', 'Dormitory', 'Fraternity house', 'Sorority house', 'Community center', 'Retirement home', 'Nursing home', 'Homeless shelter', 'Soup kitchen', 'Food bank', 'Thrift store', 'Pawn shop', 'Antique store', 'Bookstore', 'Record store', 'Clothing store', 'Furniture store', 'Hardware store', 'Electronics store', 'Pet store', 'Toy store', 'Flower shop', 'Gift shop', 'Jewelry store', 'Sporting goods store', 'Music store', 'Art supply store', 'Craft store', 'Comic book store', 'Video game store', 'Gun store', 'Smoke shop', 'Head shop', 'Tattoo parlor', 'Piercing studio', 'Spa', 'Massage parlor', 'Yoga studio', 'Pilates studio', 'Dance studio', 'Martial arts studio', 'Shooting range', 'Escape room', 'Planetarium', 'Observatory', 'Botanical garden greenhouse', 'Botanical garden nursery', 'Greenhouse', 'Nursery', 'Farmers market', 'Flea market', 'Garage sale', 'Yard sale', 'Estate sale', 'Auction house', 'Courthouse', 'City hall', 'Town square', 'Protest', 'Rally', 'Parade', 'Political convention', 'Press conference', 'Award ceremony', 'Funeral', 'Wedding', 'Graduation ceremony', 'Church', 'Synagogue', 'Mosque', 'Temple', 'Monastery', 'Convent', 'Commune', 'RV park', 'Truck stop', 'Highway rest stop', 'Abandoned building', 'Haunted house', 'Corn maze', 'Pumpkin patch', 'Christmas tree lot', 'Ice cream parlor', 'Donut shop', 'Bakery', 'Candy store', 'Ice cream truck', 'Food truck', 'Coffee stand', 'Lemonade stand', 'Hot dog stand', 'Pretzel stand', 'Taco stand', 'Pizza stand', 'Fruit stand', 'Vegetable stand', 'Seafood market', 'Butcher shop', 'Ethnic grocery store', 'International market', 'Spice shop', 'Tea shop', 'Wine shop', 'Liquor store', 'Brewery', 'Distillery', 'Cigar lounge', 'Hookah lounge', 'Internet café', 'Co-working space', 'Incubator', 'Startup office', 'Tech conference', 'Hacker space', 'Maker space', 'Coworking space rooftop', 'Coworking space kitchen', 'Coworking space lounge', 'Abandoned subway station', 'Underground tunnel', 'Secret garden', 'Rooftop garden', 'Drive-in movie theater', 'Mini golf course', 'Go-kart track', 'Paintball arena', 'Laser tag arena', 'Shooting range simulator', 'Virtual reality arcade', 'Escape room waiting area', 'Theme park queue line', 'State fair', 'County fair', 'Renaissance fair', 'Comic Con', 'Anime convention', 'Gaming convention', 'Sci-fi convention', 'Horror convention', 'Fan convention', 'Fan meetup', 'Flash mob', 'Silent disco', 'Underground rave', 'Secret society meeting', 'Speakeasy', 'Gambling den', 'Back alley', 'Dark street corner', 'Overpass', 'Bridge', 'Toll booth', 'Border crossing', 'Customs checkpoint', 'Immigration office', 'DMV', 'Social security office', 'Welfare office', 'Voter registration booth', 'Polling place', 'Public hearing', 'Town hall meeting', 'Neighborhood watch meeting', 'Book club meeting', 'Support group meeting', 'Twelve-step meeting', 'Meditation retreat', 'Silent retreat', 'Yoga retreat', 'Spiritual retreat', 'Ashram', 'Zen center', 'Buddhist temple', 'Hindu temple', 'Sufi center', 'Shamanic gathering', 'Sweat lodge', 'Vision quest', 'Drum circle', 'Burning Man', 'Music festival', 'Art festival', 'Film festival', 'Food festival', 'Wine festival', 'Beer festival', 'Cultural festival', 'Street fair', 'Block party', 'Neighborhood barbecue', 'Potluck dinner', 'Family reunion', 'Class reunion', 'High school prom', 'College formal', 'Birthday party', 'Anniversary party', 'Engagement party', 'Wedding reception', 'Baby shower', 'Bachelor party', 'Bachelorette party', 'Divorce party', 'Wake', 'Memorial service', 'Cemetery', 'Mausoleum', 'Crypt', 'Catacombs', 'Graveyard', 'Haunted forest', 'Spooky swamp', 'Abandoned mine', 'Ghost town', 'Space station', 'Mars colony', 'Moon base', 'Underwater research facility', 'Underground bunker', 'Secret laboratory', 'Government facility', 'Military base', 'Spy headquarters', 'Hacker collective', 'Anonymous meeting', 'Dark web forum', 'Bitcoin conference', 'Cryptocurrency meetup', 'Virtual reality meeting', 'Augmented reality conference', 'Metaverse hangout', 'NFT gallery', 'DAO meeting', 'Decentralized community event', 'AI conference', 'Robotics convention', 'Singularity summit', 'Transhumanist gathering', 'Extraterrestrial contact event', 'UFO sighting group', 'Conspiracy theory conference', 'End of the world bunker', 'Survivalist camp', 'Prepper community', 'Doomsday shelter', 'Vault', 'Time capsule opening', 'Ancient ruins', 'Archaeological dig site', 'Lost city', 'Hidden temple', 'Sacred grove', 'Power spot', 'Vortex', 'Ley line intersection', 'Astral projection meetup', 'Remote viewing session', 'Past life regression hypnosis', 'Mediumship circle', 'Séance', 'Ouija board session', 'Tarot card reading', 'Palm reading', 'Astrology conference', 'Numerology workshop', 'Feng shui consultation', 'I Ching reading', 'Dream interpretation group', 'Lucid dreaming workshop', 'Out-of-body experience retreat', 'Near-death experience support group', 'Reincarnation seminar', 'Karma clearing workshop', 'Spiritual healing session', 'Energy healing session', 'Reiki session', 'Pranic healing session', 'Crystal healing session', 'Sound healing session', 'Light therapy session', 'Color therapy session', 'Aroma therapy session', 'Herbal medicine consultation', 'Homeopathic treatment session', 'Acupuncture session', 'Chiropractic session', 'Massage therapy session', 'Physical therapy session', 'Occupational therapy session', 'Speech therapy session', 'Art therapy session', 'Music therapy session', 'Dance therapy session', 'Drama therapy session', 'Psychotherapy session', 'Psychoanalysis session', 'Hypnotherapy session', 'Cognitive behavioral therapy session', 'Dialectical behavior therapy session', 'Eye movement desensitization and reprocessing (EMDR) session', 'Family therapy session', 'Group therapy session', 'Couples therapy session', 'Relationship coaching session', 'Life coaching session', 'Career counseling session', 'Financial planning session', 'Legal consultation', 'Real estate closing', 'Negotiation meeting', 'Mediation session', 'Arbitration hearing', 'Courtroom', 'Jury deliberation room', 'Witness protection program safe house', 'Political asylum hearing', 'Refugee camp', 'Disaster relief shelter', 'Emergency room waiting area', 'Intensive care unit waiting area', 'Operating room waiting area', 'Morgue', 'Crime scene', 'Police station', 'FBI office', 'CIA headquarters', 'Interpol headquarters', 'United Nations headquarters', 'World Economic Forum meeting', 'G7 summit', 'NATO summit', 'Organization of the Petroleum Exporting Countries (OPEC) meeting', 'International Monetary Fund (IMF) meeting', 'World Bank meeting', 'European Union parliament', 'African Union summit', 'Association of Southeast Asian Nations (ASEAN) summit', 'South Asian Association for Regional Cooperation (SAARC) summit', 'BRICS summit', 'Shanghai Cooperation Organisation (SCO) summit', 'Commonwealth Heads of Government Meeting (CHOGM)', 'Non-Aligned Movement (NAM) summit', 'Organization of American States (OAS) summit', 'Caribbean Community (CARICOM) summit', 'Pacific Islands Forum (PIF) summit', 'Arctic Council meeting', 'Antarctic Treaty Consultative Meeting', 'International Seabed Authority meeting', 'United Nations Climate Change Conference (COP)', 'World Health Assembly', 'World Trade Organization ministerial conference', 'International Criminal Court', 'International Court of Justice', 'Permanent Court of Arbitration', 'Hague Conference on Private International Law', 'International Red Cross', 'Doctors Without Borders', 'Amnesty International', 'Human Rights Watch', 'United Nations High Commissioner for Refugees (UNHCR)', \"United Nations Children's Fund (UNICEF)\", 'United Nations Development Programme (UNDP)', 'United Nations Environment Programme (UNEP)', 'United Nations Educational, Scientific and Cultural Organization (UNESCO)', 'World Food Programme (WFP)', 'International Atomic Energy Agency (IAEA)', 'Organization for Security and Co-operation in Europe (OSCE)', 'Council of Europe', 'League of Arab States', 'Organization of Islamic Cooperation', 'African Union', 'Commonwealth of Nations', 'Francophonie', 'Community of Portuguese Language Countries', 'Ibero-American Community', 'Parliamentary Assembly of the Council of Europe', 'European Parliament', 'United Nations General Assembly', 'United Nations Security Council', 'International Telecommunication Union', 'Universal Postal Union', 'World Meteorological Organization', 'International Civil Aviation Organization', 'International Maritime Organization', 'World Intellectual Property Organization', 'United Nations Industrial Development Organization', 'World Tourism Organization', 'Food and Agriculture Organization of the United Nations', 'International Fund for Agricultural Development', 'International Labour Organization', 'International Organization for Migration', 'International Renewable Energy Agency', 'International Seabed Authority', 'World Anti-Doping Agency', 'International Olympic Committee', 'International Federation of Association Football (FIFA)', 'International Cricket Council (ICC)', 'International Tennis Federation (ITF)', 'International Basketball Federation (FIBA)', 'International Association of Athletics Federations (IAAF)', 'International Swimming Federation (FINA)', 'International Boxing Association (AIBA)', 'World Chess Federation (FIDE)', 'International Judo Federation (IJF)', 'World Taekwondo Federation (WTF)', 'International Wrestling Federation (UWW)', 'International Weightlifting Federation (IWF)', 'International Gymnastics Federation (FIG)', 'International Volleyball Federation (FIVB)', 'International Table Tennis Federation (ITTF)', 'World Curling Federation (WCF)', 'International Skating Union (ISU)', 'International Ski Federation (FIS)', 'International Biathlon Union (IBU)', 'International Luge Federation (FIL)', 'International Bobsleigh and Skeleton Federation (IBSF)', 'International Ice Hockey Federation (IIHF)', 'World Archery Federation (WA)', 'World Rowing Federation (FISA)', 'International Canoe Federation (ICF)', 'International Sailing Federation (ISAF)', 'World Equestrian Federation (FEI)', 'International Modern Pentathlon Union (UIPM)', 'International Shooting Sport Federation (ISSF)', 'World Triathlon', 'World Rugby', 'International Handball Federation (IHF)', 'International Netball Federation (INF)', 'International Field Hockey Federation (FIH)', 'World Baseball Softball Confederation (WBSC)', 'International American Football Federation (IFAF)', 'International Cheer Union (ICU)', 'World DanceSport Federation (WDSF)', 'International Orienteering Federation (IOF)', 'International Federation of Sport Climbing (IFSC)', 'World Underwater Federation (CMAS)', 'International Surfing Association (ISA)', 'International Korfball Federation (IKF)', 'International Floorball Federation (IFF)', 'World Dodgeball Association (WDA)', 'International Bandy Federation (IBF)', 'International Motorsport Federation (FIA)', 'International Motorcycle Federation (FIM)', 'International Cycling Union (UCI)', 'World Sailing', 'International Paralympic Committee (IPC)', 'Special Olympics International', 'Deaflympics', 'Gay Games', 'World Masters Games', 'Indigenous Games', 'eSports tournament', 'Video game convention', 'Anime convention', 'Comic Con', 'Sci-Fi convention', 'Horror convention', 'Fan convention', 'LARP event', 'Renaissance fair', 'Medieval festival', 'Viking festival', 'Pagan gathering', 'Wiccan coven meeting', 'Druid ceremony', 'Shamanic ritual', 'Native American powwow', 'Indigenous cultural festival', 'World Music Festival', 'Jazz festival', 'Blues festival', 'Rock festival', 'Country music festival', 'Classical music concert', 'Opera house', 'Ballet performance', 'Theater production', 'Improv show', 'Comedy club', 'Poetry slam', 'Open mic night', 'Art exhibit', 'Photography exhibit', 'Sculpture garden', 'Installation art show', 'Performance art piece', 'Flash mob', 'Silent disco', 'Underground rave', 'Secret society meeting', 'Speakeasy', 'Gambling den', 'Back alley', 'Dark street corner', 'Overpass', 'Bridge', 'Toll booth', 'Border crossing', 'Customs checkpoint', 'Immigration office', 'DMV', 'Social security office', 'Welfare office', 'Voter registration booth', 'Polling place', 'Public hearing', 'Town hall meeting', 'Neighborhood watch meeting', 'Book club meeting', 'Support group meeting', 'Twelve-step meeting', 'Meditation retreat', 'Silent retreat', 'Yoga retreat', 'Spiritual retreat', 'Ashram', 'Zen center', 'Buddhist temple', 'Hindu temple', 'Sufi center', 'Shamanic gathering', 'Sweat lodge', 'Vision quest', 'Drum circle', 'Burning Man', 'Music festival', 'Art festival', 'Film festival', 'Food festival', 'Wine festival', 'Beer festival', 'Cultural festival', 'Street fair', 'Block party', 'Neighborhood barbecue', 'Potluck dinner', 'Family reunion', 'Class reunion', 'High school prom', 'College formal', 'Birthday party', 'Anniversary party', 'Engagement party', 'Wedding reception', 'Baby shower', 'Bachelor party', 'Bachelorette party', 'Divorce party', 'Wake', 'Memorial service', 'Cemetery', 'Mausoleum', 'Crypt', 'Catacombs', 'Graveyard', 'Haunted forest', 'Spooky swamp', 'Abandoned mine', 'Ghost town', 'Space station', 'Mars colony', 'Moon base', 'Underwater research facility', 'Underground bunker', 'Secret laboratory', 'Government facility', 'Military base', 'Spy headquarters', 'Hacker collective', 'Anonymous meeting', 'Dark web forum', 'Bitcoin conference', 'Cryptocurrency meetup', 'Virtual reality meeting', 'Augmented reality conference', 'Metaverse hangout', 'NFT gallery', 'DAO meeting', 'Decentralized community event', 'AI conference', 'Robotics convention', 'Singularity summit', 'Transhumanist gathering', 'Extraterrestrial contact event', 'UFO sighting group', 'Conspiracy theory conference', 'End of the world bunker', 'Survivalist camp', 'Prepper community', 'Doomsday shelter', 'Vault', 'Time capsule opening', 'Ancient ruins', 'Archaeological dig site', 'Lost city', 'Hidden temple', 'Sacred grove', 'Power spot', 'Vortex', 'Ley line intersection', 'Astral projection meetup', 'Remote viewing session', 'Past life regression hypnosis', 'Mediumship circle', 'Séance', 'Ouija board session', 'Tarot card reading', 'Palm reading', 'Astrology conference', 'Numerology workshop', 'Feng shui consultation', 'I Ching reading', 'Dream interpretation group', 'Lucid dreaming workshop', 'Out-of-body experience retreat', 'Near-death experience support group', 'Reincarnation seminar', 'Karma clearing workshop', 'Spiritual healing session', 'Energy healing session', 'Reiki session', 'Pranic healing session', 'Crystal healing session', 'Sound healing session', 'Light therapy session', 'Color therapy session', 'Aroma therapy session', 'Herbal medicine consultation', 'Homeopathic treatment session', 'Acupuncture session', 'Chiropractic session', 'Massage therapy session', 'Physical therapy session', 'Occupational therapy session', 'Speech therapy session', 'Art therapy session', 'Music therapy session', 'Dance therapy session', 'Drama therapy session', 'Psychotherapy session', 'Psychoanalysis session', 'Hypnotherapy session', 'Cognitive behavioral therapy session', 'Dialectical behavior therapy session', 'Eye movement desensitization and reprocessing (EMDR) session', 'Family therapy session', 'Group therapy session', 'Couples therapy session', 'Relationship coaching session', 'Life coaching session', 'Career counseling session', 'Financial planning session', 'Legal consultation', 'Real estate closing', 'Negotiation meeting', 'Mediation session', 'Arbitration hearing', 'Courtroom', 'Jury deliberation room', 'Witness protection program safe house', 'Political asylum hearing', 'Refugee camp', 'Disaster relief shelter', 'Emergency room waiting area', 'Intensive care unit waiting area', 'Operating room waiting area', 'Morgue', 'Crime scene', 'Police station', 'FBI office', 'CIA headquarters', 'Interpol headquarters', 'United Nations headquarters', 'World Economic Forum meeting', 'G7 summit', 'NATO summit', 'Organization of the Petroleum Exporting Countries (OPEC) meeting', 'International Monetary Fund (IMF) meeting', 'World Bank meeting', 'European Union parliament', 'African Union summit', 'Association of Southeast Asian Nations (ASEAN) summit', 'South Asian Association for Regional Cooperation (SAARC) summit', 'BRICS summit', 'Shanghai Cooperation Organisation (SCO) summit', 'Commonwealth Heads of Government Meeting (CHOGM)', 'Non-Aligned Movement (NAM) summit', 'Organization of American States (OAS) summit', 'Caribbean Community (CARICOM) summit', 'Pacific Islands Forum (PIF) summit', 'Arctic Council meeting', 'Antarctic Treaty Consultative Meeting', 'International Seabed Authority meeting', 'United Nations Climate Change Conference (COP)', 'World Health Assembly', 'World Trade Organization ministerial conference', 'International Criminal Court', 'International Court of Justice', 'Permanent Court of Arbitration', 'Hague Conference on Private International Law', 'International Red Cross', 'Doctors Without Borders', 'Amnesty International', 'Human Rights Watch', 'United Nations High Commissioner for Refugees (UNHCR)', \"United Nations Children's Fund (UNICEF)\", 'United Nations Development Programme (UNDP)', 'United Nations Environment Programme (UNEP)', 'United Nations Educational, Scientific and Cultural Organization (UNESCO)', 'World Food Programme (WFP)', 'International Atomic Energy Agency (IAEA)', 'Organization for Security and Co-operation in Europe (OSCE)', 'Council of Europe', 'League of Arab States', 'Organization of Islamic Cooperation', 'African Union', 'Commonwealth of Nations', 'Francophonie', 'Community of Portuguese Language Countries', 'Ibero-American Community', 'Parliamentary Assembly of the Council of Europe', 'European Parliament', 'United Nations General Assembly', 'United Nations Security Council', 'International Telecommunication Union', 'Universal Postal Union', 'World Meteorological Organization', 'International Civil Aviation Organization', 'International Maritime Organization', 'World Intellectual Property Organization', 'United Nations Industrial Development Organization', 'World Tourism Organization', 'Food and Agriculture Organization of the United Nations', 'International Fund for Agricultural Development', 'International Labour Organization', 'International Organization for Migration', 'International Renewable Energy Agency', 'International Seabed Authority', 'World Anti-Doping Agency', 'International Olympic Committee', 'International Federation of Association Football (FIFA)', 'International Cricket Council (ICC)', 'International Tennis Federation (ITF)', 'International Basketball Federation (FIBA)', 'International Association of Athletics Federations (IAAF)', 'International Swimming Federation (FINA)', 'International Boxing Association (AIBA)', 'World Chess Federation (FIDE)', 'International Judo Federation (IJF)', 'World Taekwondo Federation (WTF)', 'International Wrestling Federation (UWW)', 'International Weightlifting Federation (IWF)', 'International Gymnastics Federation (FIG)', 'International Volleyball Federation (FIVB)', 'International Table Tennis Federation (ITTF)', 'World Curling Federation (WCF)', 'International Skating Union (ISU)', 'International Ski Federation (FIS)', 'International Biathlon Union (IBU)', 'International Luge Federation (FIL)', 'International Bobsleigh and Skeleton Federation (IBSF)', 'International Ice Hockey Federation (IIHF)', 'World Archery Federation (WA)', 'World Rowing Federation (FISA)', 'International Canoe Federation (ICF)', 'International Sailing Federation (ISAF)', 'World Equestrian Federation (FEI)', 'International Modern Pentathlon Union (UIPM)', 'International Shooting Sport Federation (ISSF)', 'World Triathlon', 'World Rugby', 'International Handball Federation (IHF)', 'International Netball Federation (INF)', 'International Field Hockey Federation (FIH)', 'World Baseball Softball Confederation (WBSC)', 'International American Football Federation (IFAF)', 'International Cheer Union (ICU)', 'World DanceSport Federation (WDSF)', 'International Orienteering Federation (IOF)', 'International Federation of Sport Climbing (IFSC)', 'World Underwater Federation (CMAS)', 'International Surfing Association (ISA)', 'International Korfball Federation (IKF)', 'International Floorball Federation (IFF)', 'World Dodgeball Association (WDA)', 'International Bandy Federation (IBF)', 'International Motorsport Federation (FIA)', 'International Motorcycle Federation (FIM)', 'International Cycling Union (UCI)', 'World Sailing', 'International Paralympic Committee (IPC)', 'Special Olympics International', 'Deaflympics', 'Gay Games', 'World Masters Games', 'Indigenous Games', 'eSports tournament', 'Video game convention', 'Anime convention', 'Comic Con', 'Sci-Fi convention', 'Horror convention', 'Fan convention', 'LARP event', 'Renaissance fair', 'Medieval festival', 'Viking festival', 'Pagan gathering', 'Wiccan coven meeting', 'Druid ceremony', 'Shamanic ritual', 'Native American powwow', 'Indigenous cultural festival', 'World Music Festival', 'Jazz festival', 'Blues festival', 'Rock festival', 'Country music festival', 'Classical music concert', 'Opera house', 'Ballet performance', 'Theater production', 'Improv show', 'Comedy club', 'Poetry slam', 'Open mic night', 'Art exhibit', 'Photography exhibit', 'Sculpture garden', 'Installation art show', 'Performance art piece', 'Flash mob', 'Silent disco', 'Underground rave', 'Secret society meeting', 'Speakeasy', 'Gambling den', 'Back alley', 'Dark street corner', 'Overpass', 'Bridge', 'Toll booth', 'Border crossing', 'Customs checkpoint', 'Immigration office', 'DMV', 'Social security office', 'Welfare office', 'Voter registration booth', 'Polling place', 'Public hearing', 'Town hall meeting', 'Neighborhood watch meeting', 'Book club meeting', 'Support group meeting', 'Twelve-step meeting', 'Meditation retreat', 'Silent retreat', 'Yoga retreat', 'Spiritual retreat', 'Ashram', 'Zen center', 'Buddhist temple', 'Hindu temple', 'Sufi center', 'Shamanic gathering', 'Sweat lodge', 'Vision quest', 'Drum circle', 'Burning Man', 'Music festival', 'Art festival', 'Film festival', 'Food festival', 'Wine festival', 'Beer festival', 'Cultural festival', 'Street fair', 'Block party', 'Neighborhood barbecue', 'Potluck dinner', 'Family reunion', 'Class reunion', 'High school prom', 'College formal', 'Birthday party', 'Anniversary party', 'Engagement party', 'Wedding reception', 'Baby shower', 'Bachelor party', 'Bachelorette party', 'Divorce party', 'Wake', 'Memorial service', 'Cemetery', 'Mausoleum', 'Crypt', 'Catacombs', 'Graveyard', 'Haunted forest', 'Spooky swamp', 'Abandoned mine', 'Ghost town', 'Space station', 'Mars colony', 'Moon base', 'Underwater research facility', 'Underground bunker', 'Secret laboratory', 'Government facility', 'Military base', 'Spy headquarters', 'Hacker collective', 'Anonymous meeting', 'Dark web forum', 'Bitcoin conference', 'Cryptocurrency meetup', 'Virtual reality meeting', 'Augmented reality conference', 'Metaverse hangout', 'NFT gallery', 'DAO meeting', 'Decentralized community event', 'AI conference', 'Robotics convention', 'Singularity summit', 'Transhumanist gathering', 'Extraterrestrial contact event', 'UFO sighting group', 'Conspiracy theory conference', 'End of the world bunker', 'Survivalist camp', 'Prepper community', 'Doomsday shelter', 'Vault', 'Time capsule opening', 'Ancient ruins', 'Archaeological dig site', 'Lost city', 'Hidden temple', 'Sacred grove', 'Power spot', 'Vortex', 'Ley line intersection', 'Astral projection meetup', 'Remote viewing session', 'Past life regression hypnosis', 'Mediumship circle', 'Séance', 'Ouija board session', 'Tarot card reading', 'Palm reading', 'Astrology conference', 'Numerology workshop', 'Feng shui consultation', 'I Ching reading', 'Dream interpretation group', 'Lucid dreaming workshop', 'Out-of-body experience retreat', 'Near-death experience support group', 'Reincarnation seminar', 'Karma clearing workshop', 'Spiritual healing session', 'Energy healing session', 'Reiki session', 'Pranic healing session', 'Crystal healing session', 'Sound healing session', 'Light therapy session', 'Color therapy session', 'Aroma therapy session', 'Herbal medicine consultation', 'Homeopathic treatment session', 'Acupuncture session', 'Chiropractic session', 'Massage therapy session', 'Physical therapy session', 'Occupational therapy session', 'Speech therapy session', 'Art therapy session', 'Music therapy session', 'Dance therapy session', 'Drama therapy session', 'Psychotherapy session', 'Psychoanalysis session', 'Hypnotherapy session', 'Cognitive behavioral therapy session', 'Dialectical behavior therapy session', 'Eye movement desensitization and reprocessing (EMDR) session', 'Family therapy session', 'Group therapy session', 'Couples therapy session', 'Relationship coaching session', 'Life coaching session', 'Career counseling session', 'Financial planning session', 'Legal consultation', 'Real estate closing', 'Negotiation meeting', 'Mediation session', 'Arbitration hearing', 'Courtroom', 'Jury deliberation room', 'Witness protection program safe house', 'Political asylum hearing', 'Refugee camp', 'Disaster relief shelter', 'Emergency room waiting area', 'Intensive care unit waiting area', 'Operating room waiting area', 'Morgue', 'Crime scene', 'Police station', 'FBI office', 'CIA headquarters', 'Interpol headquarters', 'United Nations headquarters', 'World Economic Forum meeting', 'G7 summit', 'NATO summit', 'Organization of the Petroleum Exporting Countries (OPEC) meeting', 'International Monetary Fund (IMF) meeting', 'World Bank meeting', 'European Union parliament', 'African Union summit', 'Association of Southeast Asian Nations (ASEAN) summit', 'South Asian Association for Regional Cooperation (SAARC) summit', 'BRICS summit', 'Shanghai Cooperation Organisation (SCO) summit', 'Commonwealth Heads of Government Meeting (CHOGM)', 'Non-Aligned Movement (NAM) summit', 'Organization of American States (OAS) summit', 'Caribbean Community (CARICOM) summit', 'Pacific Islands Forum (PIF) summit', 'Arctic Council meeting', 'Antarctic Treaty Consultative Meeting', 'International Seabed Authority meeting', 'United Nations Climate Change Conference (COP)', 'World Health Assembly', 'World Trade Organization ministerial conference', 'International Criminal Court', 'International Court of Justice', 'Permanent Court of Arbitration', 'Hague Conference on Private International Law', 'International Red Cross', 'Doctors Without Borders', 'Amnesty International', 'Human Rights Watch', 'United Nations High Commissioner for Refugees (UNHCR)', \"United Nations Children's Fund (UNICEF)\", 'United Nations Development Programme (UNDP)', 'United Nations Environment Programme (UNEP)', 'United Nations Educational, Scientific and Cultural Organization (UNESCO)', 'World Food Programme (WFP)', 'International Atomic Energy Agency (IAEA)', 'Organization for Security and Co-operation in Europe (OSCE)', 'Council of Europe', 'League of Arab States', 'Organization of Islamic Cooperation', 'African Union', 'Commonwealth of Nations', 'Francophonie', 'Community of Portuguese Language Countries', 'Ibero-American Community', 'Parliamentary Assembly of the Council of Europe', 'European Parliament', 'United Nations General Assembly', 'United Nations Security Council', 'International Telecommunication Union', 'Universal Postal Union', 'World Meteorological Organization', 'International Civil Aviation Organization', 'International Maritime Organization', 'World Intellectual Property Organization', 'United Nations Industrial Development Organization', 'World Tourism Organization', 'Food and Agriculture Organization of the United Nations', 'International Fund for Agricultural Development', 'International Labour Organization', 'International Organization for Migration', 'International Renewable Energy Agency', 'International Seabed Authority', 'World Anti-Doping Agency', 'International Olympic Committee', 'International Federation of Association Football (FIFA)', 'International Cricket Council (ICC)', 'International Tennis Federation (ITF)', 'International Basketball Federation (FIBA)', 'International Association of Athletics Federations (IAAF)', 'International Swimming Federation (FINA)', 'International Boxing Association (AIBA)', 'World Chess Federation (FIDE)', 'International Judo Federation (IJF)', 'World Taekwondo Federation (WTF)', 'International Wrestling Federation (UWW)', 'International Weightlifting Federation (IWF)', 'International Gymnastics Federation (FIG)', 'International Volleyball Federation (FIVB)', 'International Table Tennis Federation (ITTF)', 'World Curling Federation (WCF)', 'International Skating Union (ISU)', 'International Ski Federation (FIS)', 'International Biathlon Union (IBU)', 'International Luge Federation (FIL)', 'International Bobsleigh and Skeleton Federation (IBSF)', 'International Ice Hockey Federation (IIHF)', 'World Archery Federation (WA)', 'World Rowing Federation (FISA)', 'International Canoe Federation (ICF)', 'International Sailing Federation (ISAF)', 'World Equestrian Federation (FEI)', 'International Modern Pentathlon Union (UIPM)', 'International Shooting Sport Federation (ISSF)', 'World Triathlon', 'World Rugby', 'International Handball Federation (IHF)', 'International Netball Federation (INF)', 'International Field Hockey Federation (FIH)', 'World Baseball Softball Confederation (WBSC)', 'International American Football Federation (IFAF)', 'International Cheer Union (ICU)', 'World DanceSport Federation (WDSF)', 'International Orienteering Federation (IOF)', 'International Federation of Sport Climbing (IFSC)', 'World Underwater Federation (CMAS)', 'International Surfing Association (ISA)', 'International Korfball Federation (IKF)', 'International Floorball Federation (IFF)', 'World Dodgeball Association (WDA)', 'International Bandy Federation (IBF)', 'International Motorsport Federation (FIA)', 'International Motorcycle Federation (FIM)', 'International Cycling Union (UCI)', 'World Sailing', 'International Paralympic Committee (IPC)', 'Special Olympics International', 'Deaflympics', 'Gay Games', 'World Masters Games', 'Indigenous Games', 'eSports tournament', 'Video game convention', 'Anime convention', 'Comic Con', 'Sci-Fi convention', 'Horror convention', 'Fan convention', 'LARP event', 'Renaissance fair', 'Medieval festival', 'Viking festival', 'Pagan gathering', 'Wiccan coven meeting', 'Druid ceremony', 'Shamanic ritual', 'Native American powwow', 'Indigenous cultural festival', 'World Music Festival', 'Jazz festival', 'Blues festival', 'Rock festival', 'Country music festival', 'Classical music concert', 'Opera house', 'Ballet performance', 'Theater production', 'Improv show', 'Comedy club', 'Poetry slam', 'Open mic night', 'Art exhibit', 'Photography exhibit', 'Sculpture garden', 'Installation art show', 'Performance art piece', 'Flash mob', 'Silent disco', 'Underground rave', 'Secret society meeting', 'Speakeasy', 'Gambling den', 'Back alley', 'Dark street corner', 'Overpass', 'Bridge', 'Toll booth', 'Border crossing', 'Customs checkpoint', 'Immigration office', 'DMV', 'Social security office', 'Welfare office', 'Voter registration booth', 'Polling place', 'Public hearing', 'Town hall meeting', 'Neighborhood watch meeting', 'Book club meeting', 'Support group meeting', 'Twelve-step meeting', 'Meditation retreat', 'Silent retreat', 'Yoga retreat', 'Spiritual retreat', 'Ashram', 'Zen center', 'Buddhist temple', 'Hindu temple', 'Sufi center', 'Shamanic gathering', 'Sweat lodge', 'Vision quest', 'Drum circle', 'Burning Man', 'Music festival', 'Art festival', 'Film festival', 'Food festival', 'Wine festival', 'Beer festival', 'Cultural festival', 'Street fair', 'Block party', 'Neighborhood barbecue', 'Potluck dinner', 'Family reunion', 'Class reunion', 'High school prom', 'College formal', 'Birthday party', 'Anniversary party', 'Engagement party', 'Wedding reception', 'Baby shower', 'Bachelor party', 'Bachelorette party', 'Divorce party', 'Wake', 'Memorial service', 'Cemetery', 'Mausoleum', 'Crypt', 'Catacombs', 'Graveyard', 'Haunted forest', 'Spooky swamp', 'Abandoned mine', 'Ghost town', 'Space station', 'Mars colony', 'Moon base', 'Underwater research facility', 'Underground bunker', 'Secret laboratory', 'Government facility', 'Military base', 'Spy headquarters', 'Hacker collective', 'Anonymous meeting', 'Dark web forum', 'Bitcoin conference', 'Cryptocurrency meetup', 'Virtual reality meeting', 'Augmented reality conference', 'Metaverse hangout', 'NFT gallery', 'DAO meeting', 'Decentralized community event', 'AI conference', 'Robotics convention', 'Singularity summit', 'Transhumanist gathering', 'Extraterrestrial contact event', 'UFO sighting group', 'Conspiracy theory conference', 'End of the world bunker', 'Survivalist camp', 'Prepper community', 'Doomsday shelter', 'Vault', 'Time capsule opening', 'Ancient ruins', 'Archaeological dig site', 'Lost city', 'Hidden temple', 'Sacred grove', 'Power spot', 'Vortex', 'Ley line intersection', 'Astral projection meetup', 'Remote viewing session', 'Past life regression hypnosis', 'Mediumship circle', 'Séance', 'Ouija board session', 'Tarot card reading', 'Palm reading', 'Astrology conference', 'Numerology workshop', 'Feng shui consultation', 'I Ching reading', 'Dream interpretation group', 'Lucid dreaming workshop', 'Out-of-body experience retreat', 'Near-death experience support group', 'Reincarnation seminar', 'Karma clearing workshop', 'Spiritual healing session', 'Energy healing session', 'Reiki session', 'Pranic healing session', 'Crystal healing session', 'Sound healing session', 'Light therapy session', 'Color therapy session', 'Aroma therapy session', 'Herbal medicine consultation', 'Homeopathic treatment session', 'Acupuncture session', 'Chiropractic session', 'Massage therapy session', 'Physical therapy session', 'Occupational therapy session', 'Speech therapy session', 'Art therapy session', 'Music therapy session', 'Dance therapy session', 'Drama therapy session', 'Psychotherapy session', 'Psychoanalysis session', 'Hypnotherapy session', 'Cognitive behavioral therapy session', 'Dialectical behavior therapy session', 'Eye movement desensitization and reprocessing (EMDR) session', 'Family therapy session', 'Group therapy session', 'Couples therapy session', 'Relationship coaching session', 'Life coaching session', 'Career counseling session', 'Financial planning session', 'Legal consultation', 'Real estate closing', 'Negotiation meeting', 'Mediation session', 'Arbitration hearing', 'Courtroom', 'Jury deliberation room', 'Witness protection program safe house', 'Political asylum hearing', 'Refugee camp', 'Disaster relief shelter', 'Emergency room waiting area', 'Intensive care unit waiting area', 'Operating room waiting area', 'Morgue', 'Crime scene', 'Police station', 'FBI office', 'CIA headquarters', 'Interpol headquarters', 'United Nations headquarters', 'World Economic Forum meeting', 'G7 summit', 'NATO summit', 'Organization of the Petroleum Exporting Countries (OPEC) meeting', 'International Monetary Fund (IMF) meeting', 'World Bank meeting', 'European Union parliament', 'African Union summit', 'Association of Southeast Asian Nations (ASEAN) summit', 'South Asian Association for Regional Cooperation (SAARC) summit', 'BRICS summit', 'Shanghai Cooperation Organisation (SCO) summit', 'Commonwealth Heads of Government Meeting (CHOGM)', 'Non-Aligned Movement (NAM) summit', 'Organization of American States (OAS) summit', 'Caribbean Community (CARICOM) summit', 'Pacific Islands Forum (PIF) summit', 'Arctic Council meeting', 'Antarctic Treaty Consultative Meeting', 'International Seabed Authority meeting', 'United Nations Climate Change Conference (COP)', 'World Health Assembly', 'World Trade Organization ministerial conference', 'International Criminal Court', 'International Court of Justice', 'Permanent Court of Arbitration', 'Hague Conference on Private International Law', 'International Red Cross', 'Doctors Without Borders', 'Amnesty International', 'Human Rights Watch', 'United Nations High Commissioner for Refugees (UNHCR)', \"United Nations Children's Fund (UNICEF)\", 'United Nations Development Programme (UNDP)', 'United Nations Environment Programme (UNEP)', 'United Nations Educational, Scientific and Cultural Organization (UNESCO)', 'World Food Programme (WFP)', 'International Atomic Energy Agency (IAEA)', 'Organization for Security and Co-operation in Europe (OSCE)', 'Council of Europe', 'League of Arab States', 'Organization of Islamic Cooperation', 'African Union', 'Commonwealth of Nations', 'Francophonie', 'Community of Portuguese Language Countries', 'Ibero-American Community', 'Parliamentary Assembly of the Council of Europe', 'European Parliament', 'United Nations General Assembly', 'United Nations Security Council', 'International Telecommunication Union', 'Universal Postal Union', 'World Meteorological Organization', 'International Civil Aviation Organization', 'International Maritime Organization', 'World Intellectual Property Organization', 'United Nations Industrial Development Organization', 'World Tourism Organization', 'Food and Agriculture Organization of the United Nations', 'International Fund for Agricultural Development', 'International Labour Organization', 'International Organization for Migration', 'International Renewable Energy Agency', 'International Seabed Authority', 'World Anti-Doping Agency', 'International Olympic Committee', 'International Federation of Association Football (FIFA)', 'International Cricket Council (ICC)', 'International Tennis Federation (ITF)', 'International Basketball Federation (FIBA)', 'International Association of Athletics Federations (IAAF)', 'International Swimming Federation (FINA)', 'International Boxing Association (AIBA)', 'World Chess Federation (FIDE)', 'International Judo Federation (IJF)', 'World Taekwondo Federation (WTF)', 'International Wrestling Federation (UWW)', 'International Weightlifting Federation (IWF)', 'International Gymnastics Federation (FIG)', 'International Volleyball Federation (FIVB)', 'International Table Tennis Federation (ITTF)', 'World Curling Federation (WCF)', 'International Skating Union (ISU)', 'International Ski Federation (FIS)', 'International Biathlon Union (IBU)', 'International Luge Federation (FIL)', 'International Bobsleigh and Skeleton Federation (IBSF)', 'International Ice Hockey Federation (IIHF)', 'World Archery Federation (WA)', 'World Rowing Federation (FISA)', 'International Canoe Federation (ICF)', 'International Sailing Federation (ISAF)', 'World Equestrian Federation (FEI)', 'International Modern Pentathlon Union (UIPM)', 'International Shooting Sport Federation (ISSF)', 'World Triathlon', 'World Rugby', 'International Handball Federation (IHF)', 'International Netball Federation (INF)', 'International Field Hockey Federation (FIH)', 'World Baseball Softball Confederation (WBSC)', 'International American Football Federation (IFAF)', 'International Cheer Union (ICU)', 'World DanceSport Federation (WDSF)', 'International Orienteering Federation (IOF)', 'International Federation of Sport Climbing (IFSC)', 'World Underwater Federation (CMAS)', 'International Surfing Association (ISA)', 'International Korfball Federation (IKF)', 'International Floorball Federation (IFF)', 'World Dodgeball Association (WDA)', 'International Bandy Federation (IBF)', 'International Motorsport Federation (FIA)', 'International Motorcycle Federation (FIM)', 'International Cycling Union (UCI)', 'World Sailing', 'International Paralympic Committee (IPC)', 'Special Olympics International', 'Deaflympics', 'Gay Games', 'World Masters Games', 'Indigenous Games', 'eSports tournament', 'Video game convention', 'Anime convention', 'Comic Con', 'Sci-Fi convention', 'Horror convention', 'Fan convention', 'LARP event', 'Renaissance fair', 'Medieval festival', 'Viking festival', 'Pagan gathering', 'Wiccan coven meeting', 'Druid ceremony', 'Shamanic ritual', 'Native American powwow', 'Indigenous cultural festival', 'World Music Festival', 'Jazz festival', 'Blues festival', 'Rock festival', 'Country music festival', 'Classical music concert', 'Opera house', 'Ballet performance', 'Theater production', 'Improv show', 'Comedy club', 'Poetry slam', 'Open mic night', 'Art exhibit', 'Photography exhibit', 'Sculpture garden', 'Installation art show', 'Performance art piece', 'Flash mob', 'Silent disco', 'Underground rave', 'Secret society meeting', 'Speakeasy', 'Gambling den', 'Back alley', 'Dark street corner', 'Overpass', 'Bridge', 'Toll booth', 'Border crossing', 'Customs checkpoint', 'Immigration office', 'DMV', 'Social security office', 'Welfare office', 'Voter registration booth', 'Polling place', 'Public hearing', 'Town hall meeting', 'Neighborhood watch meeting', 'Book club meeting', 'Support group meeting', 'Twelve-step meeting', 'Meditation retreat', 'Silent retreat', 'Yoga retreat', 'Spiritual retreat', 'Ashram', 'Zen center', 'Buddhist temple', 'Hindu temple', 'Sufi center', 'Shamanic gathering', 'Sweat lodge', 'Vision quest', 'Drum circle', 'Burning Man', 'Music festival', 'Art festival', 'Film festival', 'Food festival', 'Wine festival', 'Beer festival', 'Cultural festival', 'Street fair', 'Block party', 'Neighborhood barbecue', 'Potluck dinner', 'Family reunion', 'Class reunion', 'High school prom', 'College formal', 'Birthday party', 'Anniversary party', 'Engagement party', 'Wedding reception', 'Baby shower', 'Bachelor party', 'Bachelorette party', 'Divorce party', 'Wake', 'Memorial service', 'Cemetery', 'Mausoleum', 'Crypt', 'Catacombs', 'Graveyard', 'Haunted forest', 'Spooky swamp', 'Abandoned mine', 'Ghost town', 'Space station', 'Mars colony', 'Moon base', 'Underwater research facility', 'Underground bunker', 'Secret laboratory', 'Government facility', 'Military base', 'Spy headquarters', 'Hacker collective', 'Anonymous meeting', 'Dark web forum', 'Bitcoin conference', 'Cryptocurrency meetup', 'Virtual reality meeting', 'Augmented reality conference', 'Metaverse hangout', 'NFT gallery', 'DAO meeting', 'Decentralized community event', 'AI conference', 'Robotics convention', 'Singularity summit', 'Transhumanist gathering', 'Extraterrestrial contact event', 'UFO sighting group', 'Conspiracy theory conference', 'End of the world bunker', 'Survivalist camp', 'Prepper community', 'Doomsday shelter', 'Vault', 'Time capsule opening', 'Ancient ruins', 'Archaeological dig site', 'Lost city', 'Hidden temple', 'Sacred grove', 'Power spot', 'Vortex', 'Ley line intersection', 'Astral projection meetup', 'Remote viewing session', 'Past life regression hypnosis', 'Mediumship circle', 'Séance', 'Ouija board session', 'Tarot card reading', 'Palm reading', 'Astrology conference', 'Numerology workshop', 'Feng shui consultation', 'I Ching reading', 'Dream interpretation group', 'Lucid dreaming workshop', 'Out-of-body experience retreat', 'Near-death experience support group', 'Reincarnation seminar', 'Karma clearing workshop', 'Spiritual healing session', 'Energy healing session', 'Reiki session', 'Pranic healing session', 'Crystal healing session', 'Sound healing session', 'Light therapy session', 'Color therapy session', 'Aroma therapy session', 'Herbal medicine']\n",
            " The length of the list is: 1734\n"
          ]
        }
      ],
      "source": [
        "prompt_locations= (\"List 100 different locations like a café, office, park, or bus stop where people could have ambiguous conversations. Make each location a separate line. Do not include any extra text.\")\n",
        "locations = populate_data_for_permutations( prompt_locations,\"locations\")"
      ]
    },
    {
      "cell_type": "code",
      "execution_count": null,
      "metadata": {
        "id": "NzBBz6ws4I1Z"
      },
      "outputs": [],
      "source": [
        "locations = locations[:100]"
      ]
    },
    {
      "cell_type": "code",
      "execution_count": null,
      "metadata": {
        "colab": {
          "base_uri": "https://localhost:8080/"
        },
        "id": "i6-NxUSQ469m",
        "outputId": "729c29ad-d021-4acb-dd2f-105463983fb4"
      },
      "outputs": [
        {
          "output_type": "stream",
          "name": "stdout",
          "text": [
            "List converted to locations.txt\n"
          ]
        }
      ],
      "source": [
        "convert_list_to_txt(locations,\"locations.txt\")"
      ]
    },
    {
      "cell_type": "code",
      "execution_count": null,
      "metadata": {
        "id": "dI5PHvjXxSPP"
      },
      "outputs": [],
      "source": [
        "# time_prompt = (\"List 30 different time settings around a day, like morning, rush hour, midnight, or after work. Vary wording where possible. Make each time setting a separate line. Do not include any extra text.\")\n",
        "# times = populate_data_for_permutations(time_prompt,\"time settings\")"
      ]
    },
    {
      "cell_type": "code",
      "execution_count": null,
      "metadata": {
        "id": "Glx2PnYtx__p"
      },
      "outputs": [],
      "source": [
        "# convert_list_to_txt(times,\"time_settings.txt\")"
      ]
    },
    {
      "cell_type": "code",
      "execution_count": null,
      "metadata": {
        "colab": {
          "base_uri": "https://localhost:8080/",
          "height": 72
        },
        "id": "ZdptdFnuyfIY",
        "outputId": "535f81d5-9b5c-4084-8e1a-0a58c40f3297"
      },
      "outputs": [
        {
          "output_type": "stream",
          "name": "stdout",
          "text": [
            "The data generated for no. of messages:['21', '25', '29', '33', '37', '41', '45', '49', '53', '57', '61', '65', '69', '73', '77', '81', '85', '89', '93', '97', '101', '105', '109', '113', '117', '121', '125', '129', '133', '199']\n",
            " The length of the list is: 30\n"
          ]
        }
      ],
      "source": [
        "number_of_messages_conv_prompt = \"List 30 different numbers between 20 and 200, representing the number of messages in a conversation. Each number should be unique and in a separate line. Do not include any extra text.\"\n",
        "number_of_messages_conv=populate_data_for_permutations(number_of_messages_conv_prompt,\"no. of messages\")\n"
      ]
    },
    {
      "cell_type": "code",
      "execution_count": null,
      "metadata": {
        "colab": {
          "base_uri": "https://localhost:8080/"
        },
        "id": "94KCtFIW0oN9",
        "outputId": "86332faa-5a94-4fd6-f76f-ad29dea8586a"
      },
      "outputs": [
        {
          "output_type": "stream",
          "name": "stdout",
          "text": [
            "List converted to no_of_msgs.txt\n"
          ]
        }
      ],
      "source": [
        "convert_list_to_txt(number_of_messages_conv,\"no_of_msgs.txt\")"
      ]
    },
    {
      "cell_type": "code",
      "execution_count": null,
      "metadata": {
        "colab": {
          "base_uri": "https://localhost:8080/",
          "height": 52
        },
        "id": "XN_hUJWr0uEG",
        "outputId": "9d46e8b7-69a4-41e6-f930-a9c82c6f2411"
      },
      "outputs": [
        {
          "output_type": "stream",
          "name": "stdout",
          "text": [
            "The data generated for Number of People:['2', '3', '4', '5', '2.5']\n",
            " The length of the list is: 5\n"
          ]
        }
      ],
      "source": [
        "number_of_people_conv_prompt = \"List 5 numbers between 2 and 5, representing the number of people involved in a conversation. Each number should be in a separate line. Do not include any extra text.\"\n",
        "number_of_people_conv = populate_data_for_permutations(number_of_people_conv_prompt, \"Number of People\")"
      ]
    },
    {
      "cell_type": "code",
      "execution_count": null,
      "metadata": {
        "colab": {
          "base_uri": "https://localhost:8080/"
        },
        "id": "XV_pxsRQ1R5K",
        "outputId": "b47bce4f-d414-4204-fee1-206f0fd80397"
      },
      "outputs": [
        {
          "output_type": "stream",
          "name": "stdout",
          "text": [
            "List converted to number_of_people.txt\n"
          ]
        }
      ],
      "source": [
        "convert_list_to_txt(number_of_people_conv,\"number_of_people.txt\")"
      ]
    },
    {
      "cell_type": "code",
      "execution_count": null,
      "metadata": {
        "colab": {
          "base_uri": "https://localhost:8080/",
          "height": 72
        },
        "id": "gq_9ngdl1Zu5",
        "outputId": "f40457ca-ad31-4c91-fd62-47dac8049b21"
      },
      "outputs": [
        {
          "output_type": "stream",
          "name": "stdout",
          "text": [
            "The data generated for Vague Incident Indication:['*   \"The package got rerouted.\"', '*   \"He knows more than he should.\"', '*   \"They’re changing the protocol.\"', '*   \"The numbers aren’t adding up.\"', '*   \"It\\'s being handled internally.\"', '*   \"She missed the deadline... again.\"', '*   \"That wasn\\'t part of the agreement.\"', '*   \"There\\'s been a slight adjustment.\"', '*   \"We\\'re going off the record for a moment.\"', '*   \"Things got… complicated.\"', '*   \"Let\\'s just say it\\'s a delicate situation.\"', '*   \"He\\'s been reassigned to another project.\"', '*   \"We\\'re experiencing some unexpected delays.\"', '*   \"There\\'s been a security breach.\"', '*   \"It appears some information is missing.\"', '*   \"They\\'re conducting a review of the process.\"', '*   \"We\\'ve had to make some… adjustments.\"', '*   \"That meeting ran longer than expected.\"', '*   \"He took early retirement.\"', '*   \"Someone\\'s been digging around.\"']\n",
            " The length of the list is: 20\n"
          ]
        }
      ],
      "source": [
        "vague_indicators_conv_prompt = \"List 20 vague incidents or events that people might discuss in a way that feels suspicious but lacks explicit details. The events should create a sense of unease, secrecy, or misinterpretation without directly mentioning anything illegal. Examples include phrases like \"\"That wasn’t supposed to happen,\"\" \"\"We might have a problem,\"\" and \"\"Someone’s asking too many questions\"\". Each response should be short, natural, and sound like something someone might say in a tense or secretive conversation. Make each incident a separate line. Do not include any extra text.\"\n",
        "vague_indicators_conv = populate_data_for_permutations(vague_indicators_conv_prompt, \"Vague Incident Indication\")"
      ]
    },
    {
      "cell_type": "code",
      "execution_count": null,
      "metadata": {
        "colab": {
          "base_uri": "https://localhost:8080/"
        },
        "id": "RRPmTqBM2ksK",
        "outputId": "a58fb4b6-2bab-4203-caf3-da5deaa4b2d0"
      },
      "outputs": [
        {
          "output_type": "stream",
          "name": "stdout",
          "text": [
            "List converted to vague_incidents.txt\n"
          ]
        }
      ],
      "source": [
        "convert_list_to_txt(vague_indicators_conv,\"vague_incidents.txt\")"
      ]
    },
    {
      "cell_type": "code",
      "execution_count": null,
      "metadata": {
        "colab": {
          "base_uri": "https://localhost:8080/",
          "height": 72
        },
        "id": "T6eOOBXF2JV7",
        "outputId": "ed19457b-e7cc-4bb4-a5d3-c28906a681c3"
      },
      "outputs": [
        {
          "output_type": "stream",
          "name": "stdout",
          "text": [
            "The data generated for vague message count:['6', '7', '9', '11', '13', '15', '17', '19', '21', '23', '25', '27', '29', '31', '33']\n",
            " The length of the list is: 15\n"
          ]
        }
      ],
      "source": [
        "vague_messages_count_prompt = \"List 15 different numbers between 5 and 35, representing how many messages in a conversation contain vague or indirect statements. Each number should be in a separate line. Do not include any extra text.\"\n",
        "vague_messages_count = populate_data_for_permutations(vague_messages_count_prompt,\"vague message count\")"
      ]
    },
    {
      "cell_type": "code",
      "execution_count": null,
      "metadata": {
        "colab": {
          "base_uri": "https://localhost:8080/"
        },
        "id": "J3to9Ud22f6h",
        "outputId": "0c406f75-fed9-4d8f-a615-d54e3f153ce5"
      },
      "outputs": [
        {
          "output_type": "stream",
          "name": "stdout",
          "text": [
            "List converted to vague_msg_count.txt\n"
          ]
        }
      ],
      "source": [
        "convert_list_to_txt(vague_messages_count,\"vague_msg_count.txt\")"
      ]
    },
    {
      "cell_type": "code",
      "execution_count": null,
      "metadata": {
        "colab": {
          "base_uri": "https://localhost:8080/",
          "height": 52
        },
        "id": "zKfttc8r20OY",
        "outputId": "c6123f7a-b9d3-437f-cf3c-be59d686a681"
      },
      "outputs": [
        {
          "output_type": "stream",
          "name": "stdout",
          "text": [
            "The data generated for Age of Individual:['16', '18', '21', '25', '27', '30', '32', '35', '37', '40']\n",
            " The length of the list is: 10\n"
          ]
        }
      ],
      "source": [
        "age_prompt= (\"List 10 different ages between 15 and 40 that are commonly involved in ambiguous conversations. Each age should be in a separate line. Do not include any extra text.\")\n",
        "age = populate_data_for_permutations(age_prompt,\"Age of Individual\")"
      ]
    },
    {
      "cell_type": "code",
      "execution_count": null,
      "metadata": {
        "colab": {
          "base_uri": "https://localhost:8080/"
        },
        "id": "OVEBcp0_3fcT",
        "outputId": "6e5b3770-17a8-4311-bbec-7ef99d98dee9"
      },
      "outputs": [
        {
          "output_type": "stream",
          "name": "stdout",
          "text": [
            "List converted to indiv_age.txt\n"
          ]
        }
      ],
      "source": [
        "convert_list_to_txt(age,\"indiv_age.txt\")"
      ]
    },
    {
      "cell_type": "code",
      "execution_count": null,
      "metadata": {
        "id": "rgvU6bWs3s9D"
      },
      "outputs": [],
      "source": [
        "# gender_prompt=\"List 5 different gender identities. Each gender should be in a separate line. Do not include any extra text.\"\n",
        "# gender = populate_data_for_permutations(gender_prompt,\"Individual Gender\")"
      ]
    },
    {
      "cell_type": "code",
      "execution_count": null,
      "metadata": {
        "id": "IbPycxAf5BvK"
      },
      "outputs": [],
      "source": [
        "# convert_list_to_txt(gender,\"indiv_gender.txt\")"
      ]
    },
    {
      "cell_type": "code",
      "execution_count": null,
      "metadata": {
        "colab": {
          "base_uri": "https://localhost:8080/",
          "height": 52
        },
        "id": "1hZDeI744EOg",
        "outputId": "641da488-a7a2-43ff-a718-3c3aded9c884"
      },
      "outputs": [
        {
          "output_type": "stream",
          "name": "stdout",
          "text": [
            "The data generated for Nature of Conversation:['Casual', 'Serious', 'Urgent', 'Cryptic']\n",
            " The length of the list is: 4\n"
          ]
        }
      ],
      "source": [
        "conv_nature_prompt = \"List 4 different conversation tones that affect how people perceive a discussion. Examples: casual, serious, urgent, cryptic. Each value should be in a separate line. Do not include any extra text.\"\n",
        "conv_nature = populate_data_for_permutations(conv_nature_prompt,\"Nature of Conversation\")"
      ]
    },
    {
      "cell_type": "code",
      "execution_count": null,
      "metadata": {
        "colab": {
          "base_uri": "https://localhost:8080/"
        },
        "id": "eAZQn8lf5RBN",
        "outputId": "85830eeb-1652-4f0b-f7e8-dd1e40d174d8"
      },
      "outputs": [
        {
          "output_type": "stream",
          "name": "stdout",
          "text": [
            "List converted to conv_nature.txt\n"
          ]
        }
      ],
      "source": [
        "convert_list_to_txt(conv_nature,\"conv_nature.txt\")"
      ]
    },
    {
      "cell_type": "code",
      "execution_count": null,
      "metadata": {
        "colab": {
          "base_uri": "https://localhost:8080/",
          "height": 72
        },
        "id": "fgRTgb3A5q8o",
        "outputId": "1c674b1d-fea6-4099-cd7f-b3de32b3d6a5"
      },
      "outputs": [
        {
          "output_type": "stream",
          "name": "stdout",
          "text": [
            "The data generated for suspect_occupation:['Finances', 'Politics', 'Religion', 'Relationships', 'Parenting', 'Education', 'Social Issues', 'Technology', 'Legal Matters', 'Environmental Concerns', 'Dating', 'Nutrition', 'Fitness', 'Travel', 'World Events']\n",
            " The length of the list is: 15\n"
          ]
        }
      ],
      "source": [
        "disc_topic_prompt = \"List 15 different topics people commonly discuss where their words could be misinterpreted. Examples: Business, Personal Issues, Unexpected Problems, Logistics, Debt, Health, Real Estate, Hiring. Each topic should be in a separate line. Do not include any extra text.\"\n",
        "disc_topic = populate_data_for_permutations(disc_topic_prompt,\"suspect_occupation\")"
      ]
    },
    {
      "cell_type": "code",
      "execution_count": null,
      "metadata": {
        "colab": {
          "base_uri": "https://localhost:8080/"
        },
        "id": "NnADQHSn9X-N",
        "outputId": "3840e2c9-b5a5-42b3-9001-0f693b232089"
      },
      "outputs": [
        {
          "output_type": "stream",
          "name": "stdout",
          "text": [
            "List converted to discussion_topics.txt\n"
          ]
        }
      ],
      "source": [
        "convert_list_to_txt(disc_topic,\"discussion_topics.txt\")"
      ]
    },
    {
      "cell_type": "code",
      "execution_count": null,
      "metadata": {
        "id": "nMrAKA6S68ms"
      },
      "outputs": [],
      "source": [
        "### Binary Variables directly added to code\n",
        "# Var susp_context = (Yes/No)\n",
        "# Var use_coded_lang = (Yes/No)\n",
        "# Var implic_ref_to_action = (Yes/No)"
      ]
    },
    {
      "cell_type": "markdown",
      "metadata": {
        "id": "0MUgQJFH_1Hh"
      },
      "source": [
        "###Prompt variables - The variables involved to generate different settings of the murder stories.\n",
        "\n",
        "\n",
        "1. Location → Sets the scene for the conversation.\n",
        "\n",
        "2. Number of Messages in the Conversation → Controls length; ensures natural flow.\n",
        "\n",
        "3. Number of People Involved in the Conversation → Impacts complexity of discussion & ambiguity.\n",
        "4. Types of Vague Incidents in the Conversation → Key to making conversations feel unclear but suspicious.\n",
        "\n",
        "5. Number of Vague Messages in a Conversation → Defines how much ambiguity is present.\n",
        "\n",
        "6. Conversation Nature (Casual, Serious, Urgent, Cryptic) → Affects tone and perception.\n",
        "\n",
        "7. Discussion Topic → Adds realism; makes ambiguity more natural.\n",
        "\n",
        "8. Mentioned in Suspicious Context? (Yes/No) → Flags if someone is referenced in a way that raises suspicion.\n",
        "\n",
        "9. Implicit Reference to an Action? (Yes/No) → Ensures indirect hints at something happening.\n",
        "\n",
        "10. Use of Coded Language? (Yes/No) → Introduces double meanings in conversations.\n",
        "\n",
        "\n",
        "\n",
        "\n",
        "\n",
        "\n",
        "\n",
        "\n",
        "\n",
        "\n",
        "\n"
      ]
    },
    {
      "cell_type": "code",
      "execution_count": null,
      "metadata": {
        "id": "hQKaNyvBirQv",
        "colab": {
          "base_uri": "https://localhost:8080/"
        },
        "outputId": "d418488d-6e0f-499f-9418-3084f024659b"
      },
      "outputs": [
        {
          "output_type": "stream",
          "name": "stdout",
          "text": [
            "Converted the list of dictionaries into ambiguous_conversations.json\n"
          ]
        }
      ],
      "source": [
        "import random\n",
        "import json\n",
        "\n",
        "def read_txt_to_list(filename):\n",
        "    \"\"\"Reads a text file and returns a list of lines.\"\"\"\n",
        "    with open(filename, \"r\") as f:\n",
        "        return [line.strip() for line in f]\n",
        "\n",
        "def list_of_dicts_to_json(list_of_dict, filename):\n",
        "    \"\"\"Writes a list of dictionaries to a JSON file.\"\"\"\n",
        "    with open(filename, \"w+\") as f:\n",
        "        json.dump(list_of_dict, f, indent=4)\n",
        "    print(f\"Converted the list of dictionaries into {filename}\")\n",
        "\n",
        "def generate_permutations():\n",
        "    \"\"\"Generates ambiguous conversation settings based on predefined variables.\"\"\"\n",
        "    # Load text-based lists\n",
        "    locations = read_txt_to_list(\"locations.txt\")\n",
        "    vague_incidents = read_txt_to_list(\"vague_incidents.txt\")\n",
        "    discussion_topics = read_txt_to_list(\"discussion_topics.txt\")\n",
        "    personality_traits = [\"Paranoid\", \"Evasive\", \"Blunt\", \"Overly Curious\"]\n",
        "\n",
        "    # Define numerical variables\n",
        "    num_messages = read_txt_to_list(\"no_of_msgs.txt\")\n",
        "    num_vague_messages = read_txt_to_list(\"vague_msg_count.txt\")\n",
        "    num_people = [2, 3, 4, 5]\n",
        "    conversation_nature = [\"Casual\", \"Serious\", \"Urgent\", \"Cryptic\"]\n",
        "\n",
        "    # Binary variables\n",
        "    binary_flags = [\"Yes\", \"No\"]\n",
        "\n",
        "    # Personality trait descriptions\n",
        "    personality_descriptions = {\n",
        "        \"Overly Curious\": \"Asks too many questions, keeps pushing for more details.\",\n",
        "        \"Paranoid\": \"Hesitant, speaks in short phrases, always worried about being watched or overheard.\",\n",
        "        \"Evasive\": \"Frequently dodges questions, redirects conversations, and avoids clear statements.\",\n",
        "        \"Blunt\": \"Speaks without filtering, often saying things in a way that could be misinterpreted.\",\n",
        "        \"Neutral\": \"Speaks in a balanced, careful manner, rarely stands out in the conversation.\"\n",
        "    }\n",
        "\n",
        "    permutations = []\n",
        "\n",
        "    for _ in range(200):\n",
        "      num_participants = random.choice(num_people)\n",
        "      participants = []\n",
        "      for i in range(1, num_participants + 1):\n",
        "          curr_personality = random.choice(personality_traits) if random.random() < 0.5 else \"Neutral\"\n",
        "          curr_description = personality_descriptions[curr_personality]\n",
        "          participants.append(\n",
        "              f\"Person {i}: **{curr_personality}** - {curr_description}\\n\"\n",
        "              f\"  Mentioned in Suspicious Context? {random.choice(binary_flags)}\\n\"\n",
        "              f\"  Implicitly References an Action? {random.choice(binary_flags)}\\n\"\n",
        "              f\"  Uses Coded Language? {random.choice(binary_flags)}\"\n",
        "          )\n",
        "\n",
        "      permutation = {\n",
        "          \"location\": random.choice(locations),\n",
        "          \"num_messages\": random.choice(num_messages),\n",
        "          \"num_people_in_conversation\": num_participants,\n",
        "          \"vague_incident_type\": random.choice(vague_incidents).strip(\"* \").strip('\"'),\n",
        "          \"num_vague_messages\": random.choice(num_vague_messages),\n",
        "          \"conversation_nature\": random.choice(conversation_nature),\n",
        "          \"discussion_topic\": random.choice(discussion_topics),\n",
        "          # \"mentioned_in_suspicious_context\": random.choice(binary_flags),\n",
        "          # \"implicit_reference_to_action\": random.choice(binary_flags),\n",
        "          # \"use_of_coded_language\": random.choice(binary_flags),\n",
        "          \"all_participants\": \"\\n\".join(participants)\n",
        "      }\n",
        "      permutations.append(permutation)\n",
        "\n",
        "    # Save to JSON file\n",
        "    list_of_dicts_to_json(permutations, \"ambiguous_conversations.json\")\n",
        "\n",
        "generate_permutations()\n"
      ]
    },
    {
      "cell_type": "code",
      "execution_count": null,
      "metadata": {
        "id": "-q_4wP5JMOvS"
      },
      "outputs": [],
      "source": [
        "# permutations()"
      ]
    },
    {
      "cell_type": "code",
      "execution_count": null,
      "metadata": {
        "id": "5UCS6XJBa3Xp"
      },
      "outputs": [],
      "source": [
        "def json_to_list_of_dicts(jsonfile):\n",
        "  l=[]\n",
        "  with open(jsonfile,\"r\") as f:\n",
        "    data = json.load(f)\n",
        "    for di in data:\n",
        "      l.append(di)\n",
        "    return l\n",
        "\n"
      ]
    },
    {
      "cell_type": "code",
      "execution_count": null,
      "metadata": {
        "id": "jRNFjdhrddOR"
      },
      "outputs": [],
      "source": [
        "permutations = json_to_list_of_dicts(\"ambiguous_conversations.json\")"
      ]
    },
    {
      "cell_type": "code",
      "execution_count": null,
      "metadata": {
        "colab": {
          "base_uri": "https://localhost:8080/"
        },
        "id": "x_gKS7d8docu",
        "outputId": "04b1d902-c8d6-4a29-a4c6-ea7fc69de05d"
      },
      "outputs": [
        {
          "output_type": "execute_result",
          "data": {
            "text/plain": [
              "200"
            ]
          },
          "metadata": {},
          "execution_count": 37
        }
      ],
      "source": [
        "len(permutations)"
      ]
    },
    {
      "cell_type": "code",
      "execution_count": null,
      "metadata": {
        "colab": {
          "base_uri": "https://localhost:8080/"
        },
        "id": "K3BkQUIxd6tt",
        "outputId": "45c52198-c5b4-4ed2-c7b4-3de3e9968d68"
      },
      "outputs": [
        {
          "output_type": "execute_result",
          "data": {
            "text/plain": [
              "{'location': 'Flower shop',\n",
              " 'num_messages': '33',\n",
              " 'num_people_in_conversation': 5,\n",
              " 'vague_incident_type': 'He took early retirement.',\n",
              " 'num_vague_messages': '17',\n",
              " 'conversation_nature': 'Serious',\n",
              " 'discussion_topic': 'Relationships',\n",
              " 'all_participants': 'Person 1: **Evasive** - Frequently dodges questions, redirects conversations, and avoids clear statements.\\n  Mentioned in Suspicious Context? Yes\\n  Implicitly References an Action? Yes\\n  Uses Coded Language? Yes\\nPerson 2: **Paranoid** - Hesitant, speaks in short phrases, always worried about being watched or overheard.\\n  Mentioned in Suspicious Context? Yes\\n  Implicitly References an Action? No\\n  Uses Coded Language? No\\nPerson 3: **Neutral** - Speaks in a balanced, careful manner, rarely stands out in the conversation.\\n  Mentioned in Suspicious Context? Yes\\n  Implicitly References an Action? Yes\\n  Uses Coded Language? No\\nPerson 4: **Neutral** - Speaks in a balanced, careful manner, rarely stands out in the conversation.\\n  Mentioned in Suspicious Context? No\\n  Implicitly References an Action? Yes\\n  Uses Coded Language? Yes\\nPerson 5: **Blunt** - Speaks without filtering, often saying things in a way that could be misinterpreted.\\n  Mentioned in Suspicious Context? No\\n  Implicitly References an Action? Yes\\n  Uses Coded Language? No'}"
            ]
          },
          "metadata": {},
          "execution_count": 38
        }
      ],
      "source": [
        "permutations[0]"
      ]
    },
    {
      "cell_type": "code",
      "source": [
        "prompt_content = \"\"\"Location: {location}\n",
        "Discussion Topic: {discussion_topic}\n",
        "Conversation Nature: {conversation_nature}\n",
        "Event: \"{vague_incident_type}\"\n",
        "\n",
        "You are tasked with generating a **realistic, natural** conversation between {num_people_in_conversation} people in this setting.\n",
        "\n",
        "### **Conversation Rules:**\n",
        "- The conversation should feel **unscripted and authentic**, avoiding robotic or forced dialogue.\n",
        "- Participants should **never explicitly state what happened**—only hint at it.\n",
        "- **Tension and uncertainty** should be present, leaving the meaning **open to interpretation**.\n",
        "- The conversation should include **coded language, half-sentences, and unfinished thoughts** where appropriate.\n",
        "\n",
        "### **Participant Traits:**\n",
        "Each participant has a **distinct personality** that influences how they speak:\n",
        "{all_participants}\n",
        "\n",
        "### **Construct a {num_messages}-message conversation with:**\n",
        "- **At least {num_vague_messages} Vague/Indirect Messages**\n",
        "- **Natural dialogue pacing (Dialogue should sound realistic and unplanned)**\n",
        "- **Hidden tension between some participants**\n",
        "- **Mixed levels of involvement** (some participants more engaged than others)\n",
        "- **Make up natural-sounding names for participants**\n",
        "- **Avoid excessive legal jargon** (conversations should feel natural)\n",
        "- **Provide only the text messages—no additional comments or explanations.**\n",
        "- **Leave gaps in information—avoid making things too obvious.**\n",
        "- **Keep sentences short, indirect, and open-ended.**\n",
        "\n",
        "Format STRICTLY as:\n",
        "[Message 1] <Speaker Name>: \"...\"\n",
        "[Message 2] <Speaker Name>: \"...\"\n",
        "\"\"\"\n",
        "\n",
        "filename = \"/content/ambiguous_conversation_prompt.txt\"\n",
        "with open(filename, \"w\") as f:\n",
        "  f.write(prompt_content)\n",
        "\n",
        "print(f\"File '{filename}' has been created successfully!!\")"
      ],
      "metadata": {
        "colab": {
          "base_uri": "https://localhost:8080/"
        },
        "id": "MLWktShhaU29",
        "outputId": "bf0fa6ae-bd6c-4a3c-ae78-5b4da2aec164"
      },
      "execution_count": null,
      "outputs": [
        {
          "output_type": "stream",
          "name": "stdout",
          "text": [
            "File '/content/ambiguous_conversation_prompt.txt' has been created successfully!!\n"
          ]
        }
      ]
    },
    {
      "cell_type": "code",
      "source": [
        "def prompt(permutation):\n",
        "    \"\"\"Generates a structured prompt for LLM based on ambiguous conversation settings.\"\"\"\n",
        "    with open(\"ambiguous_conversation_prompt.txt\", \"r\") as f:\n",
        "        template = f.read()\n",
        "\n",
        "    return template.format(\n",
        "        location=permutation[\"location\"],\n",
        "        discussion_topic=permutation[\"discussion_topic\"],\n",
        "        conversation_nature=permutation[\"conversation_nature\"],\n",
        "        vague_incident_type=permutation[\"vague_incident_type\"],\n",
        "        num_people_in_conversation=permutation[\"num_people_in_conversation\"],\n",
        "        num_messages=permutation[\"num_messages\"],\n",
        "        num_vague_messages=permutation[\"num_vague_messages\"],\n",
        "        all_participants=permutation[\"all_participants\"]\n",
        "    )\n",
        "\n",
        "generate_permutations()\n",
        "print(prompt(permutations[0]))"
      ],
      "metadata": {
        "colab": {
          "base_uri": "https://localhost:8080/"
        },
        "id": "MjbMJwd0a454",
        "outputId": "4e5b2ad2-19a7-42c1-f0e5-d5181fa6342d"
      },
      "execution_count": null,
      "outputs": [
        {
          "output_type": "stream",
          "name": "stdout",
          "text": [
            "Converted the list of dictionaries into ambiguous_conversations.json\n",
            "Location: Flower shop\n",
            "Discussion Topic: Relationships\n",
            "Conversation Nature: Serious\n",
            "Event: \"He took early retirement.\"\n",
            "\n",
            "You are tasked with generating a **realistic, natural** conversation between 5 people in this setting.\n",
            "\n",
            "### **Conversation Rules:**\n",
            "- The conversation should feel **unscripted and authentic**, avoiding robotic or forced dialogue.\n",
            "- Participants should **never explicitly state what happened**—only hint at it.\n",
            "- **Tension and uncertainty** should be present, leaving the meaning **open to interpretation**.\n",
            "- The conversation should include **coded language, half-sentences, and unfinished thoughts** where appropriate.\n",
            "\n",
            "### **Participant Traits:**\n",
            "Each participant has a **distinct personality** that influences how they speak:\n",
            "Person 1: **Evasive** - Frequently dodges questions, redirects conversations, and avoids clear statements.\n",
            "  Mentioned in Suspicious Context? Yes\n",
            "  Implicitly References an Action? Yes\n",
            "  Uses Coded Language? Yes\n",
            "Person 2: **Paranoid** - Hesitant, speaks in short phrases, always worried about being watched or overheard.\n",
            "  Mentioned in Suspicious Context? Yes\n",
            "  Implicitly References an Action? No\n",
            "  Uses Coded Language? No\n",
            "Person 3: **Neutral** - Speaks in a balanced, careful manner, rarely stands out in the conversation.\n",
            "  Mentioned in Suspicious Context? Yes\n",
            "  Implicitly References an Action? Yes\n",
            "  Uses Coded Language? No\n",
            "Person 4: **Neutral** - Speaks in a balanced, careful manner, rarely stands out in the conversation.\n",
            "  Mentioned in Suspicious Context? No\n",
            "  Implicitly References an Action? Yes\n",
            "  Uses Coded Language? Yes\n",
            "Person 5: **Blunt** - Speaks without filtering, often saying things in a way that could be misinterpreted.\n",
            "  Mentioned in Suspicious Context? No\n",
            "  Implicitly References an Action? Yes\n",
            "  Uses Coded Language? No\n",
            "\n",
            "### **Construct a 33-message conversation with:**\n",
            "- **At least 17 Vague/Indirect Messages**\n",
            "- **Natural dialogue pacing (Dialogue should sound realistic and unplanned)**\n",
            "- **Hidden tension between some participants**\n",
            "- **Mixed levels of involvement** (some participants more engaged than others)\n",
            "- **Make up natural-sounding names for participants**\n",
            "- **Avoid excessive legal jargon** (conversations should feel natural)\n",
            "- **Provide only the text messages—no additional comments or explanations.**\n",
            "- **Leave gaps in information—avoid making things too obvious.**\n",
            "- **Keep sentences short, indirect, and open-ended.**\n",
            "\n",
            "Format STRICTLY as:\n",
            "[Message 1] <Speaker Name>: \"...\"\n",
            "[Message 2] <Speaker Name>: \"...\"\n",
            "\n"
          ]
        }
      ]
    },
    {
      "cell_type": "code",
      "execution_count": null,
      "metadata": {
        "id": "AhLvyQXFe4Gd"
      },
      "outputs": [],
      "source": [
        "# def prompt_string_formation(type_,data):\n",
        "#   if type_==\"victim\":\n",
        "#     filename = \"/content/true_positives_victims.txt\"\n",
        "#     dictionary_variable_1 = \"no_of_victims\"\n",
        "#     dictionary_variable_2=\"victim_{}\"\n",
        "#   else:\n",
        "#     filename = \"/content/true_positives_suspects.txt\"\n",
        "#     dictionary_variable_1 = \"no_of_suspects\"\n",
        "#     dictionary_variable_2=\"suspect_{}\"\n",
        "#   with open(filename, \"r\") as f:\n",
        "#     prompt_part = f.read()\n",
        "#   str_=\"\"\n",
        "#   for i in range(1,data[dictionary_variable_1]+1):\n",
        "#     if type_==\"victim\":\n",
        "#       str_+= prompt_part.format(i,data[dictionary_variable_2.format(i)][\"age\"],data[dictionary_variable_2.format(i)][\"gender\"],data[dictionary_variable_2.format(i)][\"occupation\"],data[dictionary_variable_2.format(i)][\"personality\"])\n",
        "#     else:\n",
        "#       str_+=prompt_part.format(i,data[dictionary_variable_2.format(i)][\"age\"],data[dictionary_variable_2.format(i)][\"gender\"],data[dictionary_variable_2.format(i)][\"physqiue\"],data[dictionary_variable_2.format(i)][\"occupation\"],data[dictionary_variable_2.format(i)][\"motivation\"],random.choice([\"low\",\"medium\",\"high\"]))\n",
        "#   return str_\n",
        "\n"
      ]
    },
    {
      "cell_type": "code",
      "execution_count": null,
      "metadata": {
        "id": "3c5y3GW0uPc5"
      },
      "outputs": [],
      "source": [
        "# str_=prompt_string_formation(\"suspect\",permutations[0])"
      ]
    },
    {
      "cell_type": "code",
      "execution_count": null,
      "metadata": {
        "id": "FX7FqOLpvtVq"
      },
      "outputs": [],
      "source": [
        "# print(str_)"
      ]
    },
    {
      "cell_type": "markdown",
      "metadata": {
        "id": "dbtgOmoo38c3"
      },
      "source": []
    },
    {
      "cell_type": "code",
      "execution_count": null,
      "metadata": {
        "id": "-PjLzXjfjYOz"
      },
      "outputs": [],
      "source": [
        "# def prompt(permutation):\n",
        "#   with open(\"/content/true_postive_first_part.txt\", \"r\") as f:\n",
        "#     true_positives_first_part = f.read()\n",
        "#   with open(\"/content/true_psoitives_last_part.txt\", \"r\") as f:\n",
        "#     true_positives_last_part = f.read()\n",
        "#   true_positives_first_part = true_positives_first_part.format(random.randint(1,permutation[\"no_of_suspects\"]),permutation[\"city\"],permutation[\"location\"],permutation[\"time\"],permutation[\"no_of_messages\"],permutation[\"no_of_people_in_conversation\"],permutation[\"no_of_victims\"],permutation[\"no_of_suspects\"],permutation[\"murder_method\"])\n",
        "#   true_positives_victims = prompt_string_formation(type_=\"victim\",data = permutation)\n",
        "#   true_positives_suspects = prompt_string_formation(type_=\"suspect\",data = permutation)\n",
        "#   true_positives_last_part = true_positives_last_part.format(random.randint(1,permutation[\"no_of_suspects\"]),permutation[\"no_of_suspects\"]-1,random.randint(3,7),random.randint(3,7),permutation[\"time\"],permutation[\"murder_method\"], permutation[\"victim_1\"][\"occupation\"],permutation[\"murder_method\"],permutation[\"no_of_messages\"],random.randint(1,4))\n",
        "#   return true_positives_first_part+true_positives_victims+ true_positives_suspects+true_positives_last_part"
      ]
    },
    {
      "cell_type": "code",
      "execution_count": null,
      "metadata": {
        "id": "t4OeTGr7f1Iy"
      },
      "outputs": [],
      "source": [
        "# prompt(permutations[0])"
      ]
    },
    {
      "cell_type": "code",
      "execution_count": null,
      "metadata": {
        "id": "5X5fS-Dcjbto"
      },
      "outputs": [],
      "source": [
        "def generate(prompt, gemini_model):\n",
        "  response = gemini_model.generate_content(contents= prompt)\n",
        "  return response.text"
      ]
    },
    {
      "cell_type": "code",
      "source": [
        "! pip install mistralai"
      ],
      "metadata": {
        "colab": {
          "base_uri": "https://localhost:8080/"
        },
        "id": "Dwo7_DeM3GmB",
        "outputId": "3c72b848-ff2b-4a2b-8186-11f718aa251b"
      },
      "execution_count": null,
      "outputs": [
        {
          "output_type": "stream",
          "name": "stdout",
          "text": [
            "Collecting mistralai\n",
            "  Downloading mistralai-1.5.1-py3-none-any.whl.metadata (29 kB)\n",
            "Collecting eval-type-backport>=0.2.0 (from mistralai)\n",
            "  Downloading eval_type_backport-0.2.2-py3-none-any.whl.metadata (2.2 kB)\n",
            "Requirement already satisfied: httpx>=0.27.0 in /usr/local/lib/python3.11/dist-packages (from mistralai) (0.28.1)\n",
            "Collecting jsonpath-python>=1.0.6 (from mistralai)\n",
            "  Downloading jsonpath_python-1.0.6-py3-none-any.whl.metadata (12 kB)\n",
            "Requirement already satisfied: pydantic>=2.9.0 in /usr/local/lib/python3.11/dist-packages (from mistralai) (2.10.6)\n",
            "Requirement already satisfied: python-dateutil>=2.8.2 in /usr/local/lib/python3.11/dist-packages (from mistralai) (2.8.2)\n",
            "Collecting typing-inspect>=0.9.0 (from mistralai)\n",
            "  Downloading typing_inspect-0.9.0-py3-none-any.whl.metadata (1.5 kB)\n",
            "Requirement already satisfied: anyio in /usr/local/lib/python3.11/dist-packages (from httpx>=0.27.0->mistralai) (3.7.1)\n",
            "Requirement already satisfied: certifi in /usr/local/lib/python3.11/dist-packages (from httpx>=0.27.0->mistralai) (2025.1.31)\n",
            "Requirement already satisfied: httpcore==1.* in /usr/local/lib/python3.11/dist-packages (from httpx>=0.27.0->mistralai) (1.0.7)\n",
            "Requirement already satisfied: idna in /usr/local/lib/python3.11/dist-packages (from httpx>=0.27.0->mistralai) (3.10)\n",
            "Requirement already satisfied: h11<0.15,>=0.13 in /usr/local/lib/python3.11/dist-packages (from httpcore==1.*->httpx>=0.27.0->mistralai) (0.14.0)\n",
            "Requirement already satisfied: annotated-types>=0.6.0 in /usr/local/lib/python3.11/dist-packages (from pydantic>=2.9.0->mistralai) (0.7.0)\n",
            "Requirement already satisfied: pydantic-core==2.27.2 in /usr/local/lib/python3.11/dist-packages (from pydantic>=2.9.0->mistralai) (2.27.2)\n",
            "Requirement already satisfied: typing-extensions>=4.12.2 in /usr/local/lib/python3.11/dist-packages (from pydantic>=2.9.0->mistralai) (4.12.2)\n",
            "Requirement already satisfied: six>=1.5 in /usr/local/lib/python3.11/dist-packages (from python-dateutil>=2.8.2->mistralai) (1.17.0)\n",
            "Collecting mypy-extensions>=0.3.0 (from typing-inspect>=0.9.0->mistralai)\n",
            "  Downloading mypy_extensions-1.0.0-py3-none-any.whl.metadata (1.1 kB)\n",
            "Requirement already satisfied: sniffio>=1.1 in /usr/local/lib/python3.11/dist-packages (from anyio->httpx>=0.27.0->mistralai) (1.3.1)\n",
            "Downloading mistralai-1.5.1-py3-none-any.whl (278 kB)\n",
            "\u001b[2K   \u001b[90m━━━━━━━━━━━━━━━━━━━━━━━━━━━━━━━━━━━━━━━━\u001b[0m \u001b[32m278.3/278.3 kB\u001b[0m \u001b[31m7.6 MB/s\u001b[0m eta \u001b[36m0:00:00\u001b[0m\n",
            "\u001b[?25hDownloading eval_type_backport-0.2.2-py3-none-any.whl (5.8 kB)\n",
            "Downloading jsonpath_python-1.0.6-py3-none-any.whl (7.6 kB)\n",
            "Downloading typing_inspect-0.9.0-py3-none-any.whl (8.8 kB)\n",
            "Downloading mypy_extensions-1.0.0-py3-none-any.whl (4.7 kB)\n",
            "Installing collected packages: mypy-extensions, jsonpath-python, eval-type-backport, typing-inspect, mistralai\n",
            "Successfully installed eval-type-backport-0.2.2 jsonpath-python-1.0.6 mistralai-1.5.1 mypy-extensions-1.0.0 typing-inspect-0.9.0\n"
          ]
        }
      ]
    },
    {
      "cell_type": "code",
      "execution_count": null,
      "metadata": {
        "id": "TlJjh-0OjiBr"
      },
      "outputs": [],
      "source": [
        "import time\n",
        "import csv\n",
        "import random\n",
        "from mistralai import Mistral\n",
        "\n",
        "# Token tracking\n",
        "tokens_used_last_minute = 0\n",
        "token_limit_per_minute = 500000\n",
        "safety_threshold = 5000  # Enforce pause before hitting the hard limit\n",
        "\n",
        "def ask_mistral_ambiguous(conversation, prompt_text):\n",
        "    \"\"\"Sends an ambiguous conversation to Mistral AI while handling rate limits.\"\"\"\n",
        "\n",
        "    global tokens_used_last_minute\n",
        "\n",
        "    model = \"mistral-large-latest\"\n",
        "    client = Mistral(api_key=mistral_key)\n",
        "\n",
        "    evaluation_prompt = f\"\"\"\n",
        "    You are an AI model evaluating a conversation for ambiguity and realism.\n",
        "\n",
        "    Below is the **conversation prompt** that was used to generate the dialogue:\n",
        "    {prompt_text}\n",
        "\n",
        "    And here is the **generated conversation**:\n",
        "    {conversation}\n",
        "\n",
        "    Answer the following questions with only **\"Yes\"** or **\"No\"**, strictly following the format:\n",
        "\n",
        "    **FORMAT:**\n",
        "    Ambiguity Maintained: Yes or No\n",
        "    Realistic Dialogue: Yes or No\n",
        "\n",
        "    **QUESTIONS:**\n",
        "    1️⃣ **Ambiguity Maintained** → Does the conversation leave room for multiple interpretations without making the meaning too obvious or too random?\n",
        "    2️⃣ **Realistic Dialogue** → Does the conversation feel realistic and natural?\n",
        "\n",
        "    **Your response MUST strictly follow this format (example response):**\n",
        "    Ambiguity Maintained: Yes\n",
        "    Realistic Dialogue: No\n",
        "    \"\"\"\n",
        "\n",
        "    # Estimate tokens\n",
        "    prompt_tokens = len(evaluation_prompt.split())  # Rough token count estimate\n",
        "    response_tokens = 10  # Expected short response\n",
        "\n",
        "    total_tokens = prompt_tokens + response_tokens\n",
        "\n",
        "    # **Rate Limit Check: Full Pause if nearing the limit**\n",
        "    if tokens_used_last_minute + total_tokens > safety_threshold:\n",
        "        print(f\"🚨 Nearing Token Limit ({tokens_used_last_minute} tokens used). Pausing for 60s...\")\n",
        "        time.sleep(60)\n",
        "        tokens_used_last_minute = 0  # Reset counter after full pause\n",
        "\n",
        "    # Call Mistral API\n",
        "    chat_response = client.chat.complete(\n",
        "        model=model,\n",
        "        messages=[{\"role\": \"user\", \"content\": evaluation_prompt}]\n",
        "    )\n",
        "\n",
        "    # Extract response\n",
        "    response_text = chat_response.choices[0].message.content.strip()\n",
        "\n",
        "    # Track used tokens\n",
        "    tokens_used_last_minute += total_tokens\n",
        "\n",
        "    # Ensure proper format\n",
        "    try:\n",
        "        lines = response_text.split(\"\\n\")\n",
        "        ambiguity_answer = lines[0].split(\":\")[1].strip()\n",
        "        realism_answer = lines[1].split(\":\")[1].strip()\n",
        "        return [ambiguity_answer, realism_answer]\n",
        "    except:\n",
        "        return [\"Error\", \"Error\"]\n",
        "\n"
      ]
    },
    {
      "cell_type": "code",
      "source": [
        "import csv\n",
        "\n",
        "def generate_ground_truth_ambiguous():\n",
        "  \"\"\"Evaluates ambiguous conversations with rate limiting (1 request per second).\"\"\"\n",
        "\n",
        "  ground_truth_data = []\n",
        "\n",
        "  with open(\"conversations.csv\", \"r\", encoding=\"utf-8\") as f:\n",
        "      reader = csv.reader(f)\n",
        "      next(reader)  # Skip header\n",
        "\n",
        "      for idx, row in enumerate(reader):\n",
        "          prompt_text, conversation = row\n",
        "          print(f\"🔍 Evaluating Conversation {idx + 1}: {prompt_text[:50]}...\")\n",
        "\n",
        "          eval_results = ask_mistral_ambiguous(conversation, prompt_text)\n",
        "          ground_truth_data.append([prompt_text, conversation, eval_results[0], eval_results[1]])\n",
        "\n",
        "          time.sleep(1.1)  # Wait 1.1 seconds to prevent hitting Mistral's 1 req/sec limit\n",
        "\n",
        "          # Batch Processing: Pause every 10 conversations to avoid being flagged\n",
        "          if (idx + 1) % 10 == 0:\n",
        "              pause_time = random.randint(5, 10)  # Random short break\n",
        "              print(f\"⏸️ Pausing for {pause_time} seconds to avoid rate limits...\")\n",
        "              time.sleep(pause_time)\n",
        "\n",
        "  with open(\"ambiguous_ground_truth.csv\", \"w+\", newline=\"\", encoding=\"utf-8\") as f:\n",
        "      writer = csv.writer(f)\n",
        "      writer.writerow([\"prompt\", \"conversation\", \"ambiguity_maintained\", \"realistic_dialogue\"])\n",
        "      writer.writerows(ground_truth_data)\n",
        "\n",
        "  print(\"✅ Ground truth results saved in 'ambiguous_ground_truth.csv'!\")"
      ],
      "metadata": {
        "id": "o9IjXsOAvVUX"
      },
      "execution_count": null,
      "outputs": []
    },
    {
      "cell_type": "code",
      "source": [
        "generate_ground_truth_ambiguous()"
      ],
      "metadata": {
        "colab": {
          "base_uri": "https://localhost:8080/"
        },
        "id": "4xUNLGIZvier",
        "outputId": "a77c6a3b-eae7-455c-ddc3-672b73f460c1"
      },
      "execution_count": null,
      "outputs": [
        {
          "output_type": "stream",
          "name": "stdout",
          "text": [
            "🔍 Evaluating Conversation 1: Location: Gas station\n",
            "Discussion Topic: World Even...\n",
            "🔍 Evaluating Conversation 2: Location: Pet store\n",
            "Discussion Topic: Relationship...\n",
            "🔍 Evaluating Conversation 3: Location: Electronics store\n",
            "Discussion Topic: Trav...\n",
            "🔍 Evaluating Conversation 4: Location: Dockyard\n",
            "Discussion Topic: Social Issues...\n",
            "🔍 Evaluating Conversation 5: Location: School hallway\n",
            "Discussion Topic: World E...\n",
            "🔍 Evaluating Conversation 6: Location: Museum\n",
            "Discussion Topic: Technology\n",
            "Conv...\n",
            "🚨 Nearing Token Limit (4288 tokens used). Pausing for 60s...\n",
            "🔍 Evaluating Conversation 7: Location: Tennis court\n",
            "Discussion Topic: Relations...\n",
            "🔍 Evaluating Conversation 8: Location: Jewelry store\n",
            "Discussion Topic: Fitness\n",
            "...\n",
            "🔍 Evaluating Conversation 9: Location: Beach\n",
            "Discussion Topic: Travel\n",
            "Conversat...\n",
            "🔍 Evaluating Conversation 10: Location: Bar\n",
            "Discussion Topic: Travel\n",
            "Conversatio...\n",
            "⏸️ Pausing for 7 seconds to avoid rate limits...\n",
            "🔍 Evaluating Conversation 11: Location: Football stadium\n",
            "Discussion Topic: Datin...\n",
            "🚨 Nearing Token Limit (4828 tokens used). Pausing for 60s...\n",
            "🔍 Evaluating Conversation 12: Location: Concert venue\n",
            "Discussion Topic: Technolo...\n",
            "🔍 Evaluating Conversation 13: Location: Campground\n",
            "Discussion Topic: Travel\n",
            "Conv...\n",
            "🔍 Evaluating Conversation 14: Location: Jewelry store\n",
            "Discussion Topic: Politics...\n",
            "🔍 Evaluating Conversation 15: Location: Concert venue\n",
            "Discussion Topic: Relation...\n",
            "🔍 Evaluating Conversation 16: Location: Farm\n",
            "Discussion Topic: Nutrition\n",
            "Convers...\n",
            "🚨 Nearing Token Limit (4457 tokens used). Pausing for 60s...\n",
            "🔍 Evaluating Conversation 17: Location: Bar\n",
            "Discussion Topic: Fitness\n",
            "Conversati...\n",
            "🔍 Evaluating Conversation 18: Location: Convention center\n",
            "Discussion Topic: Tech...\n",
            "🔍 Evaluating Conversation 19: Location: Bookstore\n",
            "Discussion Topic: Social Issue...\n",
            "🔍 Evaluating Conversation 20: Location: Gym\n",
            "Discussion Topic: Environmental Conc...\n",
            "⏸️ Pausing for 7 seconds to avoid rate limits...\n",
            "🔍 Evaluating Conversation 21: Location: Courthouse hallway\n",
            "Discussion Topic: Leg...\n",
            "🚨 Nearing Token Limit (4469 tokens used). Pausing for 60s...\n",
            "🔍 Evaluating Conversation 22: Location: Toy store\n",
            "Discussion Topic: Education\n",
            "Co...\n",
            "🔍 Evaluating Conversation 23: Location: Dentist's office waiting room\n",
            "Discussion...\n",
            "🔍 Evaluating Conversation 24: Location: Arcade\n",
            "Discussion Topic: Finances\n",
            "Conver...\n",
            "🔍 Evaluating Conversation 25: Location: Amusement park\n",
            "Discussion Topic: Politic...\n",
            "🔍 Evaluating Conversation 26: Location: Subway\n",
            "Discussion Topic: Religion\n",
            "Conver...\n",
            "🚨 Nearing Token Limit (4800 tokens used). Pausing for 60s...\n",
            "🔍 Evaluating Conversation 27: Location: Bar\n",
            "Discussion Topic: Environmental Conc...\n",
            "🔍 Evaluating Conversation 28: Location: Parking garage\n",
            "Discussion Topic: Religio...\n",
            "🔍 Evaluating Conversation 29: Location: Subway\n",
            "Discussion Topic: Environmental C...\n",
            "🔍 Evaluating Conversation 30: Location: Restaurant\n",
            "Discussion Topic: Technology\n",
            "...\n",
            "⏸️ Pausing for 6 seconds to avoid rate limits...\n",
            "🔍 Evaluating Conversation 31: Location: Thrift store\n",
            "Discussion Topic: Environme...\n",
            "🚨 Nearing Token Limit (4376 tokens used). Pausing for 60s...\n",
            "🔍 Evaluating Conversation 32: Location: Laundromat\n",
            "Discussion Topic: Politics\n",
            "Co...\n",
            "🔍 Evaluating Conversation 33: Location: Doctor's office waiting room\n",
            "Discussion ...\n",
            "🔍 Evaluating Conversation 34: Location: Hotel lobby\n",
            "Discussion Topic: Politics\n",
            "C...\n",
            "🔍 Evaluating Conversation 35: Location: Art gallery\n",
            "Discussion Topic: Education\n",
            "...\n",
            "🚨 Nearing Token Limit (4116 tokens used). Pausing for 60s...\n",
            "🔍 Evaluating Conversation 36: Location: Farm\n",
            "Discussion Topic: Dating\n",
            "Conversati...\n",
            "🔍 Evaluating Conversation 37: Location: Train station\n",
            "Discussion Topic: Politics...\n",
            "🔍 Evaluating Conversation 38: Location: Museum\n",
            "Discussion Topic: Legal Matters\n",
            "C...\n",
            "🔍 Evaluating Conversation 39: Location: Golf course\n",
            "Discussion Topic: Religion\n",
            "C...\n",
            "🚨 Nearing Token Limit (4611 tokens used). Pausing for 60s...\n",
            "🔍 Evaluating Conversation 40: Location: Thrift store\n",
            "Discussion Topic: Education...\n",
            "⏸️ Pausing for 7 seconds to avoid rate limits...\n",
            "🔍 Evaluating Conversation 41: Location: Parking lot\n",
            "Discussion Topic: Dating\n",
            "Con...\n",
            "🔍 Evaluating Conversation 42: Location: Airport\n",
            "Discussion Topic: Legal Matters\n",
            "...\n",
            "🔍 Evaluating Conversation 43: Location: Ferry\n",
            "Discussion Topic: Nutrition\n",
            "Conver...\n",
            "🔍 Evaluating Conversation 44: Location: Gas station\n",
            "Discussion Topic: Finances\n",
            "C...\n",
            "🚨 Nearing Token Limit (4645 tokens used). Pausing for 60s...\n",
            "🔍 Evaluating Conversation 45: Location: Library\n",
            "Discussion Topic: Legal Matters\n",
            "...\n",
            "🔍 Evaluating Conversation 46: Location: Food bank\n",
            "Discussion Topic: Travel\n",
            "Conve...\n",
            "🔍 Evaluating Conversation 47: Location: Gas station\n",
            "Discussion Topic: Relationsh...\n",
            "🔍 Evaluating Conversation 48: Location: Hiking trail\n",
            "Discussion Topic: Religion\n",
            "...\n",
            "🔍 Evaluating Conversation 49: Location: Study hall\n",
            "Discussion Topic: World Event...\n",
            "🚨 Nearing Token Limit (4109 tokens used). Pausing for 60s...\n",
            "🔍 Evaluating Conversation 50: Location: Hardware store\n",
            "Discussion Topic: Technol...\n",
            "⏸️ Pausing for 6 seconds to avoid rate limits...\n",
            "🔍 Evaluating Conversation 51: Location: Warehouse\n",
            "Discussion Topic: Legal Matter...\n",
            "🔍 Evaluating Conversation 52: Location: Clothing store\n",
            "Discussion Topic: Nutriti...\n",
            "🔍 Evaluating Conversation 53: Location: Conference room\n",
            "Discussion Topic: Politi...\n",
            "🚨 Nearing Token Limit (4275 tokens used). Pausing for 60s...\n",
            "🔍 Evaluating Conversation 54: Location: Arcade\n",
            "Discussion Topic: Social Issues\n",
            "C...\n",
            "🔍 Evaluating Conversation 55: Location: Swimming pool\n",
            "Discussion Topic: Travel\n",
            "C...\n",
            "🔍 Evaluating Conversation 56: Location: Bank\n",
            "Discussion Topic: Relationships\n",
            "Con...\n",
            "🔍 Evaluating Conversation 57: Location: Baseball field\n",
            "Discussion Topic: Politic...\n",
            "🚨 Nearing Token Limit (4964 tokens used). Pausing for 60s...\n",
            "🔍 Evaluating Conversation 58: Location: Train\n",
            "Discussion Topic: Parenting\n",
            "Conver...\n",
            "🔍 Evaluating Conversation 59: Location: Dockyard\n",
            "Discussion Topic: Social Issues...\n",
            "🔍 Evaluating Conversation 60: Location: Restaurant\n",
            "Discussion Topic: Legal Matte...\n",
            "⏸️ Pausing for 8 seconds to avoid rate limits...\n",
            "🔍 Evaluating Conversation 61: Location: University campus\n",
            "Discussion Topic: Dati...\n",
            "🔍 Evaluating Conversation 62: Location: Comic book store\n",
            "Discussion Topic: Relat...\n",
            "🚨 Nearing Token Limit (4259 tokens used). Pausing for 60s...\n",
            "🔍 Evaluating Conversation 63: Location: Bar\n",
            "Discussion Topic: Finances\n",
            "Conversat...\n",
            "🔍 Evaluating Conversation 64: Location: Parking lot\n",
            "Discussion Topic: Finances\n",
            "C...\n",
            "🔍 Evaluating Conversation 65: Location: Airplane\n",
            "Discussion Topic: Social Issues...\n",
            "🔍 Evaluating Conversation 66: Location: Construction site\n",
            "Discussion Topic: Soci...\n",
            "🚨 Nearing Token Limit (4365 tokens used). Pausing for 60s...\n",
            "🔍 Evaluating Conversation 67: Location: Furniture store\n",
            "Discussion Topic: Techno...\n",
            "🔍 Evaluating Conversation 68: Location: Library\n",
            "Discussion Topic: Social Issues\n",
            "...\n",
            "🔍 Evaluating Conversation 69: Location: Botanical garden\n",
            "Discussion Topic: Polit...\n",
            "🔍 Evaluating Conversation 70: Location: Board meeting room\n",
            "Discussion Topic: Wor...\n",
            "🚨 Nearing Token Limit (3867 tokens used). Pausing for 60s...\n",
            "⏸️ Pausing for 10 seconds to avoid rate limits...\n",
            "🔍 Evaluating Conversation 71: Location: Hotel lobby\n",
            "Discussion Topic: Religion\n",
            "C...\n",
            "🔍 Evaluating Conversation 72: Location: Dormitory\n",
            "Discussion Topic: Relationship...\n",
            "🔍 Evaluating Conversation 73: Location: Toy store\n",
            "Discussion Topic: Finances\n",
            "Con...\n",
            "🔍 Evaluating Conversation 74: Location: Zoo\n",
            "Discussion Topic: Finances\n",
            "Conversat...\n",
            "🚨 Nearing Token Limit (4635 tokens used). Pausing for 60s...\n",
            "🔍 Evaluating Conversation 75: Location: Swimming pool\n",
            "Discussion Topic: Environm...\n",
            "🔍 Evaluating Conversation 76: Location: Farm\n",
            "Discussion Topic: Finances\n",
            "Conversa...\n",
            "🔍 Evaluating Conversation 77: Location: Movie theater lobby\n",
            "Discussion Topic: Pa...\n",
            "🔍 Evaluating Conversation 78: Location: Electronics store\n",
            "Discussion Topic: Tech...\n",
            "🔍 Evaluating Conversation 79: Location: Zoo\n",
            "Discussion Topic: Parenting\n",
            "Conversa...\n",
            "🔍 Evaluating Conversation 80: Location: Pawn shop\n",
            "Discussion Topic: Social Issue...\n",
            "🚨 Nearing Token Limit (4925 tokens used). Pausing for 60s...\n",
            "⏸️ Pausing for 6 seconds to avoid rate limits...\n",
            "🔍 Evaluating Conversation 81: Location: Furniture store\n",
            "Discussion Topic: Techno...\n",
            "🔍 Evaluating Conversation 82: Location: Restaurant\n",
            "Discussion Topic: Relationshi...\n",
            "🔍 Evaluating Conversation 83: Location: Thrift store\n",
            "Discussion Topic: Travel\n",
            "Co...\n",
            "🔍 Evaluating Conversation 84: Location: Nursing home\n",
            "Discussion Topic: Parenting...\n",
            "🔍 Evaluating Conversation 85: Location: Jewelry store\n",
            "Discussion Topic: Fitness\n",
            "...\n",
            "🚨 Nearing Token Limit (4262 tokens used). Pausing for 60s...\n",
            "🔍 Evaluating Conversation 86: Location: Subway platform\n",
            "Discussion Topic: Politi...\n",
            "🔍 Evaluating Conversation 87: Location: Community center\n",
            "Discussion Topic: World...\n",
            "🔍 Evaluating Conversation 88: Location: Museum\n",
            "Discussion Topic: Education\n",
            "Conve...\n",
            "🔍 Evaluating Conversation 89: Location: Soccer field\n",
            "Discussion Topic: Social Is...\n",
            "🔍 Evaluating Conversation 90: Location: Electronics store\n",
            "Discussion Topic: Worl...\n",
            "🚨 Nearing Token Limit (4706 tokens used). Pausing for 60s...\n",
            "⏸️ Pausing for 5 seconds to avoid rate limits...\n",
            "🔍 Evaluating Conversation 91: Location: Construction site\n",
            "Discussion Topic: Envi...\n",
            "🔍 Evaluating Conversation 92: Location: Bowling alley\n",
            "Discussion Topic: Legal Ma...\n",
            "🔍 Evaluating Conversation 93: Location: University campus\n",
            "Discussion Topic: Fina...\n",
            "🔍 Evaluating Conversation 94: Location: Ferry\n",
            "Discussion Topic: Fitness\n",
            "Conversa...\n",
            "🚨 Nearing Token Limit (4365 tokens used). Pausing for 60s...\n",
            "🔍 Evaluating Conversation 95: Location: Baseball field\n",
            "Discussion Topic: Finance...\n",
            "🔍 Evaluating Conversation 96: Location: Factory floor\n",
            "Discussion Topic: Educatio...\n",
            "🔍 Evaluating Conversation 97: Location: Bus\n",
            "Discussion Topic: Politics\n",
            "Conversat...\n",
            "🔍 Evaluating Conversation 98: Location: Bar\n",
            "Discussion Topic: Technology\n",
            "Convers...\n",
            "🔍 Evaluating Conversation 99: Location: Courthouse hallway\n",
            "Discussion Topic: Rel...\n",
            "🚨 Nearing Token Limit (4140 tokens used). Pausing for 60s...\n",
            "🔍 Evaluating Conversation 100: Location: Parking garage\n",
            "Discussion Topic: Parenti...\n",
            "⏸️ Pausing for 6 seconds to avoid rate limits...\n",
            "🔍 Evaluating Conversation 101: Location: Post office\n",
            "Discussion Topic: Technology...\n",
            "🔍 Evaluating Conversation 102: Location: Dentist's office waiting room\n",
            "Discussion...\n",
            "🔍 Evaluating Conversation 103: Location: Homeless shelter\n",
            "Discussion Topic: Datin...\n",
            "🔍 Evaluating Conversation 104: Location: Office\n",
            "Discussion Topic: World Events\n",
            "Co...\n",
            "🚨 Nearing Token Limit (4426 tokens used). Pausing for 60s...\n",
            "🔍 Evaluating Conversation 105: Location: Bank\n",
            "Discussion Topic: Environmental Con...\n",
            "🔍 Evaluating Conversation 106: Location: Sorority house\n",
            "Discussion Topic: Educati...\n",
            "🔍 Evaluating Conversation 107: Location: Botanical garden\n",
            "Discussion Topic: Nutri...\n",
            "🔍 Evaluating Conversation 108: Location: Zoo\n",
            "Discussion Topic: Travel\n",
            "Conversatio...\n",
            "🚨 Nearing Token Limit (4457 tokens used). Pausing for 60s...\n",
            "🔍 Evaluating Conversation 109: Location: Pet store\n",
            "Discussion Topic: Politics\n",
            "Con...\n",
            "🔍 Evaluating Conversation 110: Location: Dormitory\n",
            "Discussion Topic: Politics\n",
            "Con...\n",
            "⏸️ Pausing for 10 seconds to avoid rate limits...\n",
            "🔍 Evaluating Conversation 111: Location: Community center\n",
            "Discussion Topic: Relat...\n",
            "🔍 Evaluating Conversation 112: Location: Craft store\n",
            "Discussion Topic: Dating\n",
            "Con...\n",
            "🚨 Nearing Token Limit (4276 tokens used). Pausing for 60s...\n",
            "🔍 Evaluating Conversation 113: Location: Grocery store\n",
            "Discussion Topic: Dating\n",
            "C...\n",
            "🔍 Evaluating Conversation 114: Location: Train station\n",
            "Discussion Topic: Relation...\n",
            "🔍 Evaluating Conversation 115: Location: Bus stop\n",
            "Discussion Topic: Technology\n",
            "Co...\n",
            "🔍 Evaluating Conversation 116: Location: Dockyard\n",
            "Discussion Topic: Politics\n",
            "Conv...\n",
            "🔍 Evaluating Conversation 117: Location: Airport\n",
            "Discussion Topic: Fitness\n",
            "Conver...\n",
            "🚨 Nearing Token Limit (4751 tokens used). Pausing for 60s...\n",
            "🔍 Evaluating Conversation 118: Location: Airplane\n",
            "Discussion Topic: Parenting\n",
            "Con...\n",
            "🔍 Evaluating Conversation 119: Location: Jewelry store\n",
            "Discussion Topic: Relation...\n",
            "🔍 Evaluating Conversation 120: Location: Airport\n",
            "Discussion Topic: Dating\n",
            "Convers...\n",
            "⏸️ Pausing for 10 seconds to avoid rate limits...\n",
            "🔍 Evaluating Conversation 121: Location: Subway\n",
            "Discussion Topic: Technology\n",
            "Conv...\n",
            "🚨 Nearing Token Limit (3865 tokens used). Pausing for 60s...\n",
            "🔍 Evaluating Conversation 122: Location: Gym\n",
            "Discussion Topic: Environmental Conc...\n",
            "🔍 Evaluating Conversation 123: Location: Bar\n",
            "Discussion Topic: Travel\n",
            "Conversatio...\n",
            "🔍 Evaluating Conversation 124: Location: Ski resort\n",
            "Discussion Topic: Travel\n",
            "Conv...\n",
            "🔍 Evaluating Conversation 125: Location: Arcade\n",
            "Discussion Topic: Fitness\n",
            "Convers...\n",
            "🔍 Evaluating Conversation 126: Location: Dry cleaner\n",
            "Discussion Topic: Finances\n",
            "C...\n",
            "🚨 Nearing Token Limit (4828 tokens used). Pausing for 60s...\n",
            "🔍 Evaluating Conversation 127: Location: Elevator\n",
            "Discussion Topic: World Events\n",
            "...\n",
            "🔍 Evaluating Conversation 128: Location: Post office\n",
            "Discussion Topic: Education\n",
            "...\n",
            "🔍 Evaluating Conversation 129: Location: Community center\n",
            "Discussion Topic: Nutri...\n",
            "🔍 Evaluating Conversation 130: Location: Soccer field\n",
            "Discussion Topic: Education...\n",
            "⏸️ Pausing for 7 seconds to avoid rate limits...\n",
            "🔍 Evaluating Conversation 131: Location: Hiking trail\n",
            "Discussion Topic: Legal Mat...\n",
            "🚨 Nearing Token Limit (4835 tokens used). Pausing for 60s...\n",
            "🔍 Evaluating Conversation 132: Location: Train station\n",
            "Discussion Topic: Technolo...\n",
            "🔍 Evaluating Conversation 133: Location: Bus stop\n",
            "Discussion Topic: Social Issues...\n",
            "🔍 Evaluating Conversation 134: Location: Subway\n",
            "Discussion Topic: Education\n",
            "Conve...\n",
            "🔍 Evaluating Conversation 135: Location: Campground\n",
            "Discussion Topic: Travel\n",
            "Conv...\n",
            "🔍 Evaluating Conversation 136: Location: Skating rink\n",
            "Discussion Topic: World Eve...\n",
            "🚨 Nearing Token Limit (4752 tokens used). Pausing for 60s...\n",
            "🔍 Evaluating Conversation 137: Location: Movie theater lobby\n",
            "Discussion Topic: Po...\n",
            "🔍 Evaluating Conversation 138: Location: Museum\n",
            "Discussion Topic: Dating\n",
            "Conversa...\n",
            "🔍 Evaluating Conversation 139: Location: Bus\n",
            "Discussion Topic: Dating\n",
            "Conversatio...\n",
            "🔍 Evaluating Conversation 140: Location: Courthouse hallway\n",
            "Discussion Topic: Dat...\n",
            "🚨 Nearing Token Limit (4447 tokens used). Pausing for 60s...\n",
            "⏸️ Pausing for 7 seconds to avoid rate limits...\n",
            "🔍 Evaluating Conversation 141: Location: Train\n",
            "Discussion Topic: Social Issues\n",
            "Co...\n",
            "🔍 Evaluating Conversation 142: Location: Elevator\n",
            "Discussion Topic: Legal Matters...\n",
            "🔍 Evaluating Conversation 143: Location: Aquarium\n",
            "Discussion Topic: Technology\n",
            "Co...\n",
            "🔍 Evaluating Conversation 144: Location: Record store\n",
            "Discussion Topic: World Eve...\n",
            "🔍 Evaluating Conversation 145: Location: Doctor's office waiting room\n",
            "Discussion ...\n",
            "🔍 Evaluating Conversation 146: Location: Amusement park\n",
            "Discussion Topic: Relatio...\n",
            "🚨 Nearing Token Limit (4973 tokens used). Pausing for 60s...\n",
            "🔍 Evaluating Conversation 147: Location: Skating rink\n",
            "Discussion Topic: Finances\n",
            "...\n",
            "🔍 Evaluating Conversation 148: Location: Conference room\n",
            "Discussion Topic: Dating...\n",
            "🔍 Evaluating Conversation 149: Location: Food bank\n",
            "Discussion Topic: Dating\n",
            "Conve...\n",
            "🔍 Evaluating Conversation 150: Location: Art supply store\n",
            "Discussion Topic: Socia...\n",
            "⏸️ Pausing for 9 seconds to avoid rate limits...\n",
            "🔍 Evaluating Conversation 151: Location: Bus stop\n",
            "Discussion Topic: Nutrition\n",
            "Con...\n",
            "🚨 Nearing Token Limit (4710 tokens used). Pausing for 60s...\n",
            "🔍 Evaluating Conversation 152: Location: Airport\n",
            "Discussion Topic: Religion\n",
            "Conve...\n",
            "🔍 Evaluating Conversation 153: Location: Concert venue\n",
            "Discussion Topic: Technolo...\n",
            "🔍 Evaluating Conversation 154: Location: Flower shop\n",
            "Discussion Topic: Social Iss...\n",
            "🔍 Evaluating Conversation 155: Location: Dockyard\n",
            "Discussion Topic: Fitness\n",
            "Conve...\n",
            "🔍 Evaluating Conversation 156: Location: Retirement home\n",
            "Discussion Topic: Religi...\n",
            "🔍 Evaluating Conversation 157: Location: Gift shop\n",
            "Discussion Topic: Education\n",
            "Co...\n",
            "🚨 Nearing Token Limit (4995 tokens used). Pausing for 60s...\n",
            "🔍 Evaluating Conversation 158: Location: Bowling alley\n",
            "Discussion Topic: Technolo...\n",
            "🔍 Evaluating Conversation 159: Location: Furniture store\n",
            "Discussion Topic: Educat...\n",
            "🔍 Evaluating Conversation 160: Location: Botanical garden\n",
            "Discussion Topic: Datin...\n",
            "⏸️ Pausing for 10 seconds to avoid rate limits...\n",
            "🔍 Evaluating Conversation 161: Location: Board meeting room\n",
            "Discussion Topic: Leg...\n",
            "🔍 Evaluating Conversation 162: Location: Dry cleaner\n",
            "Discussion Topic: Finances\n",
            "C...\n",
            "🚨 Nearing Token Limit (4420 tokens used). Pausing for 60s...\n",
            "🔍 Evaluating Conversation 163: Location: Retirement home\n",
            "Discussion Topic: Politi...\n",
            "🔍 Evaluating Conversation 164: Location: Bowling alley\n",
            "Discussion Topic: Fitness\n",
            "...\n",
            "🔍 Evaluating Conversation 165: Location: Electronics store\n",
            "Discussion Topic: Nutr...\n",
            "🚨 Nearing Token Limit (3550 tokens used). Pausing for 60s...\n",
            "🔍 Evaluating Conversation 166: Location: Soup kitchen\n",
            "Discussion Topic: Technolog...\n",
            "🔍 Evaluating Conversation 167: Location: Dormitory\n",
            "Discussion Topic: Finances\n",
            "Con...\n",
            "🔍 Evaluating Conversation 168: Location: Soup kitchen\n",
            "Discussion Topic: Fitness\n",
            "C...\n",
            "🔍 Evaluating Conversation 169: Location: Train\n",
            "Discussion Topic: Social Issues\n",
            "Co...\n",
            "🚨 Nearing Token Limit (4362 tokens used). Pausing for 60s...\n",
            "🔍 Evaluating Conversation 170: Location: Skating rink\n",
            "Discussion Topic: Travel\n",
            "Co...\n",
            "⏸️ Pausing for 10 seconds to avoid rate limits...\n",
            "🔍 Evaluating Conversation 171: Location: Doctor's office waiting room\n",
            "Discussion ...\n",
            "🔍 Evaluating Conversation 172: Location: Restaurant\n",
            "Discussion Topic: Fitness\n",
            "Con...\n",
            "🔍 Evaluating Conversation 173: Location: Beach\n",
            "Discussion Topic: Dating\n",
            "Conversat...\n",
            "🔍 Evaluating Conversation 174: Location: Hair salon\n",
            "Discussion Topic: Relationshi...\n",
            "🔍 Evaluating Conversation 175: Location: Antique store\n",
            "Discussion Topic: Politics...\n",
            "🚨 Nearing Token Limit (4973 tokens used). Pausing for 60s...\n",
            "🔍 Evaluating Conversation 176: Location: Post office\n",
            "Discussion Topic: Education\n",
            "...\n",
            "🔍 Evaluating Conversation 177: Location: Bank\n",
            "Discussion Topic: Education\n",
            "Convers...\n",
            "🔍 Evaluating Conversation 178: Location: Bookstore\n",
            "Discussion Topic: Travel\n",
            "Conve...\n",
            "🔍 Evaluating Conversation 179: Location: Elevator\n",
            "Discussion Topic: Environmental...\n",
            "🔍 Evaluating Conversation 180: Location: Art supply store\n",
            "Discussion Topic: Techn...\n",
            "🚨 Nearing Token Limit (4767 tokens used). Pausing for 60s...\n",
            "⏸️ Pausing for 9 seconds to avoid rate limits...\n",
            "🔍 Evaluating Conversation 181: Location: Skating rink\n",
            "Discussion Topic: Nutrition...\n",
            "🔍 Evaluating Conversation 182: Location: Pawn shop\n",
            "Discussion Topic: Environmenta...\n",
            "🔍 Evaluating Conversation 183: Location: Gas station\n",
            "Discussion Topic: Social Iss...\n",
            "🔍 Evaluating Conversation 184: Location: Flower shop\n",
            "Discussion Topic: Environmen...\n",
            "🔍 Evaluating Conversation 185: Location: Dentist's office waiting room\n",
            "Discussion...\n",
            "🚨 Nearing Token Limit (3891 tokens used). Pausing for 60s...\n",
            "🔍 Evaluating Conversation 186: Location: School hallway\n",
            "Discussion Topic: Travel\n",
            "...\n",
            "🔍 Evaluating Conversation 187: Location: Bowling alley\n",
            "Discussion Topic: Technolo...\n",
            "🔍 Evaluating Conversation 188: Location: Clothing store\n",
            "Discussion Topic: Religio...\n",
            "🔍 Evaluating Conversation 189: Location: School hallway\n",
            "Discussion Topic: Parenti...\n",
            "🚨 Nearing Token Limit (4089 tokens used). Pausing for 60s...\n",
            "🔍 Evaluating Conversation 190: Location: Botanical garden\n",
            "Discussion Topic: Nutri...\n",
            "⏸️ Pausing for 6 seconds to avoid rate limits...\n",
            "🔍 Evaluating Conversation 191: Location: Sorority house\n",
            "Discussion Topic: Technol...\n",
            "🔍 Evaluating Conversation 192: Location: Dentist's office waiting room\n",
            "Discussion...\n",
            "🔍 Evaluating Conversation 193: Location: Courthouse hallway\n",
            "Discussion Topic: Soc...\n",
            "🚨 Nearing Token Limit (4404 tokens used). Pausing for 60s...\n",
            "🔍 Evaluating Conversation 194: Location: Soccer field\n",
            "Discussion Topic: Travel\n",
            "Co...\n",
            "🔍 Evaluating Conversation 195: Location: Basketball court\n",
            "Discussion Topic: Educa...\n",
            "🔍 Evaluating Conversation 196: Location: Hardware store\n",
            "Discussion Topic: Fitness...\n",
            "🔍 Evaluating Conversation 197: Location: Subway\n",
            "Discussion Topic: Religion\n",
            "Conver...\n",
            "🔍 Evaluating Conversation 198: Location: Craft store\n",
            "Discussion Topic: Environmen...\n",
            "🚨 Nearing Token Limit (4540 tokens used). Pausing for 60s...\n",
            "🔍 Evaluating Conversation 199: Location: Thrift store\n",
            "Discussion Topic: Nutrition...\n",
            "🔍 Evaluating Conversation 200: Location: Sorority house\n",
            "Discussion Topic: Legal M...\n",
            "⏸️ Pausing for 10 seconds to avoid rate limits...\n",
            "✅ Ground truth results saved in 'ambiguous_ground_truth.csv'!\n"
          ]
        }
      ]
    },
    {
      "cell_type": "code",
      "source": [
        "! pip install pandas"
      ],
      "metadata": {
        "colab": {
          "base_uri": "https://localhost:8080/"
        },
        "id": "j1veIAsaR-UO",
        "outputId": "398fe477-729f-4eed-bf56-9086e62aa87e"
      },
      "execution_count": null,
      "outputs": [
        {
          "output_type": "stream",
          "name": "stdout",
          "text": [
            "Requirement already satisfied: pandas in /usr/local/lib/python3.11/dist-packages (2.2.2)\n",
            "Requirement already satisfied: numpy>=1.23.2 in /usr/local/lib/python3.11/dist-packages (from pandas) (1.26.4)\n",
            "Requirement already satisfied: python-dateutil>=2.8.2 in /usr/local/lib/python3.11/dist-packages (from pandas) (2.8.2)\n",
            "Requirement already satisfied: pytz>=2020.1 in /usr/local/lib/python3.11/dist-packages (from pandas) (2025.1)\n",
            "Requirement already satisfied: tzdata>=2022.7 in /usr/local/lib/python3.11/dist-packages (from pandas) (2025.1)\n",
            "Requirement already satisfied: six>=1.5 in /usr/local/lib/python3.11/dist-packages (from python-dateutil>=2.8.2->pandas) (1.17.0)\n"
          ]
        }
      ]
    },
    {
      "cell_type": "code",
      "source": [
        "import pandas as pd\n",
        "\n",
        "def analyze_results():\n",
        "  df = pd.read_csv(\"ambiguous_ground_truth.csv\")\n",
        "\n",
        "  # Ensure column names are correct\n",
        "  expected_columns = [\"prompt\", \"conversation\", \"ambiguity_maintained\", \"realistic_dialogue\"]\n",
        "  if not all(col in df.columns for col in expected_columns):\n",
        "      print(\"⚠️ Column names might be incorrect. Check CSV format.\")\n",
        "  else:\n",
        "      # Total conversations evaluated\n",
        "      total_conversations = len(df)\n",
        "\n",
        "      # Count Yes/No for Ambiguity\n",
        "      ambiguity_yes = (df[\"ambiguity_maintained\"] == \"Yes\").sum()\n",
        "      ambiguity_no = (df[\"ambiguity_maintained\"] == \"No\").sum()\n",
        "      ambiguity_error = (df[\"ambiguity_maintained\"] == \"Error\").sum()\n",
        "\n",
        "      # Count Yes/No for Realism\n",
        "      realism_yes = (df[\"realistic_dialogue\"] == \"Yes\").sum()\n",
        "      realism_no = (df[\"realistic_dialogue\"] == \"No\").sum()\n",
        "      realism_error = (df[\"realistic_dialogue\"] == \"Error\").sum()\n",
        "\n",
        "      # Calculate percentages\n",
        "      ambiguity_yes_pct = (ambiguity_yes / total_conversations) * 100\n",
        "      ambiguity_no_pct = (ambiguity_no / total_conversations) * 100\n",
        "      realism_yes_pct = (realism_yes / total_conversations) * 100\n",
        "      realism_no_pct = (realism_no / total_conversations) * 100\n",
        "      ambiguity_error_pct = (ambiguity_error / total_conversations) * 100\n",
        "      realism_error_pct = (realism_error / total_conversations) * 100\n",
        "\n",
        "      # Display results\n",
        "      print(f\"**Evaluation Results for {total_conversations} Conversations**\")\n",
        "      print(f\"-----------------------------------------\")\n",
        "      print(f\"🔹 **Ambiguity Maintained**: Yes = {ambiguity_yes} ({ambiguity_yes_pct:.2f}%) | No = {ambiguity_no} ({ambiguity_no_pct:.2f}%) | Error = {ambiguity_error} ({ambiguity_error_pct:.2f}%)\")\n",
        "      print(f\"🔹 **Realistic Dialogue**: Yes = {realism_yes} ({realism_yes_pct:.2f}%) | No = {realism_no} ({realism_no_pct:.2f}%) | Error = {realism_error} ({realism_error_pct:.2f}%)\")\n",
        "      print(f\"-----------------------------------------\")"
      ],
      "metadata": {
        "id": "qMaciVDyRkgx"
      },
      "execution_count": null,
      "outputs": []
    },
    {
      "cell_type": "code",
      "source": [
        "analyze_results()"
      ],
      "metadata": {
        "colab": {
          "base_uri": "https://localhost:8080/"
        },
        "id": "3I8ZXLK5SEJ9",
        "outputId": "0303a2c6-5a47-4201-eb6c-e57dc79407fb"
      },
      "execution_count": null,
      "outputs": [
        {
          "output_type": "stream",
          "name": "stdout",
          "text": [
            "**Evaluation Results for 200 Conversations**\n",
            "-----------------------------------------\n",
            "🔹 **Ambiguity Maintained**: Yes = 199 (99.50%) | No = 0 (0.00%) | Error = 1 (0.50%)\n",
            "🔹 **Realistic Dialogue**: Yes = 199 (99.50%) | No = 0 (0.00%) | Error = 1 (0.50%)\n",
            "-----------------------------------------\n"
          ]
        }
      ]
    },
    {
      "cell_type": "code",
      "execution_count": null,
      "metadata": {
        "id": "ZB5SJi84joPW"
      },
      "outputs": [],
      "source": [
        "def save_messages_as_csv():\n",
        "  prompts = []\n",
        "  conversations = []\n",
        "\n",
        "  with open(\"ambiguous_conversations.json\", \"r\") as f:\n",
        "      permutations = json.load(f)\n",
        "\n",
        "  for num, permutation in enumerate(permutations):\n",
        "      prompt_text = prompt(permutation)  # Generate the formatted prompt\n",
        "      prompts.append(prompt_text)\n",
        "\n",
        "      conversation = generate(prompt_text, gemini_model)  # Generate conversation\n",
        "      conversations.append(conversation)\n",
        "\n",
        "      print(f\"✅ Conversation {num+1} generated!\")\n",
        "\n",
        "  # Save to CSV with UTF-8 encoding\n",
        "  with open(\"conversations.csv\", \"w+\", newline='', encoding=\"utf-8\") as f:\n",
        "      writer = csv.writer(f)\n",
        "      writer.writerow([\"prompt\", \"conversation\"])\n",
        "      for _prompt, conversation in zip(prompts, conversations):\n",
        "          writer.writerow([_prompt, f'\"\"\"{conversation}\"\"\"'])  # Fixes newline issues\n",
        "\n",
        "  print(\"✅ conversations.csv is saved!\")\n"
      ]
    },
    {
      "cell_type": "code",
      "execution_count": null,
      "metadata": {
        "colab": {
          "base_uri": "https://localhost:8080/",
          "height": 1000
        },
        "id": "_jSN1WH14sQ3",
        "outputId": "5e9f261b-3496-47fb-86ef-46d9a0f923a7"
      },
      "outputs": [
        {
          "output_type": "stream",
          "name": "stdout",
          "text": [
            "✅ Conversation 1 generated!\n",
            "✅ Conversation 2 generated!\n",
            "✅ Conversation 3 generated!\n",
            "✅ Conversation 4 generated!\n",
            "✅ Conversation 5 generated!\n",
            "✅ Conversation 6 generated!\n",
            "✅ Conversation 7 generated!\n",
            "✅ Conversation 8 generated!\n",
            "✅ Conversation 9 generated!\n",
            "✅ Conversation 10 generated!\n",
            "✅ Conversation 11 generated!\n",
            "✅ Conversation 12 generated!\n",
            "✅ Conversation 13 generated!\n",
            "✅ Conversation 14 generated!\n",
            "✅ Conversation 15 generated!\n",
            "✅ Conversation 16 generated!\n",
            "✅ Conversation 17 generated!\n",
            "✅ Conversation 18 generated!\n",
            "✅ Conversation 19 generated!\n",
            "✅ Conversation 20 generated!\n",
            "✅ Conversation 21 generated!\n",
            "✅ Conversation 22 generated!\n",
            "✅ Conversation 23 generated!\n",
            "✅ Conversation 24 generated!\n",
            "✅ Conversation 25 generated!\n",
            "✅ Conversation 26 generated!\n",
            "✅ Conversation 27 generated!\n",
            "✅ Conversation 28 generated!\n",
            "✅ Conversation 29 generated!\n",
            "✅ Conversation 30 generated!\n",
            "✅ Conversation 31 generated!\n",
            "✅ Conversation 32 generated!\n",
            "✅ Conversation 33 generated!\n",
            "✅ Conversation 34 generated!\n",
            "✅ Conversation 35 generated!\n",
            "✅ Conversation 36 generated!\n",
            "✅ Conversation 37 generated!\n",
            "✅ Conversation 38 generated!\n",
            "✅ Conversation 39 generated!\n",
            "✅ Conversation 40 generated!\n",
            "✅ Conversation 41 generated!\n",
            "✅ Conversation 42 generated!\n",
            "✅ Conversation 43 generated!\n",
            "✅ Conversation 44 generated!\n",
            "✅ Conversation 45 generated!\n",
            "✅ Conversation 46 generated!\n",
            "✅ Conversation 47 generated!\n",
            "✅ Conversation 48 generated!\n",
            "✅ Conversation 49 generated!\n",
            "✅ Conversation 50 generated!\n",
            "✅ Conversation 51 generated!\n",
            "✅ Conversation 52 generated!\n",
            "✅ Conversation 53 generated!\n",
            "✅ Conversation 54 generated!\n",
            "✅ Conversation 55 generated!\n",
            "✅ Conversation 56 generated!\n",
            "✅ Conversation 57 generated!\n",
            "✅ Conversation 58 generated!\n",
            "✅ Conversation 59 generated!\n",
            "✅ Conversation 60 generated!\n",
            "✅ Conversation 61 generated!\n",
            "✅ Conversation 62 generated!\n",
            "✅ Conversation 63 generated!\n",
            "✅ Conversation 64 generated!\n",
            "✅ Conversation 65 generated!\n",
            "✅ Conversation 66 generated!\n",
            "✅ Conversation 67 generated!\n",
            "✅ Conversation 68 generated!\n",
            "✅ Conversation 69 generated!\n",
            "✅ Conversation 70 generated!\n",
            "✅ Conversation 71 generated!\n",
            "✅ Conversation 72 generated!\n",
            "✅ Conversation 73 generated!\n",
            "✅ Conversation 74 generated!\n",
            "✅ Conversation 75 generated!\n",
            "✅ Conversation 76 generated!\n",
            "✅ Conversation 77 generated!\n",
            "✅ Conversation 78 generated!\n",
            "✅ Conversation 79 generated!\n",
            "✅ Conversation 80 generated!\n",
            "✅ Conversation 81 generated!\n",
            "✅ Conversation 82 generated!\n",
            "✅ Conversation 83 generated!\n",
            "✅ Conversation 84 generated!\n",
            "✅ Conversation 85 generated!\n",
            "✅ Conversation 86 generated!\n",
            "✅ Conversation 87 generated!\n",
            "✅ Conversation 88 generated!\n",
            "✅ Conversation 89 generated!\n",
            "✅ Conversation 90 generated!\n",
            "✅ Conversation 91 generated!\n",
            "✅ Conversation 92 generated!\n",
            "✅ Conversation 93 generated!\n",
            "✅ Conversation 94 generated!\n",
            "✅ Conversation 95 generated!\n",
            "✅ Conversation 96 generated!\n",
            "✅ Conversation 97 generated!\n",
            "✅ Conversation 98 generated!\n",
            "✅ Conversation 99 generated!\n",
            "✅ Conversation 100 generated!\n",
            "✅ Conversation 101 generated!\n",
            "✅ Conversation 102 generated!\n",
            "✅ Conversation 103 generated!\n",
            "✅ Conversation 104 generated!\n",
            "✅ Conversation 105 generated!\n",
            "✅ Conversation 106 generated!\n",
            "✅ Conversation 107 generated!\n",
            "✅ Conversation 108 generated!\n",
            "✅ Conversation 109 generated!\n",
            "✅ Conversation 110 generated!\n",
            "✅ Conversation 111 generated!\n",
            "✅ Conversation 112 generated!\n",
            "✅ Conversation 113 generated!\n",
            "✅ Conversation 114 generated!\n",
            "✅ Conversation 115 generated!\n",
            "✅ Conversation 116 generated!\n",
            "✅ Conversation 117 generated!\n",
            "✅ Conversation 118 generated!\n",
            "✅ Conversation 119 generated!\n",
            "✅ Conversation 120 generated!\n",
            "✅ Conversation 121 generated!\n",
            "✅ Conversation 122 generated!\n",
            "✅ Conversation 123 generated!\n",
            "✅ Conversation 124 generated!\n",
            "✅ Conversation 125 generated!\n",
            "✅ Conversation 126 generated!\n",
            "✅ Conversation 127 generated!\n",
            "✅ Conversation 128 generated!\n",
            "✅ Conversation 129 generated!\n",
            "✅ Conversation 130 generated!\n",
            "✅ Conversation 131 generated!\n",
            "✅ Conversation 132 generated!\n",
            "✅ Conversation 133 generated!\n",
            "✅ Conversation 134 generated!\n",
            "✅ Conversation 135 generated!\n",
            "✅ Conversation 136 generated!\n",
            "✅ Conversation 137 generated!\n",
            "✅ Conversation 138 generated!\n",
            "✅ Conversation 139 generated!\n",
            "✅ Conversation 140 generated!\n",
            "✅ Conversation 141 generated!\n",
            "✅ Conversation 142 generated!\n",
            "✅ Conversation 143 generated!\n",
            "✅ Conversation 144 generated!\n",
            "✅ Conversation 145 generated!\n",
            "✅ Conversation 146 generated!\n",
            "✅ Conversation 147 generated!\n",
            "✅ Conversation 148 generated!\n",
            "✅ Conversation 149 generated!\n",
            "✅ Conversation 150 generated!\n",
            "✅ Conversation 151 generated!\n",
            "✅ Conversation 152 generated!\n",
            "✅ Conversation 153 generated!\n",
            "✅ Conversation 154 generated!\n",
            "✅ Conversation 155 generated!\n",
            "✅ Conversation 156 generated!\n",
            "✅ Conversation 157 generated!\n",
            "✅ Conversation 158 generated!\n",
            "✅ Conversation 159 generated!\n",
            "✅ Conversation 160 generated!\n",
            "✅ Conversation 161 generated!\n",
            "✅ Conversation 162 generated!\n",
            "✅ Conversation 163 generated!\n",
            "✅ Conversation 164 generated!\n",
            "✅ Conversation 165 generated!\n",
            "✅ Conversation 166 generated!\n",
            "✅ Conversation 167 generated!\n",
            "✅ Conversation 168 generated!\n",
            "✅ Conversation 169 generated!\n",
            "✅ Conversation 170 generated!\n",
            "✅ Conversation 171 generated!\n",
            "✅ Conversation 172 generated!\n",
            "✅ Conversation 173 generated!\n",
            "✅ Conversation 174 generated!\n",
            "✅ Conversation 175 generated!\n",
            "✅ Conversation 176 generated!\n",
            "✅ Conversation 177 generated!\n",
            "✅ Conversation 178 generated!\n",
            "✅ Conversation 179 generated!\n",
            "✅ Conversation 180 generated!\n",
            "✅ Conversation 181 generated!\n",
            "✅ Conversation 182 generated!\n",
            "✅ Conversation 183 generated!\n",
            "✅ Conversation 184 generated!\n",
            "✅ Conversation 185 generated!\n",
            "✅ Conversation 186 generated!\n",
            "✅ Conversation 187 generated!\n",
            "✅ Conversation 188 generated!\n",
            "✅ Conversation 189 generated!\n",
            "✅ Conversation 190 generated!\n",
            "✅ Conversation 191 generated!\n",
            "✅ Conversation 192 generated!\n",
            "✅ Conversation 193 generated!\n",
            "✅ Conversation 194 generated!\n",
            "✅ Conversation 195 generated!\n",
            "✅ Conversation 196 generated!\n",
            "✅ Conversation 197 generated!\n",
            "✅ Conversation 198 generated!\n",
            "✅ Conversation 199 generated!\n",
            "✅ Conversation 200 generated!\n",
            "✅ conversations.csv is saved!\n"
          ]
        }
      ],
      "source": [
        "save_messages_as_csv()"
      ]
    }
  ],
  "metadata": {
    "colab": {
      "provenance": []
    },
    "kernelspec": {
      "display_name": "Python 3",
      "name": "python3"
    },
    "language_info": {
      "name": "python"
    }
  },
  "nbformat": 4,
  "nbformat_minor": 0
}